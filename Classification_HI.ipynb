{
 "cells": [
  {
   "cell_type": "code",
   "execution_count": 1,
   "id": "4659445c",
   "metadata": {},
   "outputs": [],
   "source": [
    "# see the value of multiple statements at once\n",
    "# output for all commands in python jupyter notebook\n",
    "\n",
    "from IPython.core.interactiveshell import InteractiveShell\n",
    "InteractiveShell.ast_node_interactivity = \"all\""
   ]
  },
  {
   "cell_type": "code",
   "execution_count": 2,
   "id": "be1c7d3c",
   "metadata": {},
   "outputs": [],
   "source": [
    "# to suppress the warnings\n",
    "\n",
    "import warnings\n",
    "warnings.filterwarnings('ignore')"
   ]
  },
  {
   "cell_type": "markdown",
   "id": "e3bd9832",
   "metadata": {},
   "source": [
    "# Importing Required Packages"
   ]
  },
  {
   "cell_type": "code",
   "execution_count": 3,
   "id": "2f3b4342",
   "metadata": {},
   "outputs": [],
   "source": [
    "# Import required packages\n",
    "\n",
    "import numpy as np\n",
    "import pandas as pd\n",
    "import matplotlib.pyplot as plt\n",
    "import matplotlib.cm as cm\n",
    "import seaborn as sns\n",
    "import math\n",
    "import time\n",
    "\n",
    "# This magic command line tells the notebook to show plots inline\n",
    "%matplotlib inline\n",
    "\n",
    "# Set a style/theme to the plots\n",
    "sns.set_style(style='darkgrid')\n",
    "plt.style.use('ggplot')"
   ]
  },
  {
   "cell_type": "markdown",
   "id": "46ac67bf",
   "metadata": {},
   "source": [
    "# Load Dataset"
   ]
  },
  {
   "cell_type": "code",
   "execution_count": 4,
   "id": "99d798b3",
   "metadata": {},
   "outputs": [],
   "source": [
    "train = pd.read_csv('train.csv',header=0)"
   ]
  },
  {
   "cell_type": "markdown",
   "id": "1a634f11",
   "metadata": {},
   "source": [
    "## Summarize Data"
   ]
  },
  {
   "cell_type": "code",
   "execution_count": 5,
   "id": "859aeaed",
   "metadata": {},
   "outputs": [
    {
     "data": {
      "text/html": [
       "<div>\n",
       "<style scoped>\n",
       "    .dataframe tbody tr th:only-of-type {\n",
       "        vertical-align: middle;\n",
       "    }\n",
       "\n",
       "    .dataframe tbody tr th {\n",
       "        vertical-align: top;\n",
       "    }\n",
       "\n",
       "    .dataframe thead th {\n",
       "        text-align: right;\n",
       "    }\n",
       "</style>\n",
       "<table border=\"1\" class=\"dataframe\">\n",
       "  <thead>\n",
       "    <tr style=\"text-align: right;\">\n",
       "      <th></th>\n",
       "      <th>Unnamed: 0</th>\n",
       "      <th>ID</th>\n",
       "      <th>City_Code</th>\n",
       "      <th>Region_Code</th>\n",
       "      <th>Accomodation_Type</th>\n",
       "      <th>Reco_Insurance_Type</th>\n",
       "      <th>Upper_Age</th>\n",
       "      <th>Lower_Age</th>\n",
       "      <th>Is_Spouse</th>\n",
       "      <th>Health Indicator</th>\n",
       "      <th>Holding_Policy_Duration</th>\n",
       "      <th>Holding_Policy_Type</th>\n",
       "      <th>Reco_Policy_Cat</th>\n",
       "      <th>Reco_Policy_Premium</th>\n",
       "      <th>Response</th>\n",
       "    </tr>\n",
       "  </thead>\n",
       "  <tbody>\n",
       "    <tr>\n",
       "      <th>0</th>\n",
       "      <td>27385</td>\n",
       "      <td>27386</td>\n",
       "      <td>C3</td>\n",
       "      <td>64</td>\n",
       "      <td>Owned</td>\n",
       "      <td>Individual</td>\n",
       "      <td>36</td>\n",
       "      <td>36</td>\n",
       "      <td>No</td>\n",
       "      <td>X1</td>\n",
       "      <td>14+</td>\n",
       "      <td>2.0</td>\n",
       "      <td>16</td>\n",
       "      <td>13320.0</td>\n",
       "      <td>0</td>\n",
       "    </tr>\n",
       "    <tr>\n",
       "      <th>1</th>\n",
       "      <td>33499</td>\n",
       "      <td>33500</td>\n",
       "      <td>C3</td>\n",
       "      <td>2955</td>\n",
       "      <td>Owned</td>\n",
       "      <td>Individual</td>\n",
       "      <td>66</td>\n",
       "      <td>66</td>\n",
       "      <td>No</td>\n",
       "      <td>X6</td>\n",
       "      <td>10</td>\n",
       "      <td>1.0</td>\n",
       "      <td>19</td>\n",
       "      <td>16152.0</td>\n",
       "      <td>0</td>\n",
       "    </tr>\n",
       "    <tr>\n",
       "      <th>2</th>\n",
       "      <td>7997</td>\n",
       "      <td>7998</td>\n",
       "      <td>C1</td>\n",
       "      <td>1542</td>\n",
       "      <td>Rented</td>\n",
       "      <td>Individual</td>\n",
       "      <td>24</td>\n",
       "      <td>24</td>\n",
       "      <td>No</td>\n",
       "      <td>NaN</td>\n",
       "      <td>3</td>\n",
       "      <td>1.0</td>\n",
       "      <td>16</td>\n",
       "      <td>7310.0</td>\n",
       "      <td>0</td>\n",
       "    </tr>\n",
       "    <tr>\n",
       "      <th>3</th>\n",
       "      <td>33032</td>\n",
       "      <td>33033</td>\n",
       "      <td>C26</td>\n",
       "      <td>772</td>\n",
       "      <td>Rented</td>\n",
       "      <td>Individual</td>\n",
       "      <td>75</td>\n",
       "      <td>75</td>\n",
       "      <td>No</td>\n",
       "      <td>X1</td>\n",
       "      <td>1</td>\n",
       "      <td>3.0</td>\n",
       "      <td>16</td>\n",
       "      <td>15792.0</td>\n",
       "      <td>0</td>\n",
       "    </tr>\n",
       "    <tr>\n",
       "      <th>4</th>\n",
       "      <td>30516</td>\n",
       "      <td>30517</td>\n",
       "      <td>C2</td>\n",
       "      <td>1510</td>\n",
       "      <td>Owned</td>\n",
       "      <td>Joint</td>\n",
       "      <td>59</td>\n",
       "      <td>58</td>\n",
       "      <td>Yes</td>\n",
       "      <td>X1</td>\n",
       "      <td>14+</td>\n",
       "      <td>4.0</td>\n",
       "      <td>17</td>\n",
       "      <td>23673.0</td>\n",
       "      <td>0</td>\n",
       "    </tr>\n",
       "    <tr>\n",
       "      <th>...</th>\n",
       "      <td>...</td>\n",
       "      <td>...</td>\n",
       "      <td>...</td>\n",
       "      <td>...</td>\n",
       "      <td>...</td>\n",
       "      <td>...</td>\n",
       "      <td>...</td>\n",
       "      <td>...</td>\n",
       "      <td>...</td>\n",
       "      <td>...</td>\n",
       "      <td>...</td>\n",
       "      <td>...</td>\n",
       "      <td>...</td>\n",
       "      <td>...</td>\n",
       "      <td>...</td>\n",
       "    </tr>\n",
       "    <tr>\n",
       "      <th>9995</th>\n",
       "      <td>5203</td>\n",
       "      <td>5204</td>\n",
       "      <td>C3</td>\n",
       "      <td>13</td>\n",
       "      <td>Owned</td>\n",
       "      <td>Joint</td>\n",
       "      <td>47</td>\n",
       "      <td>40</td>\n",
       "      <td>Yes</td>\n",
       "      <td>X5</td>\n",
       "      <td>NaN</td>\n",
       "      <td>NaN</td>\n",
       "      <td>19</td>\n",
       "      <td>27840.0</td>\n",
       "      <td>1</td>\n",
       "    </tr>\n",
       "    <tr>\n",
       "      <th>9996</th>\n",
       "      <td>35448</td>\n",
       "      <td>35449</td>\n",
       "      <td>C5</td>\n",
       "      <td>1477</td>\n",
       "      <td>Rented</td>\n",
       "      <td>Individual</td>\n",
       "      <td>34</td>\n",
       "      <td>34</td>\n",
       "      <td>No</td>\n",
       "      <td>NaN</td>\n",
       "      <td>6</td>\n",
       "      <td>1.0</td>\n",
       "      <td>4</td>\n",
       "      <td>10560.0</td>\n",
       "      <td>0</td>\n",
       "    </tr>\n",
       "    <tr>\n",
       "      <th>9997</th>\n",
       "      <td>47253</td>\n",
       "      <td>47254</td>\n",
       "      <td>C1</td>\n",
       "      <td>2357</td>\n",
       "      <td>Owned</td>\n",
       "      <td>Individual</td>\n",
       "      <td>64</td>\n",
       "      <td>64</td>\n",
       "      <td>No</td>\n",
       "      <td>X1</td>\n",
       "      <td>8</td>\n",
       "      <td>2.0</td>\n",
       "      <td>19</td>\n",
       "      <td>14716.0</td>\n",
       "      <td>0</td>\n",
       "    </tr>\n",
       "    <tr>\n",
       "      <th>9998</th>\n",
       "      <td>42544</td>\n",
       "      <td>42545</td>\n",
       "      <td>C1</td>\n",
       "      <td>1443</td>\n",
       "      <td>Rented</td>\n",
       "      <td>Individual</td>\n",
       "      <td>53</td>\n",
       "      <td>53</td>\n",
       "      <td>No</td>\n",
       "      <td>X5</td>\n",
       "      <td>14+</td>\n",
       "      <td>3.0</td>\n",
       "      <td>13</td>\n",
       "      <td>11664.0</td>\n",
       "      <td>0</td>\n",
       "    </tr>\n",
       "    <tr>\n",
       "      <th>9999</th>\n",
       "      <td>7864</td>\n",
       "      <td>7865</td>\n",
       "      <td>C7</td>\n",
       "      <td>1476</td>\n",
       "      <td>Owned</td>\n",
       "      <td>Joint</td>\n",
       "      <td>56</td>\n",
       "      <td>47</td>\n",
       "      <td>Yes</td>\n",
       "      <td>X2</td>\n",
       "      <td>14+</td>\n",
       "      <td>3.0</td>\n",
       "      <td>10</td>\n",
       "      <td>28752.0</td>\n",
       "      <td>0</td>\n",
       "    </tr>\n",
       "  </tbody>\n",
       "</table>\n",
       "<p>10000 rows × 15 columns</p>\n",
       "</div>"
      ],
      "text/plain": [
       "      Unnamed: 0     ID City_Code  Region_Code Accomodation_Type  \\\n",
       "0          27385  27386        C3           64             Owned   \n",
       "1          33499  33500        C3         2955             Owned   \n",
       "2           7997   7998        C1         1542            Rented   \n",
       "3          33032  33033       C26          772            Rented   \n",
       "4          30516  30517        C2         1510             Owned   \n",
       "...          ...    ...       ...          ...               ...   \n",
       "9995        5203   5204        C3           13             Owned   \n",
       "9996       35448  35449        C5         1477            Rented   \n",
       "9997       47253  47254        C1         2357             Owned   \n",
       "9998       42544  42545        C1         1443            Rented   \n",
       "9999        7864   7865        C7         1476             Owned   \n",
       "\n",
       "     Reco_Insurance_Type  Upper_Age  Lower_Age Is_Spouse Health Indicator  \\\n",
       "0             Individual         36         36        No               X1   \n",
       "1             Individual         66         66        No               X6   \n",
       "2             Individual         24         24        No              NaN   \n",
       "3             Individual         75         75        No               X1   \n",
       "4                  Joint         59         58       Yes               X1   \n",
       "...                  ...        ...        ...       ...              ...   \n",
       "9995               Joint         47         40       Yes               X5   \n",
       "9996          Individual         34         34        No              NaN   \n",
       "9997          Individual         64         64        No               X1   \n",
       "9998          Individual         53         53        No               X5   \n",
       "9999               Joint         56         47       Yes               X2   \n",
       "\n",
       "     Holding_Policy_Duration  Holding_Policy_Type  Reco_Policy_Cat  \\\n",
       "0                        14+                  2.0               16   \n",
       "1                         10                  1.0               19   \n",
       "2                          3                  1.0               16   \n",
       "3                          1                  3.0               16   \n",
       "4                        14+                  4.0               17   \n",
       "...                      ...                  ...              ...   \n",
       "9995                     NaN                  NaN               19   \n",
       "9996                       6                  1.0                4   \n",
       "9997                       8                  2.0               19   \n",
       "9998                     14+                  3.0               13   \n",
       "9999                     14+                  3.0               10   \n",
       "\n",
       "      Reco_Policy_Premium  Response  \n",
       "0                 13320.0         0  \n",
       "1                 16152.0         0  \n",
       "2                  7310.0         0  \n",
       "3                 15792.0         0  \n",
       "4                 23673.0         0  \n",
       "...                   ...       ...  \n",
       "9995              27840.0         1  \n",
       "9996              10560.0         0  \n",
       "9997              14716.0         0  \n",
       "9998              11664.0         0  \n",
       "9999              28752.0         0  \n",
       "\n",
       "[10000 rows x 15 columns]"
      ]
     },
     "execution_count": 5,
     "metadata": {},
     "output_type": "execute_result"
    }
   ],
   "source": [
    "train"
   ]
  },
  {
   "cell_type": "code",
   "execution_count": 6,
   "id": "4cc148a2",
   "metadata": {},
   "outputs": [
    {
     "data": {
      "text/html": [
       "<div>\n",
       "<style scoped>\n",
       "    .dataframe tbody tr th:only-of-type {\n",
       "        vertical-align: middle;\n",
       "    }\n",
       "\n",
       "    .dataframe tbody tr th {\n",
       "        vertical-align: top;\n",
       "    }\n",
       "\n",
       "    .dataframe thead th {\n",
       "        text-align: right;\n",
       "    }\n",
       "</style>\n",
       "<table border=\"1\" class=\"dataframe\">\n",
       "  <thead>\n",
       "    <tr style=\"text-align: right;\">\n",
       "      <th></th>\n",
       "      <th>Unnamed: 0</th>\n",
       "      <th>ID</th>\n",
       "      <th>City_Code</th>\n",
       "      <th>Region_Code</th>\n",
       "      <th>Accomodation_Type</th>\n",
       "      <th>Reco_Insurance_Type</th>\n",
       "      <th>Upper_Age</th>\n",
       "      <th>Lower_Age</th>\n",
       "      <th>Is_Spouse</th>\n",
       "      <th>Health Indicator</th>\n",
       "      <th>Holding_Policy_Duration</th>\n",
       "      <th>Holding_Policy_Type</th>\n",
       "      <th>Reco_Policy_Cat</th>\n",
       "      <th>Reco_Policy_Premium</th>\n",
       "      <th>Response</th>\n",
       "    </tr>\n",
       "  </thead>\n",
       "  <tbody>\n",
       "    <tr>\n",
       "      <th>0</th>\n",
       "      <td>27385</td>\n",
       "      <td>27386</td>\n",
       "      <td>C3</td>\n",
       "      <td>64</td>\n",
       "      <td>Owned</td>\n",
       "      <td>Individual</td>\n",
       "      <td>36</td>\n",
       "      <td>36</td>\n",
       "      <td>No</td>\n",
       "      <td>X1</td>\n",
       "      <td>14+</td>\n",
       "      <td>2.0</td>\n",
       "      <td>16</td>\n",
       "      <td>13320.0</td>\n",
       "      <td>0</td>\n",
       "    </tr>\n",
       "    <tr>\n",
       "      <th>1</th>\n",
       "      <td>33499</td>\n",
       "      <td>33500</td>\n",
       "      <td>C3</td>\n",
       "      <td>2955</td>\n",
       "      <td>Owned</td>\n",
       "      <td>Individual</td>\n",
       "      <td>66</td>\n",
       "      <td>66</td>\n",
       "      <td>No</td>\n",
       "      <td>X6</td>\n",
       "      <td>10</td>\n",
       "      <td>1.0</td>\n",
       "      <td>19</td>\n",
       "      <td>16152.0</td>\n",
       "      <td>0</td>\n",
       "    </tr>\n",
       "    <tr>\n",
       "      <th>2</th>\n",
       "      <td>7997</td>\n",
       "      <td>7998</td>\n",
       "      <td>C1</td>\n",
       "      <td>1542</td>\n",
       "      <td>Rented</td>\n",
       "      <td>Individual</td>\n",
       "      <td>24</td>\n",
       "      <td>24</td>\n",
       "      <td>No</td>\n",
       "      <td>NaN</td>\n",
       "      <td>3</td>\n",
       "      <td>1.0</td>\n",
       "      <td>16</td>\n",
       "      <td>7310.0</td>\n",
       "      <td>0</td>\n",
       "    </tr>\n",
       "    <tr>\n",
       "      <th>3</th>\n",
       "      <td>33032</td>\n",
       "      <td>33033</td>\n",
       "      <td>C26</td>\n",
       "      <td>772</td>\n",
       "      <td>Rented</td>\n",
       "      <td>Individual</td>\n",
       "      <td>75</td>\n",
       "      <td>75</td>\n",
       "      <td>No</td>\n",
       "      <td>X1</td>\n",
       "      <td>1</td>\n",
       "      <td>3.0</td>\n",
       "      <td>16</td>\n",
       "      <td>15792.0</td>\n",
       "      <td>0</td>\n",
       "    </tr>\n",
       "    <tr>\n",
       "      <th>4</th>\n",
       "      <td>30516</td>\n",
       "      <td>30517</td>\n",
       "      <td>C2</td>\n",
       "      <td>1510</td>\n",
       "      <td>Owned</td>\n",
       "      <td>Joint</td>\n",
       "      <td>59</td>\n",
       "      <td>58</td>\n",
       "      <td>Yes</td>\n",
       "      <td>X1</td>\n",
       "      <td>14+</td>\n",
       "      <td>4.0</td>\n",
       "      <td>17</td>\n",
       "      <td>23673.0</td>\n",
       "      <td>0</td>\n",
       "    </tr>\n",
       "    <tr>\n",
       "      <th>5</th>\n",
       "      <td>42306</td>\n",
       "      <td>42307</td>\n",
       "      <td>C26</td>\n",
       "      <td>452</td>\n",
       "      <td>Owned</td>\n",
       "      <td>Individual</td>\n",
       "      <td>26</td>\n",
       "      <td>26</td>\n",
       "      <td>No</td>\n",
       "      <td>X4</td>\n",
       "      <td>3</td>\n",
       "      <td>1.0</td>\n",
       "      <td>21</td>\n",
       "      <td>13176.0</td>\n",
       "      <td>0</td>\n",
       "    </tr>\n",
       "    <tr>\n",
       "      <th>6</th>\n",
       "      <td>12021</td>\n",
       "      <td>12022</td>\n",
       "      <td>C17</td>\n",
       "      <td>4001</td>\n",
       "      <td>Rented</td>\n",
       "      <td>Individual</td>\n",
       "      <td>20</td>\n",
       "      <td>20</td>\n",
       "      <td>No</td>\n",
       "      <td>X4</td>\n",
       "      <td>NaN</td>\n",
       "      <td>NaN</td>\n",
       "      <td>19</td>\n",
       "      <td>6880.0</td>\n",
       "      <td>0</td>\n",
       "    </tr>\n",
       "    <tr>\n",
       "      <th>7</th>\n",
       "      <td>18014</td>\n",
       "      <td>18015</td>\n",
       "      <td>C4</td>\n",
       "      <td>1362</td>\n",
       "      <td>Rented</td>\n",
       "      <td>Individual</td>\n",
       "      <td>55</td>\n",
       "      <td>55</td>\n",
       "      <td>No</td>\n",
       "      <td>X2</td>\n",
       "      <td>NaN</td>\n",
       "      <td>NaN</td>\n",
       "      <td>9</td>\n",
       "      <td>14080.0</td>\n",
       "      <td>0</td>\n",
       "    </tr>\n",
       "    <tr>\n",
       "      <th>8</th>\n",
       "      <td>29179</td>\n",
       "      <td>29180</td>\n",
       "      <td>C2</td>\n",
       "      <td>1847</td>\n",
       "      <td>Rented</td>\n",
       "      <td>Individual</td>\n",
       "      <td>27</td>\n",
       "      <td>27</td>\n",
       "      <td>No</td>\n",
       "      <td>NaN</td>\n",
       "      <td>1</td>\n",
       "      <td>3.0</td>\n",
       "      <td>18</td>\n",
       "      <td>8946.0</td>\n",
       "      <td>0</td>\n",
       "    </tr>\n",
       "    <tr>\n",
       "      <th>9</th>\n",
       "      <td>10316</td>\n",
       "      <td>10317</td>\n",
       "      <td>C2</td>\n",
       "      <td>3377</td>\n",
       "      <td>Rented</td>\n",
       "      <td>Individual</td>\n",
       "      <td>30</td>\n",
       "      <td>30</td>\n",
       "      <td>No</td>\n",
       "      <td>X3</td>\n",
       "      <td>NaN</td>\n",
       "      <td>NaN</td>\n",
       "      <td>13</td>\n",
       "      <td>7572.0</td>\n",
       "      <td>1</td>\n",
       "    </tr>\n",
       "  </tbody>\n",
       "</table>\n",
       "</div>"
      ],
      "text/plain": [
       "   Unnamed: 0     ID City_Code  Region_Code Accomodation_Type  \\\n",
       "0       27385  27386        C3           64             Owned   \n",
       "1       33499  33500        C3         2955             Owned   \n",
       "2        7997   7998        C1         1542            Rented   \n",
       "3       33032  33033       C26          772            Rented   \n",
       "4       30516  30517        C2         1510             Owned   \n",
       "5       42306  42307       C26          452             Owned   \n",
       "6       12021  12022       C17         4001            Rented   \n",
       "7       18014  18015        C4         1362            Rented   \n",
       "8       29179  29180        C2         1847            Rented   \n",
       "9       10316  10317        C2         3377            Rented   \n",
       "\n",
       "  Reco_Insurance_Type  Upper_Age  Lower_Age Is_Spouse Health Indicator  \\\n",
       "0          Individual         36         36        No               X1   \n",
       "1          Individual         66         66        No               X6   \n",
       "2          Individual         24         24        No              NaN   \n",
       "3          Individual         75         75        No               X1   \n",
       "4               Joint         59         58       Yes               X1   \n",
       "5          Individual         26         26        No               X4   \n",
       "6          Individual         20         20        No               X4   \n",
       "7          Individual         55         55        No               X2   \n",
       "8          Individual         27         27        No              NaN   \n",
       "9          Individual         30         30        No               X3   \n",
       "\n",
       "  Holding_Policy_Duration  Holding_Policy_Type  Reco_Policy_Cat  \\\n",
       "0                     14+                  2.0               16   \n",
       "1                      10                  1.0               19   \n",
       "2                       3                  1.0               16   \n",
       "3                       1                  3.0               16   \n",
       "4                     14+                  4.0               17   \n",
       "5                       3                  1.0               21   \n",
       "6                     NaN                  NaN               19   \n",
       "7                     NaN                  NaN                9   \n",
       "8                       1                  3.0               18   \n",
       "9                     NaN                  NaN               13   \n",
       "\n",
       "   Reco_Policy_Premium  Response  \n",
       "0              13320.0         0  \n",
       "1              16152.0         0  \n",
       "2               7310.0         0  \n",
       "3              15792.0         0  \n",
       "4              23673.0         0  \n",
       "5              13176.0         0  \n",
       "6               6880.0         0  \n",
       "7              14080.0         0  \n",
       "8               8946.0         0  \n",
       "9               7572.0         1  "
      ]
     },
     "execution_count": 6,
     "metadata": {},
     "output_type": "execute_result"
    }
   ],
   "source": [
    "train.head(10)"
   ]
  },
  {
   "cell_type": "code",
   "execution_count": 7,
   "id": "8062476e",
   "metadata": {},
   "outputs": [
    {
     "data": {
      "text/plain": [
       "Unnamed: 0                   int64\n",
       "ID                           int64\n",
       "City_Code                   object\n",
       "Region_Code                  int64\n",
       "Accomodation_Type           object\n",
       "Reco_Insurance_Type         object\n",
       "Upper_Age                    int64\n",
       "Lower_Age                    int64\n",
       "Is_Spouse                   object\n",
       "Health Indicator            object\n",
       "Holding_Policy_Duration     object\n",
       "Holding_Policy_Type        float64\n",
       "Reco_Policy_Cat              int64\n",
       "Reco_Policy_Premium        float64\n",
       "Response                     int64\n",
       "dtype: object"
      ]
     },
     "execution_count": 7,
     "metadata": {},
     "output_type": "execute_result"
    }
   ],
   "source": [
    "train.dtypes"
   ]
  },
  {
   "cell_type": "code",
   "execution_count": 8,
   "id": "3e674f7d",
   "metadata": {},
   "outputs": [
    {
     "name": "stdout",
     "output_type": "stream",
     "text": [
      "<class 'pandas.core.frame.DataFrame'>\n",
      "RangeIndex: 10000 entries, 0 to 9999\n",
      "Data columns (total 15 columns):\n",
      " #   Column                   Non-Null Count  Dtype  \n",
      "---  ------                   --------------  -----  \n",
      " 0   Unnamed: 0               10000 non-null  int64  \n",
      " 1   ID                       10000 non-null  int64  \n",
      " 2   City_Code                10000 non-null  object \n",
      " 3   Region_Code              10000 non-null  int64  \n",
      " 4   Accomodation_Type        10000 non-null  object \n",
      " 5   Reco_Insurance_Type      10000 non-null  object \n",
      " 6   Upper_Age                10000 non-null  int64  \n",
      " 7   Lower_Age                10000 non-null  int64  \n",
      " 8   Is_Spouse                10000 non-null  object \n",
      " 9   Health Indicator         7671 non-null   object \n",
      " 10  Holding_Policy_Duration  5946 non-null   object \n",
      " 11  Holding_Policy_Type      5946 non-null   float64\n",
      " 12  Reco_Policy_Cat          10000 non-null  int64  \n",
      " 13  Reco_Policy_Premium      10000 non-null  float64\n",
      " 14  Response                 10000 non-null  int64  \n",
      "dtypes: float64(2), int64(7), object(6)\n",
      "memory usage: 1.1+ MB\n"
     ]
    }
   ],
   "source": [
    "train.info()"
   ]
  },
  {
   "cell_type": "code",
   "execution_count": 9,
   "id": "c434bf16",
   "metadata": {},
   "outputs": [
    {
     "data": {
      "text/plain": [
       "Unnamed: 0                    0\n",
       "ID                            0\n",
       "City_Code                     0\n",
       "Region_Code                   0\n",
       "Accomodation_Type             0\n",
       "Reco_Insurance_Type           0\n",
       "Upper_Age                     0\n",
       "Lower_Age                     0\n",
       "Is_Spouse                     0\n",
       "Health Indicator           2329\n",
       "Holding_Policy_Duration    4054\n",
       "Holding_Policy_Type        4054\n",
       "Reco_Policy_Cat               0\n",
       "Reco_Policy_Premium           0\n",
       "Response                      0\n",
       "dtype: int64"
      ]
     },
     "execution_count": 9,
     "metadata": {},
     "output_type": "execute_result"
    }
   ],
   "source": [
    "train.isnull().sum()"
   ]
  },
  {
   "cell_type": "code",
   "execution_count": 10,
   "id": "788e1fad",
   "metadata": {},
   "outputs": [
    {
     "data": {
      "text/plain": [
       "Index(['Unnamed: 0', 'ID', 'City_Code', 'Region_Code', 'Accomodation_Type',\n",
       "       'Reco_Insurance_Type', 'Upper_Age', 'Lower_Age', 'Is_Spouse',\n",
       "       'Health Indicator', 'Holding_Policy_Duration', 'Holding_Policy_Type',\n",
       "       'Reco_Policy_Cat', 'Reco_Policy_Premium', 'Response'],\n",
       "      dtype='object')"
      ]
     },
     "execution_count": 10,
     "metadata": {},
     "output_type": "execute_result"
    }
   ],
   "source": [
    "train.columns"
   ]
  },
  {
   "cell_type": "markdown",
   "id": "d1a3fe38",
   "metadata": {},
   "source": [
    "## Descriptive Statistics"
   ]
  },
  {
   "cell_type": "code",
   "execution_count": 11,
   "id": "4d75e060",
   "metadata": {},
   "outputs": [
    {
     "data": {
      "text/html": [
       "<div>\n",
       "<style scoped>\n",
       "    .dataframe tbody tr th:only-of-type {\n",
       "        vertical-align: middle;\n",
       "    }\n",
       "\n",
       "    .dataframe tbody tr th {\n",
       "        vertical-align: top;\n",
       "    }\n",
       "\n",
       "    .dataframe thead th {\n",
       "        text-align: right;\n",
       "    }\n",
       "</style>\n",
       "<table border=\"1\" class=\"dataframe\">\n",
       "  <thead>\n",
       "    <tr style=\"text-align: right;\">\n",
       "      <th></th>\n",
       "      <th>Unnamed: 0</th>\n",
       "      <th>ID</th>\n",
       "      <th>Region_Code</th>\n",
       "      <th>Upper_Age</th>\n",
       "      <th>Lower_Age</th>\n",
       "      <th>Holding_Policy_Type</th>\n",
       "      <th>Reco_Policy_Cat</th>\n",
       "      <th>Reco_Policy_Premium</th>\n",
       "      <th>Response</th>\n",
       "    </tr>\n",
       "  </thead>\n",
       "  <tbody>\n",
       "    <tr>\n",
       "      <th>count</th>\n",
       "      <td>10000.000000</td>\n",
       "      <td>10000.000000</td>\n",
       "      <td>10000.000000</td>\n",
       "      <td>10000.000000</td>\n",
       "      <td>10000.00000</td>\n",
       "      <td>5946.000000</td>\n",
       "      <td>10000.000000</td>\n",
       "      <td>10000.000000</td>\n",
       "      <td>10000.000000</td>\n",
       "    </tr>\n",
       "    <tr>\n",
       "      <th>mean</th>\n",
       "      <td>25513.420300</td>\n",
       "      <td>25514.420300</td>\n",
       "      <td>1723.510900</td>\n",
       "      <td>44.765600</td>\n",
       "      <td>42.65650</td>\n",
       "      <td>2.431719</td>\n",
       "      <td>15.090700</td>\n",
       "      <td>14182.681460</td>\n",
       "      <td>0.245900</td>\n",
       "    </tr>\n",
       "    <tr>\n",
       "      <th>std</th>\n",
       "      <td>14789.327793</td>\n",
       "      <td>14789.327793</td>\n",
       "      <td>1416.809648</td>\n",
       "      <td>17.281705</td>\n",
       "      <td>17.31614</td>\n",
       "      <td>1.026051</td>\n",
       "      <td>6.350237</td>\n",
       "      <td>6538.837384</td>\n",
       "      <td>0.430641</td>\n",
       "    </tr>\n",
       "    <tr>\n",
       "      <th>min</th>\n",
       "      <td>7.000000</td>\n",
       "      <td>8.000000</td>\n",
       "      <td>1.000000</td>\n",
       "      <td>18.000000</td>\n",
       "      <td>16.00000</td>\n",
       "      <td>1.000000</td>\n",
       "      <td>1.000000</td>\n",
       "      <td>2280.000000</td>\n",
       "      <td>0.000000</td>\n",
       "    </tr>\n",
       "    <tr>\n",
       "      <th>25%</th>\n",
       "      <td>12518.250000</td>\n",
       "      <td>12519.250000</td>\n",
       "      <td>517.000000</td>\n",
       "      <td>28.000000</td>\n",
       "      <td>27.00000</td>\n",
       "      <td>1.000000</td>\n",
       "      <td>12.000000</td>\n",
       "      <td>9278.400000</td>\n",
       "      <td>0.000000</td>\n",
       "    </tr>\n",
       "    <tr>\n",
       "      <th>50%</th>\n",
       "      <td>25511.500000</td>\n",
       "      <td>25512.500000</td>\n",
       "      <td>1382.000000</td>\n",
       "      <td>44.000000</td>\n",
       "      <td>40.00000</td>\n",
       "      <td>3.000000</td>\n",
       "      <td>17.000000</td>\n",
       "      <td>13214.000000</td>\n",
       "      <td>0.000000</td>\n",
       "    </tr>\n",
       "    <tr>\n",
       "      <th>75%</th>\n",
       "      <td>38329.750000</td>\n",
       "      <td>38330.750000</td>\n",
       "      <td>2637.000000</td>\n",
       "      <td>59.000000</td>\n",
       "      <td>57.00000</td>\n",
       "      <td>3.000000</td>\n",
       "      <td>20.000000</td>\n",
       "      <td>18070.000000</td>\n",
       "      <td>0.000000</td>\n",
       "    </tr>\n",
       "    <tr>\n",
       "      <th>max</th>\n",
       "      <td>50873.000000</td>\n",
       "      <td>50874.000000</td>\n",
       "      <td>6193.000000</td>\n",
       "      <td>75.000000</td>\n",
       "      <td>75.00000</td>\n",
       "      <td>4.000000</td>\n",
       "      <td>22.000000</td>\n",
       "      <td>42256.000000</td>\n",
       "      <td>1.000000</td>\n",
       "    </tr>\n",
       "  </tbody>\n",
       "</table>\n",
       "</div>"
      ],
      "text/plain": [
       "         Unnamed: 0            ID   Region_Code     Upper_Age    Lower_Age  \\\n",
       "count  10000.000000  10000.000000  10000.000000  10000.000000  10000.00000   \n",
       "mean   25513.420300  25514.420300   1723.510900     44.765600     42.65650   \n",
       "std    14789.327793  14789.327793   1416.809648     17.281705     17.31614   \n",
       "min        7.000000      8.000000      1.000000     18.000000     16.00000   \n",
       "25%    12518.250000  12519.250000    517.000000     28.000000     27.00000   \n",
       "50%    25511.500000  25512.500000   1382.000000     44.000000     40.00000   \n",
       "75%    38329.750000  38330.750000   2637.000000     59.000000     57.00000   \n",
       "max    50873.000000  50874.000000   6193.000000     75.000000     75.00000   \n",
       "\n",
       "       Holding_Policy_Type  Reco_Policy_Cat  Reco_Policy_Premium      Response  \n",
       "count          5946.000000     10000.000000         10000.000000  10000.000000  \n",
       "mean              2.431719        15.090700         14182.681460      0.245900  \n",
       "std               1.026051         6.350237          6538.837384      0.430641  \n",
       "min               1.000000         1.000000          2280.000000      0.000000  \n",
       "25%               1.000000        12.000000          9278.400000      0.000000  \n",
       "50%               3.000000        17.000000         13214.000000      0.000000  \n",
       "75%               3.000000        20.000000         18070.000000      0.000000  \n",
       "max               4.000000        22.000000         42256.000000      1.000000  "
      ]
     },
     "execution_count": 11,
     "metadata": {},
     "output_type": "execute_result"
    }
   ],
   "source": [
    "train.describe()"
   ]
  },
  {
   "cell_type": "code",
   "execution_count": 12,
   "id": "9d518058",
   "metadata": {},
   "outputs": [
    {
     "data": {
      "text/html": [
       "<div>\n",
       "<style scoped>\n",
       "    .dataframe tbody tr th:only-of-type {\n",
       "        vertical-align: middle;\n",
       "    }\n",
       "\n",
       "    .dataframe tbody tr th {\n",
       "        vertical-align: top;\n",
       "    }\n",
       "\n",
       "    .dataframe thead th {\n",
       "        text-align: right;\n",
       "    }\n",
       "</style>\n",
       "<table border=\"1\" class=\"dataframe\">\n",
       "  <thead>\n",
       "    <tr style=\"text-align: right;\">\n",
       "      <th></th>\n",
       "      <th>Unnamed: 0</th>\n",
       "      <th>ID</th>\n",
       "      <th>Region_Code</th>\n",
       "      <th>Upper_Age</th>\n",
       "      <th>Lower_Age</th>\n",
       "      <th>Holding_Policy_Type</th>\n",
       "      <th>Reco_Policy_Cat</th>\n",
       "      <th>Reco_Policy_Premium</th>\n",
       "      <th>Response</th>\n",
       "    </tr>\n",
       "  </thead>\n",
       "  <tbody>\n",
       "    <tr>\n",
       "      <th>Unnamed: 0</th>\n",
       "      <td>1.000000</td>\n",
       "      <td>1.000000</td>\n",
       "      <td>-0.002869</td>\n",
       "      <td>0.012612</td>\n",
       "      <td>0.015944</td>\n",
       "      <td>0.019073</td>\n",
       "      <td>-0.000582</td>\n",
       "      <td>0.008014</td>\n",
       "      <td>0.006875</td>\n",
       "    </tr>\n",
       "    <tr>\n",
       "      <th>ID</th>\n",
       "      <td>1.000000</td>\n",
       "      <td>1.000000</td>\n",
       "      <td>-0.002869</td>\n",
       "      <td>0.012612</td>\n",
       "      <td>0.015944</td>\n",
       "      <td>0.019073</td>\n",
       "      <td>-0.000582</td>\n",
       "      <td>0.008014</td>\n",
       "      <td>0.006875</td>\n",
       "    </tr>\n",
       "    <tr>\n",
       "      <th>Region_Code</th>\n",
       "      <td>-0.002869</td>\n",
       "      <td>-0.002869</td>\n",
       "      <td>1.000000</td>\n",
       "      <td>-0.010383</td>\n",
       "      <td>-0.009397</td>\n",
       "      <td>0.023915</td>\n",
       "      <td>-0.068594</td>\n",
       "      <td>-0.018902</td>\n",
       "      <td>-0.006917</td>\n",
       "    </tr>\n",
       "    <tr>\n",
       "      <th>Upper_Age</th>\n",
       "      <td>0.012612</td>\n",
       "      <td>0.012612</td>\n",
       "      <td>-0.010383</td>\n",
       "      <td>1.000000</td>\n",
       "      <td>0.922250</td>\n",
       "      <td>0.138358</td>\n",
       "      <td>0.021442</td>\n",
       "      <td>0.791601</td>\n",
       "      <td>0.008082</td>\n",
       "    </tr>\n",
       "    <tr>\n",
       "      <th>Lower_Age</th>\n",
       "      <td>0.015944</td>\n",
       "      <td>0.015944</td>\n",
       "      <td>-0.009397</td>\n",
       "      <td>0.922250</td>\n",
       "      <td>1.000000</td>\n",
       "      <td>0.107105</td>\n",
       "      <td>0.024647</td>\n",
       "      <td>0.614515</td>\n",
       "      <td>-0.000367</td>\n",
       "    </tr>\n",
       "    <tr>\n",
       "      <th>Holding_Policy_Type</th>\n",
       "      <td>0.019073</td>\n",
       "      <td>0.019073</td>\n",
       "      <td>0.023915</td>\n",
       "      <td>0.138358</td>\n",
       "      <td>0.107105</td>\n",
       "      <td>1.000000</td>\n",
       "      <td>0.082117</td>\n",
       "      <td>0.136532</td>\n",
       "      <td>0.018804</td>\n",
       "    </tr>\n",
       "    <tr>\n",
       "      <th>Reco_Policy_Cat</th>\n",
       "      <td>-0.000582</td>\n",
       "      <td>-0.000582</td>\n",
       "      <td>-0.068594</td>\n",
       "      <td>0.021442</td>\n",
       "      <td>0.024647</td>\n",
       "      <td>0.082117</td>\n",
       "      <td>1.000000</td>\n",
       "      <td>0.054974</td>\n",
       "      <td>0.119623</td>\n",
       "    </tr>\n",
       "    <tr>\n",
       "      <th>Reco_Policy_Premium</th>\n",
       "      <td>0.008014</td>\n",
       "      <td>0.008014</td>\n",
       "      <td>-0.018902</td>\n",
       "      <td>0.791601</td>\n",
       "      <td>0.614515</td>\n",
       "      <td>0.136532</td>\n",
       "      <td>0.054974</td>\n",
       "      <td>1.000000</td>\n",
       "      <td>0.010099</td>\n",
       "    </tr>\n",
       "    <tr>\n",
       "      <th>Response</th>\n",
       "      <td>0.006875</td>\n",
       "      <td>0.006875</td>\n",
       "      <td>-0.006917</td>\n",
       "      <td>0.008082</td>\n",
       "      <td>-0.000367</td>\n",
       "      <td>0.018804</td>\n",
       "      <td>0.119623</td>\n",
       "      <td>0.010099</td>\n",
       "      <td>1.000000</td>\n",
       "    </tr>\n",
       "  </tbody>\n",
       "</table>\n",
       "</div>"
      ],
      "text/plain": [
       "                     Unnamed: 0        ID  Region_Code  Upper_Age  Lower_Age  \\\n",
       "Unnamed: 0             1.000000  1.000000    -0.002869   0.012612   0.015944   \n",
       "ID                     1.000000  1.000000    -0.002869   0.012612   0.015944   \n",
       "Region_Code           -0.002869 -0.002869     1.000000  -0.010383  -0.009397   \n",
       "Upper_Age              0.012612  0.012612    -0.010383   1.000000   0.922250   \n",
       "Lower_Age              0.015944  0.015944    -0.009397   0.922250   1.000000   \n",
       "Holding_Policy_Type    0.019073  0.019073     0.023915   0.138358   0.107105   \n",
       "Reco_Policy_Cat       -0.000582 -0.000582    -0.068594   0.021442   0.024647   \n",
       "Reco_Policy_Premium    0.008014  0.008014    -0.018902   0.791601   0.614515   \n",
       "Response               0.006875  0.006875    -0.006917   0.008082  -0.000367   \n",
       "\n",
       "                     Holding_Policy_Type  Reco_Policy_Cat  \\\n",
       "Unnamed: 0                      0.019073        -0.000582   \n",
       "ID                              0.019073        -0.000582   \n",
       "Region_Code                     0.023915        -0.068594   \n",
       "Upper_Age                       0.138358         0.021442   \n",
       "Lower_Age                       0.107105         0.024647   \n",
       "Holding_Policy_Type             1.000000         0.082117   \n",
       "Reco_Policy_Cat                 0.082117         1.000000   \n",
       "Reco_Policy_Premium             0.136532         0.054974   \n",
       "Response                        0.018804         0.119623   \n",
       "\n",
       "                     Reco_Policy_Premium  Response  \n",
       "Unnamed: 0                      0.008014  0.006875  \n",
       "ID                              0.008014  0.006875  \n",
       "Region_Code                    -0.018902 -0.006917  \n",
       "Upper_Age                       0.791601  0.008082  \n",
       "Lower_Age                       0.614515 -0.000367  \n",
       "Holding_Policy_Type             0.136532  0.018804  \n",
       "Reco_Policy_Cat                 0.054974  0.119623  \n",
       "Reco_Policy_Premium             1.000000  0.010099  \n",
       "Response                        0.010099  1.000000  "
      ]
     },
     "execution_count": 12,
     "metadata": {},
     "output_type": "execute_result"
    }
   ],
   "source": [
    "train.corr()"
   ]
  },
  {
   "cell_type": "markdown",
   "id": "a63f74f1",
   "metadata": {},
   "source": [
    "## Interpolate the missing values "
   ]
  },
  {
   "cell_type": "code",
   "execution_count": 13,
   "id": "c26ed24a",
   "metadata": {},
   "outputs": [],
   "source": [
    "# to interpolate the missing values  \n",
    "#dataset.interpolate(method ='linear', limit_direction ='forward')\n",
    "\n",
    "\n",
    "train.fillna(axis=0, method='ffill', inplace=True)"
   ]
  },
  {
   "cell_type": "code",
   "execution_count": 14,
   "id": "3c07d308",
   "metadata": {},
   "outputs": [
    {
     "data": {
      "text/plain": [
       "Unnamed: 0                 0\n",
       "ID                         0\n",
       "City_Code                  0\n",
       "Region_Code                0\n",
       "Accomodation_Type          0\n",
       "Reco_Insurance_Type        0\n",
       "Upper_Age                  0\n",
       "Lower_Age                  0\n",
       "Is_Spouse                  0\n",
       "Health Indicator           0\n",
       "Holding_Policy_Duration    0\n",
       "Holding_Policy_Type        0\n",
       "Reco_Policy_Cat            0\n",
       "Reco_Policy_Premium        0\n",
       "Response                   0\n",
       "dtype: int64"
      ]
     },
     "execution_count": 14,
     "metadata": {},
     "output_type": "execute_result"
    }
   ],
   "source": [
    "train.isnull().sum()"
   ]
  },
  {
   "cell_type": "markdown",
   "id": "e1069407",
   "metadata": {},
   "source": [
    "## Convert from float to int"
   ]
  },
  {
   "cell_type": "code",
   "execution_count": 15,
   "id": "ed97c574",
   "metadata": {},
   "outputs": [],
   "source": [
    "# converting 'Holding_Policy_Type' from float to int \n",
    "\n",
    "train['Holding_Policy_Type'] = train['Holding_Policy_Type'].astype(int) "
   ]
  },
  {
   "cell_type": "code",
   "execution_count": 16,
   "id": "9283c9f3",
   "metadata": {},
   "outputs": [
    {
     "data": {
      "text/plain": [
       "Unnamed: 0                   int64\n",
       "ID                           int64\n",
       "City_Code                   object\n",
       "Region_Code                  int64\n",
       "Accomodation_Type           object\n",
       "Reco_Insurance_Type         object\n",
       "Upper_Age                    int64\n",
       "Lower_Age                    int64\n",
       "Is_Spouse                   object\n",
       "Health Indicator            object\n",
       "Holding_Policy_Duration     object\n",
       "Holding_Policy_Type          int32\n",
       "Reco_Policy_Cat              int64\n",
       "Reco_Policy_Premium        float64\n",
       "Response                     int64\n",
       "dtype: object"
      ]
     },
     "execution_count": 16,
     "metadata": {},
     "output_type": "execute_result"
    }
   ],
   "source": [
    "train.dtypes"
   ]
  },
  {
   "cell_type": "markdown",
   "id": "11bf6f48",
   "metadata": {},
   "source": [
    "# Data Visualizations"
   ]
  },
  {
   "cell_type": "code",
   "execution_count": 17,
   "id": "6682783c",
   "metadata": {},
   "outputs": [
    {
     "data": {
      "text/plain": [
       "<AxesSubplot:>"
      ]
     },
     "execution_count": 17,
     "metadata": {},
     "output_type": "execute_result"
    },
    {
     "data": {
      "image/png": "[encoded data removed]",
      "text/plain": [
       "<Figure size 1440x1080 with 1 Axes>"
      ]
     },
     "metadata": {},
     "output_type": "display_data"
    }
   ],
   "source": [
    "fig = plt.figure(figsize =(20, 15))\n",
    "\n",
    "train['City_Code'].value_counts()[:36].plot(kind='barh', color='blue')"
   ]
  },
  {
   "cell_type": "markdown",
   "id": "dde4c18d",
   "metadata": {},
   "source": [
    "## City_Code VS Response "
   ]
  },
  {
   "cell_type": "code",
   "execution_count": 18,
   "id": "8ec642cf",
   "metadata": {},
   "outputs": [
    {
     "data": {
      "text/plain": [
       "<Figure size 1440x720 with 0 Axes>"
      ]
     },
     "execution_count": 18,
     "metadata": {},
     "output_type": "execute_result"
    },
    {
     "data": {
      "text/plain": [
       "<AxesSubplot:xlabel='City_Code', ylabel='Response'>"
      ]
     },
     "execution_count": 18,
     "metadata": {},
     "output_type": "execute_result"
    },
    {
     "data": {
      "text/plain": [
       "Text(0.5, 1.0, 'City_Code vs Response')"
      ]
     },
     "execution_count": 18,
     "metadata": {},
     "output_type": "execute_result"
    },
    {
     "data": {
      "image/png": "[encoded data removed]",
      "text/plain": [
       "<Figure size 1440x720 with 1 Axes>"
      ]
     },
     "metadata": {},
     "output_type": "display_data"
    }
   ],
   "source": [
    "plt.figure(figsize = (20, 10))\n",
    "sns.barplot(x = 'City_Code', y = 'Response', data = train)\n",
    "\n",
    "plt.title(\"City_Code vs Response\")"
   ]
  },
  {
   "cell_type": "markdown",
   "id": "0bbd8797",
   "metadata": {},
   "source": [
    "## Response VS Region_Code "
   ]
  },
  {
   "cell_type": "code",
   "execution_count": 19,
   "id": "0310884e",
   "metadata": {},
   "outputs": [
    {
     "data": {
      "text/plain": [
       "<Figure size 1080x720 with 0 Axes>"
      ]
     },
     "execution_count": 19,
     "metadata": {},
     "output_type": "execute_result"
    },
    {
     "data": {
      "text/plain": [
       "<AxesSubplot:xlabel='Response', ylabel='Region_Code'>"
      ]
     },
     "execution_count": 19,
     "metadata": {},
     "output_type": "execute_result"
    },
    {
     "data": {
      "text/plain": [
       "Text(0.5, 1.0, 'Response vs Region_Code')"
      ]
     },
     "execution_count": 19,
     "metadata": {},
     "output_type": "execute_result"
    },
    {
     "data": {
      "image/png": "[encoded data removed]",
      "text/plain": [
       "<Figure size 1080x720 with 1 Axes>"
      ]
     },
     "metadata": {},
     "output_type": "display_data"
    }
   ],
   "source": [
    "plt.figure(figsize = (15, 10))\n",
    "\n",
    "sns.barplot(x = 'Response', y = 'Region_Code', data = train)\n",
    "\n",
    "plt.title(\"Response vs Region_Code\")"
   ]
  },
  {
   "cell_type": "markdown",
   "id": "ed028cd5",
   "metadata": {},
   "source": [
    "## Accomodation_Type VS Response"
   ]
  },
  {
   "cell_type": "code",
   "execution_count": 20,
   "id": "904f252a",
   "metadata": {},
   "outputs": [
    {
     "data": {
      "text/plain": [
       "<Figure size 1080x576 with 0 Axes>"
      ]
     },
     "execution_count": 20,
     "metadata": {},
     "output_type": "execute_result"
    },
    {
     "data": {
      "text/plain": [
       "<AxesSubplot:xlabel='Accomodation_Type', ylabel='Response'>"
      ]
     },
     "execution_count": 20,
     "metadata": {},
     "output_type": "execute_result"
    },
    {
     "data": {
      "text/plain": [
       "Text(0.5, 1.0, 'Accomodation_Type vs Response')"
      ]
     },
     "execution_count": 20,
     "metadata": {},
     "output_type": "execute_result"
    },
    {
     "data": {
      "image/png": "[encoded data removed]",
      "text/plain": [
       "<Figure size 1080x576 with 1 Axes>"
      ]
     },
     "metadata": {},
     "output_type": "display_data"
    }
   ],
   "source": [
    "plt.figure(figsize = (15, 8))\n",
    "sns.barplot(x = 'Accomodation_Type', y = 'Response', data = train)\n",
    "\n",
    "plt.title(\"Accomodation_Type vs Response\")"
   ]
  },
  {
   "cell_type": "markdown",
   "id": "5043967a",
   "metadata": {},
   "source": [
    "## Reco_Insurance_Type VS Response"
   ]
  },
  {
   "cell_type": "code",
   "execution_count": 21,
   "id": "15e3e44c",
   "metadata": {},
   "outputs": [
    {
     "data": {
      "text/plain": [
       "<Figure size 1080x576 with 0 Axes>"
      ]
     },
     "execution_count": 21,
     "metadata": {},
     "output_type": "execute_result"
    },
    {
     "data": {
      "text/plain": [
       "<AxesSubplot:xlabel='Reco_Insurance_Type', ylabel='Response'>"
      ]
     },
     "execution_count": 21,
     "metadata": {},
     "output_type": "execute_result"
    },
    {
     "data": {
      "text/plain": [
       "Text(0.5, 1.0, 'Reco_Insurance_Type vs Response')"
      ]
     },
     "execution_count": 21,
     "metadata": {},
     "output_type": "execute_result"
    },
    {
     "data": {
      "image/png": "[encoded data removed]",
      "text/plain": [
       "<Figure size 1080x576 with 1 Axes>"
      ]
     },
     "metadata": {},
     "output_type": "display_data"
    }
   ],
   "source": [
    "plt.figure(figsize = (15, 8))\n",
    "sns.barplot(x = 'Reco_Insurance_Type', y = 'Response', data = train)\n",
    "\n",
    "plt.title(\"Reco_Insurance_Type vs Response\")"
   ]
  },
  {
   "cell_type": "markdown",
   "id": "d90460bc",
   "metadata": {},
   "source": [
    "## Response VS Upper_Age  "
   ]
  },
  {
   "cell_type": "code",
   "execution_count": 22,
   "id": "a62c703e",
   "metadata": {},
   "outputs": [
    {
     "data": {
      "text/plain": [
       "<Figure size 1080x720 with 0 Axes>"
      ]
     },
     "execution_count": 22,
     "metadata": {},
     "output_type": "execute_result"
    },
    {
     "data": {
      "text/plain": [
       "<AxesSubplot:xlabel='Response', ylabel='Upper_Age'>"
      ]
     },
     "execution_count": 22,
     "metadata": {},
     "output_type": "execute_result"
    },
    {
     "data": {
      "text/plain": [
       "Text(0.5, 1.0, 'Response vs Upper_Age')"
      ]
     },
     "execution_count": 22,
     "metadata": {},
     "output_type": "execute_result"
    },
    {
     "data": {
      "image/png": "[encoded data removed]",
      "text/plain": [
       "<Figure size 1080x720 with 1 Axes>"
      ]
     },
     "metadata": {},
     "output_type": "display_data"
    }
   ],
   "source": [
    "plt.figure(figsize = (15, 10))\n",
    "sns.barplot(x = 'Response', y = 'Upper_Age', data = train)\n",
    "\n",
    "plt.title(\"Response vs Upper_Age\")"
   ]
  },
  {
   "cell_type": "markdown",
   "id": "037081d2",
   "metadata": {},
   "source": [
    "## Response VS Lower_Age "
   ]
  },
  {
   "cell_type": "code",
   "execution_count": 23,
   "id": "0b7a8e5e",
   "metadata": {},
   "outputs": [
    {
     "data": {
      "text/plain": [
       "<Figure size 1080x720 with 0 Axes>"
      ]
     },
     "execution_count": 23,
     "metadata": {},
     "output_type": "execute_result"
    },
    {
     "data": {
      "text/plain": [
       "<AxesSubplot:xlabel='Response', ylabel='Lower_Age'>"
      ]
     },
     "execution_count": 23,
     "metadata": {},
     "output_type": "execute_result"
    },
    {
     "data": {
      "text/plain": [
       "Text(0.5, 1.0, 'Response vs Lower_Age')"
      ]
     },
     "execution_count": 23,
     "metadata": {},
     "output_type": "execute_result"
    },
    {
     "data": {
      "image/png": "[encoded data removed]",
      "text/plain": [
       "<Figure size 1080x720 with 1 Axes>"
      ]
     },
     "metadata": {},
     "output_type": "display_data"
    }
   ],
   "source": [
    "plt.figure(figsize = (15, 10))\n",
    "sns.barplot(x = 'Response', y = 'Lower_Age', data = train)\n",
    "\n",
    "plt.title(\"Response vs Lower_Age\")"
   ]
  },
  {
   "cell_type": "markdown",
   "id": "24d9822f",
   "metadata": {},
   "source": [
    "## Is_Spouse VS Response"
   ]
  },
  {
   "cell_type": "code",
   "execution_count": 24,
   "id": "1c4dceaa",
   "metadata": {},
   "outputs": [
    {
     "data": {
      "text/plain": [
       "<Figure size 1080x576 with 0 Axes>"
      ]
     },
     "execution_count": 24,
     "metadata": {},
     "output_type": "execute_result"
    },
    {
     "data": {
      "text/plain": [
       "<AxesSubplot:xlabel='Is_Spouse', ylabel='Response'>"
      ]
     },
     "execution_count": 24,
     "metadata": {},
     "output_type": "execute_result"
    },
    {
     "data": {
      "text/plain": [
       "Text(0.5, 1.0, 'Is_Spouse vs Response')"
      ]
     },
     "execution_count": 24,
     "metadata": {},
     "output_type": "execute_result"
    },
    {
     "data": {
      "image/png": "[encoded data removed]",
      "text/plain": [
       "<Figure size 1080x576 with 1 Axes>"
      ]
     },
     "metadata": {},
     "output_type": "display_data"
    }
   ],
   "source": [
    "plt.figure(figsize = (15, 8))\n",
    "sns.barplot(x = 'Is_Spouse', y = 'Response', data = train)\n",
    "\n",
    "plt.title(\"Is_Spouse vs Response\")"
   ]
  },
  {
   "cell_type": "markdown",
   "id": "217716ce",
   "metadata": {},
   "source": [
    "## Response VS Health Indicator "
   ]
  },
  {
   "cell_type": "code",
   "execution_count": 25,
   "id": "ca3d288c",
   "metadata": {},
   "outputs": [
    {
     "data": {
      "text/plain": [
       "<Figure size 1080x720 with 0 Axes>"
      ]
     },
     "execution_count": 25,
     "metadata": {},
     "output_type": "execute_result"
    },
    {
     "data": {
      "text/plain": [
       "<AxesSubplot:xlabel='Response', ylabel='Health Indicator'>"
      ]
     },
     "execution_count": 25,
     "metadata": {},
     "output_type": "execute_result"
    },
    {
     "data": {
      "text/plain": [
       "Text(0.5, 1.0, 'Response vs Health Indicator')"
      ]
     },
     "execution_count": 25,
     "metadata": {},
     "output_type": "execute_result"
    },
    {
     "data": {
      "image/png": "[encoded data removed]",
      "text/plain": [
       "<Figure size 1080x720 with 1 Axes>"
      ]
     },
     "metadata": {},
     "output_type": "display_data"
    }
   ],
   "source": [
    "plt.figure(figsize = (15, 10))\n",
    "\n",
    "sns.barplot(x = 'Response', y = 'Health Indicator', data = train)\n",
    "\n",
    "plt.title(\"Response vs Health Indicator\")"
   ]
  },
  {
   "cell_type": "markdown",
   "id": "5493b088",
   "metadata": {},
   "source": [
    "## Holding_Policy_Duration VS Response"
   ]
  },
  {
   "cell_type": "code",
   "execution_count": 26,
   "id": "c7389c61",
   "metadata": {},
   "outputs": [
    {
     "data": {
      "text/plain": [
       "<Figure size 1080x576 with 0 Axes>"
      ]
     },
     "execution_count": 26,
     "metadata": {},
     "output_type": "execute_result"
    },
    {
     "data": {
      "text/plain": [
       "<AxesSubplot:xlabel='Holding_Policy_Duration', ylabel='Response'>"
      ]
     },
     "execution_count": 26,
     "metadata": {},
     "output_type": "execute_result"
    },
    {
     "data": {
      "text/plain": [
       "Text(0.5, 1.0, 'Holding_Policy_Duration vs Response')"
      ]
     },
     "execution_count": 26,
     "metadata": {},
     "output_type": "execute_result"
    },
    {
     "data": {
      "image/png": "[encoded data removed]",
      "text/plain": [
       "<Figure size 1080x576 with 1 Axes>"
      ]
     },
     "metadata": {},
     "output_type": "display_data"
    }
   ],
   "source": [
    "plt.figure(figsize = (15, 8))\n",
    "sns.barplot(x = 'Holding_Policy_Duration', y = 'Response', data = train)\n",
    "\n",
    "plt.title(\"Holding_Policy_Duration vs Response\")"
   ]
  },
  {
   "cell_type": "markdown",
   "id": "00462675",
   "metadata": {},
   "source": [
    "## Holding_Policy_Type VS Response "
   ]
  },
  {
   "cell_type": "code",
   "execution_count": 27,
   "id": "971b2229",
   "metadata": {},
   "outputs": [
    {
     "data": {
      "text/plain": [
       "<Figure size 1080x720 with 0 Axes>"
      ]
     },
     "execution_count": 27,
     "metadata": {},
     "output_type": "execute_result"
    },
    {
     "data": {
      "text/plain": [
       "<AxesSubplot:xlabel='Holding_Policy_Type', ylabel='Response'>"
      ]
     },
     "execution_count": 27,
     "metadata": {},
     "output_type": "execute_result"
    },
    {
     "data": {
      "text/plain": [
       "Text(0.5, 1.0, 'Holding_Policy_Type vs Response')"
      ]
     },
     "execution_count": 27,
     "metadata": {},
     "output_type": "execute_result"
    },
    {
     "data": {
      "image/png": "[encoded data removed]",
      "text/plain": [
       "<Figure size 1080x720 with 1 Axes>"
      ]
     },
     "metadata": {},
     "output_type": "display_data"
    }
   ],
   "source": [
    "plt.figure(figsize = (15, 10))\n",
    "sns.barplot(x = 'Holding_Policy_Type', y = 'Response', data = train)\n",
    "\n",
    "plt.title(\"Holding_Policy_Type vs Response\")"
   ]
  },
  {
   "cell_type": "markdown",
   "id": "40b0a08b",
   "metadata": {},
   "source": [
    "## Reco_Policy_Cat VS Response"
   ]
  },
  {
   "cell_type": "code",
   "execution_count": 28,
   "id": "9357f35a",
   "metadata": {},
   "outputs": [
    {
     "data": {
      "text/plain": [
       "<Figure size 1080x576 with 0 Axes>"
      ]
     },
     "execution_count": 28,
     "metadata": {},
     "output_type": "execute_result"
    },
    {
     "data": {
      "text/plain": [
       "<AxesSubplot:xlabel='Reco_Policy_Cat', ylabel='Response'>"
      ]
     },
     "execution_count": 28,
     "metadata": {},
     "output_type": "execute_result"
    },
    {
     "data": {
      "text/plain": [
       "Text(0.5, 1.0, 'Reco_Policy_Cat vs Response')"
      ]
     },
     "execution_count": 28,
     "metadata": {},
     "output_type": "execute_result"
    },
    {
     "data": {
      "image/png": "[encoded data removed]",
      "text/plain": [
       "<Figure size 1080x576 with 1 Axes>"
      ]
     },
     "metadata": {},
     "output_type": "display_data"
    }
   ],
   "source": [
    "plt.figure(figsize = (15, 8))\n",
    "sns.barplot(x = 'Reco_Policy_Cat', y = 'Response', data = train)\n",
    "\n",
    "plt.title(\"Reco_Policy_Cat vs Response\")"
   ]
  },
  {
   "cell_type": "markdown",
   "id": "b9ce20cb",
   "metadata": {},
   "source": [
    "## Response VS Reco_Policy_Premium "
   ]
  },
  {
   "cell_type": "code",
   "execution_count": 29,
   "id": "ba180667",
   "metadata": {},
   "outputs": [
    {
     "data": {
      "text/plain": [
       "<Figure size 1080x720 with 0 Axes>"
      ]
     },
     "execution_count": 29,
     "metadata": {},
     "output_type": "execute_result"
    },
    {
     "data": {
      "text/plain": [
       "<AxesSubplot:xlabel='Response', ylabel='Reco_Policy_Premium'>"
      ]
     },
     "execution_count": 29,
     "metadata": {},
     "output_type": "execute_result"
    },
    {
     "data": {
      "text/plain": [
       "Text(0.5, 1.0, 'Response vs Reco_Policy_Premium')"
      ]
     },
     "execution_count": 29,
     "metadata": {},
     "output_type": "execute_result"
    },
    {
     "data": {
      "image/png": "[encoded data removed]",
      "text/plain": [
       "<Figure size 1080x720 with 1 Axes>"
      ]
     },
     "metadata": {},
     "output_type": "display_data"
    }
   ],
   "source": [
    "plt.figure(figsize = (15, 10))\n",
    "\n",
    "sns.barplot(x = 'Response', y = 'Reco_Policy_Premium', data = train)\n",
    "\n",
    "plt.title(\"Response vs Reco_Policy_Premium\")"
   ]
  },
  {
   "cell_type": "markdown",
   "id": "be48d0e4",
   "metadata": {},
   "source": [
    "## Correlation Matrix"
   ]
  },
  {
   "cell_type": "code",
   "execution_count": 30,
   "id": "fb4862a6",
   "metadata": {},
   "outputs": [
    {
     "data": {
      "text/plain": [
       "<Figure size 1224x576 with 0 Axes>"
      ]
     },
     "execution_count": 30,
     "metadata": {},
     "output_type": "execute_result"
    },
    {
     "data": {
      "text/plain": [
       "<AxesSubplot:>"
      ]
     },
     "execution_count": 30,
     "metadata": {},
     "output_type": "execute_result"
    },
    {
     "data": {
      "image/png": "[encoded data removed]",
      "text/plain": [
       "<Figure size 1224x576 with 2 Axes>"
      ]
     },
     "metadata": {},
     "output_type": "display_data"
    }
   ],
   "source": [
    "# Visualize the correlation between variables by plotting plot:\n",
    "plt.figure(figsize=[17,8])\n",
    "\n",
    "#ploting correlation plot\n",
    "\n",
    "sns.heatmap(train.corr(),annot=True)"
   ]
  },
  {
   "cell_type": "markdown",
   "id": "36100eb0",
   "metadata": {},
   "source": [
    "# Prepare Data\n",
    "## Label encoding"
   ]
  },
  {
   "cell_type": "code",
   "execution_count": 31,
   "id": "27f12927",
   "metadata": {},
   "outputs": [],
   "source": [
    "# Label encoding for “Accomodation_Type” and “Reco_Insurance_Type” and \"Is_Spouse\"\n",
    "\n",
    "from sklearn.preprocessing import LabelEncoder\n",
    "\n",
    "le = LabelEncoder()\n",
    "train['Accomodation_Type'] = le.fit_transform(train['Accomodation_Type'])\n",
    "train['Reco_Insurance_Type'] = le.fit_transform(train['Reco_Insurance_Type'])\n",
    "train['Is_Spouse'] = le.fit_transform(train['Is_Spouse'])"
   ]
  },
  {
   "cell_type": "code",
   "execution_count": 32,
   "id": "152cd016",
   "metadata": {},
   "outputs": [
    {
     "data": {
      "text/html": [
       "<div>\n",
       "<style scoped>\n",
       "    .dataframe tbody tr th:only-of-type {\n",
       "        vertical-align: middle;\n",
       "    }\n",
       "\n",
       "    .dataframe tbody tr th {\n",
       "        vertical-align: top;\n",
       "    }\n",
       "\n",
       "    .dataframe thead th {\n",
       "        text-align: right;\n",
       "    }\n",
       "</style>\n",
       "<table border=\"1\" class=\"dataframe\">\n",
       "  <thead>\n",
       "    <tr style=\"text-align: right;\">\n",
       "      <th></th>\n",
       "      <th>Unnamed: 0</th>\n",
       "      <th>ID</th>\n",
       "      <th>City_Code</th>\n",
       "      <th>Region_Code</th>\n",
       "      <th>Accomodation_Type</th>\n",
       "      <th>Reco_Insurance_Type</th>\n",
       "      <th>Upper_Age</th>\n",
       "      <th>Lower_Age</th>\n",
       "      <th>Is_Spouse</th>\n",
       "      <th>Health Indicator</th>\n",
       "      <th>Holding_Policy_Duration</th>\n",
       "      <th>Holding_Policy_Type</th>\n",
       "      <th>Reco_Policy_Cat</th>\n",
       "      <th>Reco_Policy_Premium</th>\n",
       "      <th>Response</th>\n",
       "    </tr>\n",
       "  </thead>\n",
       "  <tbody>\n",
       "    <tr>\n",
       "      <th>0</th>\n",
       "      <td>27385</td>\n",
       "      <td>27386</td>\n",
       "      <td>C3</td>\n",
       "      <td>64</td>\n",
       "      <td>0</td>\n",
       "      <td>0</td>\n",
       "      <td>36</td>\n",
       "      <td>36</td>\n",
       "      <td>0</td>\n",
       "      <td>X1</td>\n",
       "      <td>14+</td>\n",
       "      <td>2</td>\n",
       "      <td>16</td>\n",
       "      <td>13320.0</td>\n",
       "      <td>0</td>\n",
       "    </tr>\n",
       "    <tr>\n",
       "      <th>1</th>\n",
       "      <td>33499</td>\n",
       "      <td>33500</td>\n",
       "      <td>C3</td>\n",
       "      <td>2955</td>\n",
       "      <td>0</td>\n",
       "      <td>0</td>\n",
       "      <td>66</td>\n",
       "      <td>66</td>\n",
       "      <td>0</td>\n",
       "      <td>X6</td>\n",
       "      <td>10</td>\n",
       "      <td>1</td>\n",
       "      <td>19</td>\n",
       "      <td>16152.0</td>\n",
       "      <td>0</td>\n",
       "    </tr>\n",
       "    <tr>\n",
       "      <th>2</th>\n",
       "      <td>7997</td>\n",
       "      <td>7998</td>\n",
       "      <td>C1</td>\n",
       "      <td>1542</td>\n",
       "      <td>1</td>\n",
       "      <td>0</td>\n",
       "      <td>24</td>\n",
       "      <td>24</td>\n",
       "      <td>0</td>\n",
       "      <td>X6</td>\n",
       "      <td>3</td>\n",
       "      <td>1</td>\n",
       "      <td>16</td>\n",
       "      <td>7310.0</td>\n",
       "      <td>0</td>\n",
       "    </tr>\n",
       "    <tr>\n",
       "      <th>3</th>\n",
       "      <td>33032</td>\n",
       "      <td>33033</td>\n",
       "      <td>C26</td>\n",
       "      <td>772</td>\n",
       "      <td>1</td>\n",
       "      <td>0</td>\n",
       "      <td>75</td>\n",
       "      <td>75</td>\n",
       "      <td>0</td>\n",
       "      <td>X1</td>\n",
       "      <td>1</td>\n",
       "      <td>3</td>\n",
       "      <td>16</td>\n",
       "      <td>15792.0</td>\n",
       "      <td>0</td>\n",
       "    </tr>\n",
       "    <tr>\n",
       "      <th>4</th>\n",
       "      <td>30516</td>\n",
       "      <td>30517</td>\n",
       "      <td>C2</td>\n",
       "      <td>1510</td>\n",
       "      <td>0</td>\n",
       "      <td>1</td>\n",
       "      <td>59</td>\n",
       "      <td>58</td>\n",
       "      <td>1</td>\n",
       "      <td>X1</td>\n",
       "      <td>14+</td>\n",
       "      <td>4</td>\n",
       "      <td>17</td>\n",
       "      <td>23673.0</td>\n",
       "      <td>0</td>\n",
       "    </tr>\n",
       "    <tr>\n",
       "      <th>5</th>\n",
       "      <td>42306</td>\n",
       "      <td>42307</td>\n",
       "      <td>C26</td>\n",
       "      <td>452</td>\n",
       "      <td>0</td>\n",
       "      <td>0</td>\n",
       "      <td>26</td>\n",
       "      <td>26</td>\n",
       "      <td>0</td>\n",
       "      <td>X4</td>\n",
       "      <td>3</td>\n",
       "      <td>1</td>\n",
       "      <td>21</td>\n",
       "      <td>13176.0</td>\n",
       "      <td>0</td>\n",
       "    </tr>\n",
       "    <tr>\n",
       "      <th>6</th>\n",
       "      <td>12021</td>\n",
       "      <td>12022</td>\n",
       "      <td>C17</td>\n",
       "      <td>4001</td>\n",
       "      <td>1</td>\n",
       "      <td>0</td>\n",
       "      <td>20</td>\n",
       "      <td>20</td>\n",
       "      <td>0</td>\n",
       "      <td>X4</td>\n",
       "      <td>3</td>\n",
       "      <td>1</td>\n",
       "      <td>19</td>\n",
       "      <td>6880.0</td>\n",
       "      <td>0</td>\n",
       "    </tr>\n",
       "    <tr>\n",
       "      <th>7</th>\n",
       "      <td>18014</td>\n",
       "      <td>18015</td>\n",
       "      <td>C4</td>\n",
       "      <td>1362</td>\n",
       "      <td>1</td>\n",
       "      <td>0</td>\n",
       "      <td>55</td>\n",
       "      <td>55</td>\n",
       "      <td>0</td>\n",
       "      <td>X2</td>\n",
       "      <td>3</td>\n",
       "      <td>1</td>\n",
       "      <td>9</td>\n",
       "      <td>14080.0</td>\n",
       "      <td>0</td>\n",
       "    </tr>\n",
       "    <tr>\n",
       "      <th>8</th>\n",
       "      <td>29179</td>\n",
       "      <td>29180</td>\n",
       "      <td>C2</td>\n",
       "      <td>1847</td>\n",
       "      <td>1</td>\n",
       "      <td>0</td>\n",
       "      <td>27</td>\n",
       "      <td>27</td>\n",
       "      <td>0</td>\n",
       "      <td>X2</td>\n",
       "      <td>1</td>\n",
       "      <td>3</td>\n",
       "      <td>18</td>\n",
       "      <td>8946.0</td>\n",
       "      <td>0</td>\n",
       "    </tr>\n",
       "    <tr>\n",
       "      <th>9</th>\n",
       "      <td>10316</td>\n",
       "      <td>10317</td>\n",
       "      <td>C2</td>\n",
       "      <td>3377</td>\n",
       "      <td>1</td>\n",
       "      <td>0</td>\n",
       "      <td>30</td>\n",
       "      <td>30</td>\n",
       "      <td>0</td>\n",
       "      <td>X3</td>\n",
       "      <td>1</td>\n",
       "      <td>3</td>\n",
       "      <td>13</td>\n",
       "      <td>7572.0</td>\n",
       "      <td>1</td>\n",
       "    </tr>\n",
       "  </tbody>\n",
       "</table>\n",
       "</div>"
      ],
      "text/plain": [
       "   Unnamed: 0     ID City_Code  Region_Code  Accomodation_Type  \\\n",
       "0       27385  27386        C3           64                  0   \n",
       "1       33499  33500        C3         2955                  0   \n",
       "2        7997   7998        C1         1542                  1   \n",
       "3       33032  33033       C26          772                  1   \n",
       "4       30516  30517        C2         1510                  0   \n",
       "5       42306  42307       C26          452                  0   \n",
       "6       12021  12022       C17         4001                  1   \n",
       "7       18014  18015        C4         1362                  1   \n",
       "8       29179  29180        C2         1847                  1   \n",
       "9       10316  10317        C2         3377                  1   \n",
       "\n",
       "   Reco_Insurance_Type  Upper_Age  Lower_Age  Is_Spouse Health Indicator  \\\n",
       "0                    0         36         36          0               X1   \n",
       "1                    0         66         66          0               X6   \n",
       "2                    0         24         24          0               X6   \n",
       "3                    0         75         75          0               X1   \n",
       "4                    1         59         58          1               X1   \n",
       "5                    0         26         26          0               X4   \n",
       "6                    0         20         20          0               X4   \n",
       "7                    0         55         55          0               X2   \n",
       "8                    0         27         27          0               X2   \n",
       "9                    0         30         30          0               X3   \n",
       "\n",
       "  Holding_Policy_Duration  Holding_Policy_Type  Reco_Policy_Cat  \\\n",
       "0                     14+                    2               16   \n",
       "1                      10                    1               19   \n",
       "2                       3                    1               16   \n",
       "3                       1                    3               16   \n",
       "4                     14+                    4               17   \n",
       "5                       3                    1               21   \n",
       "6                       3                    1               19   \n",
       "7                       3                    1                9   \n",
       "8                       1                    3               18   \n",
       "9                       1                    3               13   \n",
       "\n",
       "   Reco_Policy_Premium  Response  \n",
       "0              13320.0         0  \n",
       "1              16152.0         0  \n",
       "2               7310.0         0  \n",
       "3              15792.0         0  \n",
       "4              23673.0         0  \n",
       "5              13176.0         0  \n",
       "6               6880.0         0  \n",
       "7              14080.0         0  \n",
       "8               8946.0         0  \n",
       "9               7572.0         1  "
      ]
     },
     "execution_count": 32,
     "metadata": {},
     "output_type": "execute_result"
    }
   ],
   "source": [
    "train.head(10)"
   ]
  },
  {
   "cell_type": "code",
   "execution_count": 33,
   "id": "4d18bdfb",
   "metadata": {},
   "outputs": [
    {
     "data": {
      "text/plain": [
       "Unnamed: 0                   int64\n",
       "ID                           int64\n",
       "City_Code                   object\n",
       "Region_Code                  int64\n",
       "Accomodation_Type            int32\n",
       "Reco_Insurance_Type          int32\n",
       "Upper_Age                    int64\n",
       "Lower_Age                    int64\n",
       "Is_Spouse                    int32\n",
       "Health Indicator            object\n",
       "Holding_Policy_Duration     object\n",
       "Holding_Policy_Type          int32\n",
       "Reco_Policy_Cat              int64\n",
       "Reco_Policy_Premium        float64\n",
       "Response                     int64\n",
       "dtype: object"
      ]
     },
     "execution_count": 33,
     "metadata": {},
     "output_type": "execute_result"
    }
   ],
   "source": [
    "train.dtypes"
   ]
  },
  {
   "cell_type": "markdown",
   "id": "57c71f52",
   "metadata": {},
   "source": [
    "## Checking duplicate rows"
   ]
  },
  {
   "cell_type": "code",
   "execution_count": 34,
   "id": "11a83b35",
   "metadata": {},
   "outputs": [
    {
     "name": "stdout",
     "output_type": "stream",
     "text": [
      "Empty DataFrame\n",
      "Columns: [Unnamed: 0, ID, City_Code, Region_Code, Accomodation_Type, Reco_Insurance_Type, Upper_Age, Lower_Age, Is_Spouse, Health Indicator, Holding_Policy_Duration, Holding_Policy_Type, Reco_Policy_Cat, Reco_Policy_Premium, Response]\n",
      "Index: []\n"
     ]
    }
   ],
   "source": [
    "duplicate=train[train.duplicated()]\n",
    "print(duplicate)"
   ]
  },
  {
   "cell_type": "markdown",
   "id": "96f41a45",
   "metadata": {},
   "source": [
    "## Seprating dependent and independent variables"
   ]
  },
  {
   "cell_type": "code",
   "execution_count": 35,
   "id": "10d63254",
   "metadata": {},
   "outputs": [],
   "source": [
    "x=train.drop(['Response'],axis=1) #contain all  independent variable\n",
    "y=train['Response']           #dependent variable"
   ]
  },
  {
   "cell_type": "markdown",
   "id": "592f76e8",
   "metadata": {},
   "source": [
    "## Dropping features not much important for prediction."
   ]
  },
  {
   "cell_type": "code",
   "execution_count": 36,
   "id": "e5777a34",
   "metadata": {},
   "outputs": [],
   "source": [
    "# Drop features, because it is not much important for prediction.\n",
    "\n",
    "train = train.drop('ID', axis = 1)\n",
    "\n",
    "train = train.drop('City_Code', axis = 1)\n",
    "train = train.drop('Region_Code', axis = 1)\n",
    "\n",
    "train = train.drop('Health Indicator', axis = 1)\n",
    "train = train.drop('Holding_Policy_Duration', axis = 1)\n"
   ]
  },
  {
   "cell_type": "markdown",
   "id": "e46610da",
   "metadata": {},
   "source": [
    "## Assigning X and y"
   ]
  },
  {
   "cell_type": "code",
   "execution_count": 37,
   "id": "b6bf0042",
   "metadata": {},
   "outputs": [],
   "source": [
    "# Assigning X and y\n",
    "\n",
    "X = train.iloc[:,:8]\n",
    "y = train.iloc[:,8]"
   ]
  },
  {
   "cell_type": "code",
   "execution_count": 38,
   "id": "e0084683",
   "metadata": {},
   "outputs": [
    {
     "name": "stdout",
     "output_type": "stream",
     "text": [
      "      Unnamed: 0  Accomodation_Type  Reco_Insurance_Type  Upper_Age  \\\n",
      "0          27385                  0                    0         36   \n",
      "1          33499                  0                    0         66   \n",
      "2           7997                  1                    0         24   \n",
      "3          33032                  1                    0         75   \n",
      "4          30516                  0                    1         59   \n",
      "...          ...                ...                  ...        ...   \n",
      "9995        5203                  0                    1         47   \n",
      "9996       35448                  1                    0         34   \n",
      "9997       47253                  0                    0         64   \n",
      "9998       42544                  1                    0         53   \n",
      "9999        7864                  0                    1         56   \n",
      "\n",
      "      Lower_Age  Is_Spouse  Holding_Policy_Type  Reco_Policy_Cat  \n",
      "0            36          0                    2               16  \n",
      "1            66          0                    1               19  \n",
      "2            24          0                    1               16  \n",
      "3            75          0                    3               16  \n",
      "4            58          1                    4               17  \n",
      "...         ...        ...                  ...              ...  \n",
      "9995         40          1                    2               19  \n",
      "9996         34          0                    1                4  \n",
      "9997         64          0                    2               19  \n",
      "9998         53          0                    3               13  \n",
      "9999         47          1                    3               10  \n",
      "\n",
      "[10000 rows x 8 columns]\n"
     ]
    }
   ],
   "source": [
    "print(X)"
   ]
  },
  {
   "cell_type": "code",
   "execution_count": 39,
   "id": "464179ad",
   "metadata": {},
   "outputs": [
    {
     "name": "stdout",
     "output_type": "stream",
     "text": [
      "0       13320.0\n",
      "1       16152.0\n",
      "2        7310.0\n",
      "3       15792.0\n",
      "4       23673.0\n",
      "         ...   \n",
      "9995    27840.0\n",
      "9996    10560.0\n",
      "9997    14716.0\n",
      "9998    11664.0\n",
      "9999    28752.0\n",
      "Name: Reco_Policy_Premium, Length: 10000, dtype: float64\n"
     ]
    }
   ],
   "source": [
    "print(y)"
   ]
  },
  {
   "cell_type": "markdown",
   "id": "e2c834f6",
   "metadata": {},
   "source": [
    "## Spliting of data into train and test data"
   ]
  },
  {
   "cell_type": "code",
   "execution_count": 40,
   "id": "51ae566b",
   "metadata": {},
   "outputs": [
    {
     "name": "stdout",
     "output_type": "stream",
     "text": [
      " x_train:  (8000, 9) \n",
      " y_train: (8000,) \n",
      " x_test: (2000, 9) \n",
      " y_test: (2000,)\n"
     ]
    }
   ],
   "source": [
    "#split our dataset\n",
    "\n",
    "from sklearn.model_selection import train_test_split\n",
    "\n",
    "X_train, X_test, y_train, y_test = train_test_split(\n",
    "    train.drop(columns= 'Response', axis = 1), \n",
    "    train['Response'], \n",
    "    test_size=0.2)\n",
    "\n",
    "print(' x_train: ',X_train.shape, '\\n',\n",
    "      'y_train:',y_train.shape,'\\n',\n",
    "      'x_test:',X_test.shape,'\\n',\n",
    "      'y_test:',y_test.shape)"
   ]
  },
  {
   "cell_type": "markdown",
   "id": "94107ed7",
   "metadata": {},
   "source": [
    "# Model Selection"
   ]
  },
  {
   "cell_type": "markdown",
   "id": "0966e739",
   "metadata": {},
   "source": [
    "## Logistic Regression"
   ]
  },
  {
   "cell_type": "code",
   "execution_count": 41,
   "id": "af150714",
   "metadata": {},
   "outputs": [
    {
     "name": "stdout",
     "output_type": "stream",
     "text": [
      "Accuracy :  0.763\n",
      "ROC_AUC Score: 0.5\n"
     ]
    }
   ],
   "source": [
    "# Model 1: Logistic Regression\n",
    "\n",
    "from sklearn.linear_model import LogisticRegression \n",
    "from sklearn.metrics import classification_report, confusion_matrix\n",
    "from sklearn.metrics import accuracy_score, precision_score, recall_score, f1_score, roc_auc_score\n",
    "\n",
    "model=LogisticRegression(random_state=0)\n",
    "model=model.fit(X_train,y_train)\n",
    "pred=model.predict(X_test)\n",
    "lr_probability =model.predict_proba(X_test)[:,1]\n",
    "y_pred = model.predict(X_test)\n",
    "\n",
    "acc_lr=accuracy_score(y_test, y_pred)\n",
    "recall_lr=recall_score(y_test, y_pred, zero_division = 1)\n",
    "precision_lr=precision_score(y_test, y_pred, zero_division = 1)\n",
    "f1score_lr=f1_score(y_test, y_pred, zero_division = 1)\n",
    "AUC_LR=roc_auc_score(y_test, y_pred)\n",
    "#print accuracy and Auc values of model\n",
    "print(\"Accuracy : \", accuracy_score(y_test,y_pred))\n",
    "print(\"ROC_AUC Score:\",AUC_LR)"
   ]
  },
  {
   "cell_type": "code",
   "execution_count": 42,
   "id": "c62b4a5e",
   "metadata": {},
   "outputs": [
    {
     "name": "stdout",
     "output_type": "stream",
     "text": [
      "              precision    recall  f1-score   support\n",
      "\n",
      "           0       1.00      0.76      0.87      2000\n",
      "           1       0.00      0.00      0.00         0\n",
      "\n",
      "    accuracy                           0.76      2000\n",
      "   macro avg       0.50      0.38      0.43      2000\n",
      "weighted avg       1.00      0.76      0.87      2000\n",
      "\n"
     ]
    }
   ],
   "source": [
    "print(classification_report(y_pred,y_test))"
   ]
  },
  {
   "cell_type": "markdown",
   "id": "298678a3",
   "metadata": {},
   "source": [
    "## ROC CURVE"
   ]
  },
  {
   "cell_type": "code",
   "execution_count": 43,
   "id": "1edd8879",
   "metadata": {},
   "outputs": [
    {
     "data": {
      "text/plain": [
       "Text(0.5, 1.0, 'Logistic Regression ROC curve')"
      ]
     },
     "execution_count": 43,
     "metadata": {},
     "output_type": "execute_result"
    },
    {
     "data": {
      "text/plain": [
       "Text(0.5, 0, 'FPR (Precision)')"
      ]
     },
     "execution_count": 43,
     "metadata": {},
     "output_type": "execute_result"
    },
    {
     "data": {
      "text/plain": [
       "Text(0, 0.5, 'TPR (Recall)')"
      ]
     },
     "execution_count": 43,
     "metadata": {},
     "output_type": "execute_result"
    },
    {
     "data": {
      "text/plain": [
       "[<matplotlib.lines.Line2D at 0x1e7851e98e0>]"
      ]
     },
     "execution_count": 43,
     "metadata": {},
     "output_type": "execute_result"
    },
    {
     "data": {
      "text/plain": [
       "[<matplotlib.lines.Line2D at 0x1e7851e9d00>]"
      ]
     },
     "execution_count": 43,
     "metadata": {},
     "output_type": "execute_result"
    },
    {
     "data": {
      "image/png": "[encoded data removed]",
      "text/plain": [
       "<Figure size 432x288 with 1 Axes>"
      ]
     },
     "metadata": {},
     "output_type": "display_data"
    }
   ],
   "source": [
    "from sklearn.metrics import roc_curve\n",
    "fpr, tpr, _ = roc_curve(y_test, lr_probability)\n",
    "\n",
    "plt.title('Logistic Regression ROC curve')\n",
    "plt.xlabel('FPR (Precision)')\n",
    "plt.ylabel('TPR (Recall)')\n",
    "\n",
    "plt.plot(fpr,tpr)\n",
    "plt.plot((0,1), ls='dashed',color='black')\n",
    "plt.show()"
   ]
  },
  {
   "cell_type": "markdown",
   "id": "ea5aa959",
   "metadata": {},
   "source": [
    "## Confusion Matrix"
   ]
  },
  {
   "cell_type": "code",
   "execution_count": 44,
   "id": "1d527b1e",
   "metadata": {},
   "outputs": [
    {
     "name": "stdout",
     "output_type": "stream",
     "text": [
      "[[1526    0]\n",
      " [ 474    0]]\n"
     ]
    },
    {
     "data": {
      "text/plain": [
       "<AxesSubplot:>"
      ]
     },
     "execution_count": 44,
     "metadata": {},
     "output_type": "execute_result"
    },
    {
     "data": {
      "image/png": "[encoded data removed]",
      "text/plain": [
       "<Figure size 432x288 with 2 Axes>"
      ]
     },
     "metadata": {},
     "output_type": "display_data"
    }
   ],
   "source": [
    "cm=confusion_matrix(y_test,pred)\n",
    "print(cm)\n",
    "sns.heatmap(cm,annot=True,cmap='BuPu')"
   ]
  },
  {
   "cell_type": "markdown",
   "id": "8847e88e",
   "metadata": {},
   "source": [
    "## Random Forest Classifier"
   ]
  },
  {
   "cell_type": "code",
   "execution_count": 45,
   "id": "becb5029",
   "metadata": {},
   "outputs": [
    {
     "name": "stdout",
     "output_type": "stream",
     "text": [
      "Accuracy :  0.7405\n",
      "ROC_AUC Score: 0.5041627265236602\n"
     ]
    }
   ],
   "source": [
    "# Model 2: Random Forest Classifier\n",
    "\n",
    "from sklearn.ensemble import RandomForestClassifier\n",
    "from sklearn.metrics import classification_report, confusion_matrix\n",
    "from sklearn.metrics import accuracy_score, precision_score, recall_score, f1_score, roc_auc_score\n",
    "\n",
    "model=RandomForestClassifier(n_estimators = 100, random_state = 0)\n",
    "model=model.fit(X_train,y_train)\n",
    "pred=model.predict(X_test)\n",
    "rf_probability =model.predict_proba(X_test)[:,1]\n",
    "y_pred = model.predict(X_test)\n",
    "\n",
    "acc_rf=accuracy_score(y_test, y_pred)\n",
    "recall_rf=recall_score(y_test, y_pred, zero_division = 1)\n",
    "precision_rf=precision_score(y_test, y_pred, zero_division = 1)\n",
    "f1score_rf=f1_score(y_test, y_pred, zero_division = 1)\n",
    "AUC_RF=roc_auc_score(y_test, y_pred)\n",
    "#print accuracy and Auc values of model\n",
    "print(\"Accuracy : \", accuracy_score(y_test,y_pred))\n",
    "print(\"ROC_AUC Score:\",AUC_RF)"
   ]
  },
  {
   "cell_type": "code",
   "execution_count": 46,
   "id": "e5da4d69",
   "metadata": {},
   "outputs": [
    {
     "name": "stdout",
     "output_type": "stream",
     "text": [
      "              precision    recall  f1-score   support\n",
      "\n",
      "           0       0.95      0.76      0.85      1903\n",
      "           1       0.05      0.27      0.09        97\n",
      "\n",
      "    accuracy                           0.74      2000\n",
      "   macro avg       0.50      0.52      0.47      2000\n",
      "weighted avg       0.91      0.74      0.81      2000\n",
      "\n"
     ]
    }
   ],
   "source": [
    "print(classification_report(y_pred,y_test))"
   ]
  },
  {
   "cell_type": "markdown",
   "id": "96403d70",
   "metadata": {},
   "source": [
    "## ROC CURVE"
   ]
  },
  {
   "cell_type": "code",
   "execution_count": 47,
   "id": "e17cc15e",
   "metadata": {},
   "outputs": [
    {
     "data": {
      "text/plain": [
       "Text(0.5, 1.0, 'Random Forest ROC curve')"
      ]
     },
     "execution_count": 47,
     "metadata": {},
     "output_type": "execute_result"
    },
    {
     "data": {
      "text/plain": [
       "Text(0.5, 0, 'FPR (Precision)')"
      ]
     },
     "execution_count": 47,
     "metadata": {},
     "output_type": "execute_result"
    },
    {
     "data": {
      "text/plain": [
       "Text(0, 0.5, 'TPR (Recall)')"
      ]
     },
     "execution_count": 47,
     "metadata": {},
     "output_type": "execute_result"
    },
    {
     "data": {
      "text/plain": [
       "[<matplotlib.lines.Line2D at 0x1e786453550>]"
      ]
     },
     "execution_count": 47,
     "metadata": {},
     "output_type": "execute_result"
    },
    {
     "data": {
      "text/plain": [
       "[<matplotlib.lines.Line2D at 0x1e7864a5d00>]"
      ]
     },
     "execution_count": 47,
     "metadata": {},
     "output_type": "execute_result"
    },
    {
     "data": {
      "image/png": "[encoded data removed]",
      "text/plain": [
       "<Figure size 432x288 with 1 Axes>"
      ]
     },
     "metadata": {},
     "output_type": "display_data"
    }
   ],
   "source": [
    "from sklearn.metrics import roc_curve\n",
    "fpr, tpr, _ = roc_curve(y_test, rf_probability)\n",
    "\n",
    "plt.title('Random Forest ROC curve')\n",
    "plt.xlabel('FPR (Precision)')\n",
    "plt.ylabel('TPR (Recall)')\n",
    "\n",
    "plt.plot(fpr,tpr)\n",
    "plt.plot((0,1), ls='dashed',color='black')\n",
    "plt.show()"
   ]
  },
  {
   "cell_type": "markdown",
   "id": "42390a45",
   "metadata": {},
   "source": [
    "## Confusion Matrix"
   ]
  },
  {
   "cell_type": "code",
   "execution_count": 48,
   "id": "e9c3103e",
   "metadata": {},
   "outputs": [
    {
     "name": "stdout",
     "output_type": "stream",
     "text": [
      "[[1455  448]\n",
      " [  71   26]]\n"
     ]
    },
    {
     "data": {
      "text/plain": [
       "<AxesSubplot:>"
      ]
     },
     "execution_count": 48,
     "metadata": {},
     "output_type": "execute_result"
    },
    {
     "data": {
      "image/png": "[encoded data removed]",
      "text/plain": [
       "<Figure size 432x288 with 2 Axes>"
      ]
     },
     "metadata": {},
     "output_type": "display_data"
    }
   ],
   "source": [
    "cm=confusion_matrix(y_pred,y_test)\n",
    "print(cm)\n",
    "sns.heatmap(cm,annot=True,cmap='RdPu')"
   ]
  },
  {
   "cell_type": "markdown",
   "id": "1babb799",
   "metadata": {},
   "source": [
    "## Decision Tree"
   ]
  },
  {
   "cell_type": "code",
   "execution_count": 49,
   "id": "2e8237dc",
   "metadata": {},
   "outputs": [
    {
     "name": "stdout",
     "output_type": "stream",
     "text": [
      "Accuracy :  0.626\n",
      "ROC_AUC Score: 0.5091217766865195\n"
     ]
    }
   ],
   "source": [
    "# Model 3: Decision Tree\n",
    "\n",
    "from sklearn.tree import DecisionTreeClassifier\n",
    "from sklearn.metrics import classification_report, confusion_matrix\n",
    "from sklearn.metrics import accuracy_score, precision_score, recall_score, f1_score, roc_auc_score\n",
    "\n",
    "model=DecisionTreeClassifier(random_state=0)\n",
    "model=model.fit(X_train,y_train)\n",
    "pred=model.predict(X_test)\n",
    "dt_probability =model.predict_proba(X_test)[:,1]\n",
    "y_pred = model.predict(X_test)\n",
    "\n",
    "acc_dt=accuracy_score(y_test, y_pred)\n",
    "recall_dt=recall_score(y_test, y_pred, zero_division = 1)\n",
    "precision_dt=precision_score(y_test, y_pred, zero_division = 1)\n",
    "f1score_dt=f1_score(y_test, y_pred, zero_division = 1)\n",
    "AUC_DT=roc_auc_score(y_test, y_pred)\n",
    "#print accuracy and Auc values of model\n",
    "print(\"Accuracy : \", accuracy_score(y_test,y_pred))\n",
    "print(\"ROC_AUC Score:\",AUC_DT)"
   ]
  },
  {
   "cell_type": "code",
   "execution_count": 50,
   "id": "0193dfb0",
   "metadata": {},
   "outputs": [
    {
     "name": "stdout",
     "output_type": "stream",
     "text": [
      "              precision    recall  f1-score   support\n",
      "\n",
      "           0       0.73      0.77      0.75      1454\n",
      "           1       0.29      0.25      0.27       546\n",
      "\n",
      "    accuracy                           0.63      2000\n",
      "   macro avg       0.51      0.51      0.51      2000\n",
      "weighted avg       0.61      0.63      0.62      2000\n",
      "\n"
     ]
    }
   ],
   "source": [
    "print(classification_report(y_pred,y_test))"
   ]
  },
  {
   "cell_type": "markdown",
   "id": "3b81fa97",
   "metadata": {},
   "source": [
    "## ROC CURVE"
   ]
  },
  {
   "cell_type": "code",
   "execution_count": 51,
   "id": "104ba263",
   "metadata": {},
   "outputs": [
    {
     "data": {
      "text/plain": [
       "Text(0.5, 1.0, 'Decision Tree ROC curve')"
      ]
     },
     "execution_count": 51,
     "metadata": {},
     "output_type": "execute_result"
    },
    {
     "data": {
      "text/plain": [
       "Text(0.5, 0, 'FPR (Precision)')"
      ]
     },
     "execution_count": 51,
     "metadata": {},
     "output_type": "execute_result"
    },
    {
     "data": {
      "text/plain": [
       "Text(0, 0.5, 'TPR (Recall)')"
      ]
     },
     "execution_count": 51,
     "metadata": {},
     "output_type": "execute_result"
    },
    {
     "data": {
      "text/plain": [
       "[<matplotlib.lines.Line2D at 0x1e787553730>]"
      ]
     },
     "execution_count": 51,
     "metadata": {},
     "output_type": "execute_result"
    },
    {
     "data": {
      "text/plain": [
       "[<matplotlib.lines.Line2D at 0x1e787553cd0>]"
      ]
     },
     "execution_count": 51,
     "metadata": {},
     "output_type": "execute_result"
    },
    {
     "data": {
      "image/png": "[encoded data removed]",
      "text/plain": [
       "<Figure size 432x288 with 1 Axes>"
      ]
     },
     "metadata": {},
     "output_type": "display_data"
    }
   ],
   "source": [
    "from sklearn.metrics import roc_curve\n",
    "fpr, tpr, _ = roc_curve(y_test, dt_probability)\n",
    "\n",
    "plt.title('Decision Tree ROC curve')\n",
    "plt.xlabel('FPR (Precision)')\n",
    "plt.ylabel('TPR (Recall)')\n",
    "\n",
    "plt.plot(fpr,tpr)\n",
    "plt.plot((0,1), ls='dashed',color='black')\n",
    "plt.show()"
   ]
  },
  {
   "cell_type": "markdown",
   "id": "f2359b16",
   "metadata": {},
   "source": [
    "## Confusion Matrix"
   ]
  },
  {
   "cell_type": "code",
   "execution_count": 52,
   "id": "2cbaed38",
   "metadata": {},
   "outputs": [
    {
     "name": "stdout",
     "output_type": "stream",
     "text": [
      "[[1116  338]\n",
      " [ 410  136]]\n"
     ]
    },
    {
     "data": {
      "text/plain": [
       "<AxesSubplot:>"
      ]
     },
     "execution_count": 52,
     "metadata": {},
     "output_type": "execute_result"
    },
    {
     "data": {
      "image/png": "[encoded data removed]",
      "text/plain": [
       "<Figure size 432x288 with 2 Axes>"
      ]
     },
     "metadata": {},
     "output_type": "display_data"
    }
   ],
   "source": [
    "cm=confusion_matrix(y_pred,y_test)\n",
    "print(cm)\n",
    "sns.heatmap(cm,annot=True,cmap='GnBu')"
   ]
  },
  {
   "cell_type": "markdown",
   "id": "ebd96c34",
   "metadata": {},
   "source": [
    "## SVC"
   ]
  },
  {
   "cell_type": "code",
   "execution_count": 53,
   "id": "b8d95306",
   "metadata": {},
   "outputs": [
    {
     "name": "stdout",
     "output_type": "stream",
     "text": [
      "Accuracy :  0.763\n",
      "ROC_AUC Score: 0.5\n"
     ]
    }
   ],
   "source": [
    "# Model 4: SVC\n",
    "\n",
    "from sklearn import svm\n",
    "from sklearn.metrics import classification_report, confusion_matrix\n",
    "from sklearn.metrics import accuracy_score, precision_score, recall_score, f1_score, roc_auc_score\n",
    "\n",
    "model=svm.SVC(kernel='rbf', probability=True) \n",
    "model=model.fit(X_train,y_train)\n",
    "pred=model.predict(X_test)\n",
    "svc_probability =model.predict_proba(X_test)[:,1]\n",
    "y_pred = model.predict(X_test)\n",
    "\n",
    "acc_svc=accuracy_score(y_test, y_pred)\n",
    "recall_svc=recall_score(y_test, y_pred, zero_division = 1)\n",
    "precision_svc=precision_score(y_test, y_pred, zero_division = 1)\n",
    "f1score_svc=f1_score(y_test, y_pred, zero_division = 1)\n",
    "AUC_SVC=roc_auc_score(y_test, y_pred)\n",
    "#print accuracy and Auc values of model\n",
    "print(\"Accuracy : \", accuracy_score(y_test,y_pred))\n",
    "print(\"ROC_AUC Score:\",AUC_SVC)"
   ]
  },
  {
   "cell_type": "code",
   "execution_count": 54,
   "id": "9bebd2c4",
   "metadata": {},
   "outputs": [
    {
     "name": "stdout",
     "output_type": "stream",
     "text": [
      "              precision    recall  f1-score   support\n",
      "\n",
      "           0       1.00      0.76      0.87      2000\n",
      "           1       0.00      0.00      0.00         0\n",
      "\n",
      "    accuracy                           0.76      2000\n",
      "   macro avg       0.50      0.38      0.43      2000\n",
      "weighted avg       1.00      0.76      0.87      2000\n",
      "\n"
     ]
    }
   ],
   "source": [
    "print(classification_report(y_pred,y_test))"
   ]
  },
  {
   "cell_type": "markdown",
   "id": "886c4359",
   "metadata": {},
   "source": [
    "## ROC CURVE"
   ]
  },
  {
   "cell_type": "code",
   "execution_count": 55,
   "id": "6a410539",
   "metadata": {},
   "outputs": [
    {
     "data": {
      "text/plain": [
       "Text(0.5, 1.0, 'SVC ROC curve')"
      ]
     },
     "execution_count": 55,
     "metadata": {},
     "output_type": "execute_result"
    },
    {
     "data": {
      "text/plain": [
       "Text(0.5, 0, 'FPR (Precision)')"
      ]
     },
     "execution_count": 55,
     "metadata": {},
     "output_type": "execute_result"
    },
    {
     "data": {
      "text/plain": [
       "Text(0, 0.5, 'TPR (Recall)')"
      ]
     },
     "execution_count": 55,
     "metadata": {},
     "output_type": "execute_result"
    },
    {
     "data": {
      "text/plain": [
       "[<matplotlib.lines.Line2D at 0x1e78e4f11f0>]"
      ]
     },
     "execution_count": 55,
     "metadata": {},
     "output_type": "execute_result"
    },
    {
     "data": {
      "text/plain": [
       "[<matplotlib.lines.Line2D at 0x1e78e4f1730>]"
      ]
     },
     "execution_count": 55,
     "metadata": {},
     "output_type": "execute_result"
    },
    {
     "data": {
      "image/png": "[encoded data removed]",
      "text/plain": [
       "<Figure size 432x288 with 1 Axes>"
      ]
     },
     "metadata": {},
     "output_type": "display_data"
    }
   ],
   "source": [
    "from sklearn.metrics import roc_curve\n",
    "fpr, tpr, _ = roc_curve(y_test, svc_probability)\n",
    "\n",
    "plt.title('SVC ROC curve')\n",
    "plt.xlabel('FPR (Precision)')\n",
    "plt.ylabel('TPR (Recall)')\n",
    "\n",
    "plt.plot(fpr,tpr)\n",
    "plt.plot((0,1), ls='dashed',color='black')\n",
    "plt.show()"
   ]
  },
  {
   "cell_type": "markdown",
   "id": "9609d9b9",
   "metadata": {},
   "source": [
    "## Confusion Matrix"
   ]
  },
  {
   "cell_type": "code",
   "execution_count": 56,
   "id": "59ef8e47",
   "metadata": {},
   "outputs": [
    {
     "name": "stdout",
     "output_type": "stream",
     "text": [
      "[[1526  474]\n",
      " [   0    0]]\n"
     ]
    },
    {
     "data": {
      "text/plain": [
       "<AxesSubplot:>"
      ]
     },
     "execution_count": 56,
     "metadata": {},
     "output_type": "execute_result"
    },
    {
     "data": {
      "image/png": "[encoded data removed]",
      "text/plain": [
       "<Figure size 432x288 with 2 Axes>"
      ]
     },
     "metadata": {},
     "output_type": "display_data"
    }
   ],
   "source": [
    "cm=confusion_matrix(y_pred,y_test)\n",
    "print(cm)\n",
    "sns.heatmap(cm,annot=True,cmap='RdPu')"
   ]
  },
  {
   "cell_type": "markdown",
   "id": "a792c205",
   "metadata": {},
   "source": [
    "## KNN"
   ]
  },
  {
   "cell_type": "code",
   "execution_count": 57,
   "id": "f8c196a1",
   "metadata": {},
   "outputs": [
    {
     "name": "stdout",
     "output_type": "stream",
     "text": [
      "Accuracy :  0.732\n",
      "ROC_AUC Score: 0.49931980689151756\n"
     ]
    }
   ],
   "source": [
    "# Model 5: KNN\n",
    "\n",
    "from sklearn.neighbors import KNeighborsClassifier\n",
    "from sklearn.metrics import classification_report, confusion_matrix\n",
    "from sklearn.metrics import accuracy_score, precision_score, recall_score, f1_score, roc_auc_score\n",
    "\n",
    "model=KNeighborsClassifier(n_neighbors=2)\n",
    "model=model.fit(X_train,y_train)\n",
    "pred=model.predict(X_test)\n",
    "knn_probability =model.predict_proba(X_test)[:,1]\n",
    "y_pred = model.predict(X_test)\n",
    "\n",
    "acc_knn=accuracy_score(y_test, y_pred)\n",
    "recall_knn=recall_score(y_test, y_pred, zero_division = 1)\n",
    "precision_knn=precision_score(y_test, y_pred, zero_division = 1)\n",
    "f1score_knn=f1_score(y_test, y_pred, zero_division = 1)\n",
    "AUC_KNN=roc_auc_score(y_test, y_pred)\n",
    "#print accuracy and Auc values of model\n",
    "print(\"Accuracy : \", accuracy_score(y_test,y_pred))\n",
    "print(\"ROC_AUC Score:\",AUC_KNN)"
   ]
  },
  {
   "cell_type": "code",
   "execution_count": 58,
   "id": "646cc717",
   "metadata": {},
   "outputs": [
    {
     "name": "stdout",
     "output_type": "stream",
     "text": [
      "              precision    recall  f1-score   support\n",
      "\n",
      "           0       0.94      0.76      0.84      1884\n",
      "           1       0.06      0.23      0.09       116\n",
      "\n",
      "    accuracy                           0.73      2000\n",
      "   macro avg       0.50      0.50      0.47      2000\n",
      "weighted avg       0.89      0.73      0.80      2000\n",
      "\n"
     ]
    }
   ],
   "source": [
    "print(classification_report(y_pred,y_test))"
   ]
  },
  {
   "cell_type": "markdown",
   "id": "f200381d",
   "metadata": {},
   "source": [
    "## ROC CURVE"
   ]
  },
  {
   "cell_type": "code",
   "execution_count": 59,
   "id": "e7275440",
   "metadata": {},
   "outputs": [
    {
     "data": {
      "text/plain": [
       "Text(0.5, 1.0, 'KNN ROC curve')"
      ]
     },
     "execution_count": 59,
     "metadata": {},
     "output_type": "execute_result"
    },
    {
     "data": {
      "text/plain": [
       "Text(0.5, 0, 'FPR (Precision)')"
      ]
     },
     "execution_count": 59,
     "metadata": {},
     "output_type": "execute_result"
    },
    {
     "data": {
      "text/plain": [
       "Text(0, 0.5, 'TPR (Recall)')"
      ]
     },
     "execution_count": 59,
     "metadata": {},
     "output_type": "execute_result"
    },
    {
     "data": {
      "text/plain": [
       "[<matplotlib.lines.Line2D at 0x1e78e5d8d90>]"
      ]
     },
     "execution_count": 59,
     "metadata": {},
     "output_type": "execute_result"
    },
    {
     "data": {
      "text/plain": [
       "[<matplotlib.lines.Line2D at 0x1e78e5e64f0>]"
      ]
     },
     "execution_count": 59,
     "metadata": {},
     "output_type": "execute_result"
    },
    {
     "data": {
      "image/png": "[encoded data removed]",
      "text/plain": [
       "<Figure size 432x288 with 1 Axes>"
      ]
     },
     "metadata": {},
     "output_type": "display_data"
    }
   ],
   "source": [
    "from sklearn.metrics import roc_curve\n",
    "fpr, tpr, _ = roc_curve(y_test, knn_probability)\n",
    "\n",
    "plt.title('KNN ROC curve')\n",
    "plt.xlabel('FPR (Precision)')\n",
    "plt.ylabel('TPR (Recall)')\n",
    "\n",
    "plt.plot(fpr,tpr)\n",
    "plt.plot((0,1), ls='dashed',color='black')\n",
    "plt.show()"
   ]
  },
  {
   "cell_type": "markdown",
   "id": "7e023b77",
   "metadata": {},
   "source": [
    "## Confusion Matrix"
   ]
  },
  {
   "cell_type": "code",
   "execution_count": 60,
   "id": "7e079f18",
   "metadata": {},
   "outputs": [
    {
     "name": "stdout",
     "output_type": "stream",
     "text": [
      "[[1437  447]\n",
      " [  89   27]]\n"
     ]
    },
    {
     "data": {
      "text/plain": [
       "<AxesSubplot:>"
      ]
     },
     "execution_count": 60,
     "metadata": {},
     "output_type": "execute_result"
    },
    {
     "data": {
      "image/png": "[encoded data removed]",
      "text/plain": [
       "<Figure size 432x288 with 2 Axes>"
      ]
     },
     "metadata": {},
     "output_type": "display_data"
    }
   ],
   "source": [
    "cm=confusion_matrix(y_pred,y_test)\n",
    "print(cm)\n",
    "sns.heatmap(cm,annot=True,cmap='BuPu')"
   ]
  },
  {
   "cell_type": "markdown",
   "id": "cc9fea1a",
   "metadata": {},
   "source": [
    "## Gradient Boosting"
   ]
  },
  {
   "cell_type": "code",
   "execution_count": 61,
   "id": "b719ec9c",
   "metadata": {},
   "outputs": [
    {
     "name": "stdout",
     "output_type": "stream",
     "text": [
      "Accuracy :  0.763\n",
      "ROC_AUC Score: 0.5029087932931853\n"
     ]
    }
   ],
   "source": [
    "# Model 6: Gradient Boosting\n",
    "\n",
    "from sklearn.ensemble import GradientBoostingClassifier\n",
    "from sklearn.metrics import classification_report, confusion_matrix\n",
    "from sklearn.metrics import accuracy_score, precision_score, recall_score, f1_score, roc_auc_score\n",
    "\n",
    "model=GradientBoostingClassifier(n_estimators=100, random_state=0)\n",
    "model=model.fit(X_train,y_train)\n",
    "pred=model.predict(X_test)\n",
    "gb_probability =model.predict_proba(X_test)[:,1]\n",
    "y_pred = model.predict(X_test)\n",
    "\n",
    "acc_gb=accuracy_score(y_test, y_pred)\n",
    "recall_gb=recall_score(y_test, y_pred, zero_division = 1)\n",
    "precision_gb=precision_score(y_test, y_pred, zero_division = 1)\n",
    "f1score_gb=f1_score(y_test, y_pred, zero_division = 1)\n",
    "AUC_GB=roc_auc_score(y_test, y_pred)\n",
    "#print accuracy and Auc values of model\n",
    "print(\"Accuracy : \", accuracy_score(y_test,y_pred))\n",
    "print(\"ROC_AUC Score:\",AUC_GB)"
   ]
  },
  {
   "cell_type": "code",
   "execution_count": 62,
   "id": "a50c8f35",
   "metadata": {},
   "outputs": [
    {
     "name": "stdout",
     "output_type": "stream",
     "text": [
      "              precision    recall  f1-score   support\n",
      "\n",
      "           0       1.00      0.76      0.87      1992\n",
      "           1       0.01      0.50      0.02         8\n",
      "\n",
      "    accuracy                           0.76      2000\n",
      "   macro avg       0.50      0.63      0.44      2000\n",
      "weighted avg       0.99      0.76      0.86      2000\n",
      "\n"
     ]
    }
   ],
   "source": [
    "print(classification_report(y_pred,y_test))"
   ]
  },
  {
   "cell_type": "markdown",
   "id": "237017b9",
   "metadata": {},
   "source": [
    "## ROC CURVE"
   ]
  },
  {
   "cell_type": "code",
   "execution_count": 63,
   "id": "1ded3aa5",
   "metadata": {},
   "outputs": [
    {
     "data": {
      "text/plain": [
       "Text(0.5, 1.0, 'Gradient Boosting ROC curve')"
      ]
     },
     "execution_count": 63,
     "metadata": {},
     "output_type": "execute_result"
    },
    {
     "data": {
      "text/plain": [
       "Text(0.5, 0, 'FPR (Precision)')"
      ]
     },
     "execution_count": 63,
     "metadata": {},
     "output_type": "execute_result"
    },
    {
     "data": {
      "text/plain": [
       "Text(0, 0.5, 'TPR (Recall)')"
      ]
     },
     "execution_count": 63,
     "metadata": {},
     "output_type": "execute_result"
    },
    {
     "data": {
      "text/plain": [
       "[<matplotlib.lines.Line2D at 0x1e787611880>]"
      ]
     },
     "execution_count": 63,
     "metadata": {},
     "output_type": "execute_result"
    },
    {
     "data": {
      "text/plain": [
       "[<matplotlib.lines.Line2D at 0x1e7875695b0>]"
      ]
     },
     "execution_count": 63,
     "metadata": {},
     "output_type": "execute_result"
    },
    {
     "data": {
      "image/png": "[encoded data removed]",
      "text/plain": [
       "<Figure size 432x288 with 1 Axes>"
      ]
     },
     "metadata": {},
     "output_type": "display_data"
    }
   ],
   "source": [
    "from sklearn.metrics import roc_curve\n",
    "fpr, tpr, _ = roc_curve(y_test, gb_probability)\n",
    "\n",
    "plt.title('Gradient Boosting ROC curve')\n",
    "plt.xlabel('FPR (Precision)')\n",
    "plt.ylabel('TPR (Recall)')\n",
    "\n",
    "plt.plot(fpr,tpr)\n",
    "plt.plot((0,1), ls='dashed',color='black')\n",
    "plt.show()"
   ]
  },
  {
   "cell_type": "markdown",
   "id": "5e95a0da",
   "metadata": {},
   "source": [
    "## Confusion Matrix"
   ]
  },
  {
   "cell_type": "code",
   "execution_count": 64,
   "id": "0a271bd6",
   "metadata": {},
   "outputs": [
    {
     "name": "stdout",
     "output_type": "stream",
     "text": [
      "[[1522  470]\n",
      " [   4    4]]\n"
     ]
    },
    {
     "data": {
      "text/plain": [
       "<AxesSubplot:>"
      ]
     },
     "execution_count": 64,
     "metadata": {},
     "output_type": "execute_result"
    },
    {
     "data": {
      "image/png": "[encoded data removed]",
      "text/plain": [
       "<Figure size 432x288 with 2 Axes>"
      ]
     },
     "metadata": {},
     "output_type": "display_data"
    }
   ],
   "source": [
    "cm=confusion_matrix(y_pred,y_test)\n",
    "print(cm)\n",
    "sns.heatmap(cm,annot=True,cmap='GnBu')"
   ]
  },
  {
   "cell_type": "markdown",
   "id": "ee2b13cd",
   "metadata": {},
   "source": [
    "## AdaBoost"
   ]
  },
  {
   "cell_type": "code",
   "execution_count": 65,
   "id": "883bd94e",
   "metadata": {},
   "outputs": [
    {
     "name": "stdout",
     "output_type": "stream",
     "text": [
      "Accuracy :  0.761\n",
      "ROC_AUC Score: 0.49941658233378133\n"
     ]
    }
   ],
   "source": [
    "# Model 7: AdaBoost\n",
    "\n",
    "from sklearn.ensemble import AdaBoostClassifier\n",
    "from sklearn.metrics import classification_report, confusion_matrix\n",
    "from sklearn.metrics import accuracy_score, precision_score, recall_score, f1_score, roc_auc_score\n",
    "\n",
    "model=AdaBoostClassifier(n_estimators=100, random_state=0)\n",
    "model=model.fit(X_train,y_train)\n",
    "pred=model.predict(X_test)\n",
    "ab_probability =model.predict_proba(X_test)[:,1]\n",
    "y_pred = model.predict(X_test)\n",
    "\n",
    "acc_ab=accuracy_score(y_test, y_pred)\n",
    "recall_ab=recall_score(y_test, y_pred, zero_division = 1)\n",
    "precision_ab=precision_score(y_test, y_pred, zero_division = 1)\n",
    "f1score_ab=f1_score(y_test, y_pred, zero_division = 1)\n",
    "AUC_AB=roc_auc_score(y_test, y_pred)\n",
    "#print accuracy and Auc values of model\n",
    "print(\"Accuracy : \", accuracy_score(y_test,y_pred))\n",
    "print(\"ROC_AUC Score:\",AUC_AB)"
   ]
  },
  {
   "cell_type": "code",
   "execution_count": 66,
   "id": "88e6aca3",
   "metadata": {},
   "outputs": [
    {
     "name": "stdout",
     "output_type": "stream",
     "text": [
      "              precision    recall  f1-score   support\n",
      "\n",
      "           0       1.00      0.76      0.86      1994\n",
      "           1       0.00      0.17      0.00         6\n",
      "\n",
      "    accuracy                           0.76      2000\n",
      "   macro avg       0.50      0.46      0.43      2000\n",
      "weighted avg       0.99      0.76      0.86      2000\n",
      "\n"
     ]
    }
   ],
   "source": [
    "print(classification_report(y_pred,y_test))"
   ]
  },
  {
   "cell_type": "markdown",
   "id": "12442c5a",
   "metadata": {},
   "source": [
    "## ROC CURVE"
   ]
  },
  {
   "cell_type": "code",
   "execution_count": 67,
   "id": "539e475a",
   "metadata": {},
   "outputs": [
    {
     "data": {
      "text/plain": [
       "Text(0.5, 1.0, 'AdaBoost ROC curve')"
      ]
     },
     "execution_count": 67,
     "metadata": {},
     "output_type": "execute_result"
    },
    {
     "data": {
      "text/plain": [
       "Text(0.5, 0, 'FPR (Precision)')"
      ]
     },
     "execution_count": 67,
     "metadata": {},
     "output_type": "execute_result"
    },
    {
     "data": {
      "text/plain": [
       "Text(0, 0.5, 'TPR (Recall)')"
      ]
     },
     "execution_count": 67,
     "metadata": {},
     "output_type": "execute_result"
    },
    {
     "data": {
      "text/plain": [
       "[<matplotlib.lines.Line2D at 0x1e78e79f340>]"
      ]
     },
     "execution_count": 67,
     "metadata": {},
     "output_type": "execute_result"
    },
    {
     "data": {
      "text/plain": [
       "[<matplotlib.lines.Line2D at 0x1e78e79f8e0>]"
      ]
     },
     "execution_count": 67,
     "metadata": {},
     "output_type": "execute_result"
    },
    {
     "data": {
      "image/png": "[encoded data removed]",
      "text/plain": [
       "<Figure size 432x288 with 1 Axes>"
      ]
     },
     "metadata": {},
     "output_type": "display_data"
    }
   ],
   "source": [
    "from sklearn.metrics import roc_curve\n",
    "fpr, tpr, _ = roc_curve(y_test, ab_probability)\n",
    "\n",
    "plt.title('AdaBoost ROC curve')\n",
    "plt.xlabel('FPR (Precision)')\n",
    "plt.ylabel('TPR (Recall)')\n",
    "\n",
    "plt.plot(fpr,tpr)\n",
    "plt.plot((0,1), ls='dashed',color='black')\n",
    "plt.show()"
   ]
  },
  {
   "cell_type": "markdown",
   "id": "0fffacc0",
   "metadata": {},
   "source": [
    "## Confusion Matrix"
   ]
  },
  {
   "cell_type": "code",
   "execution_count": 68,
   "id": "29ade407",
   "metadata": {},
   "outputs": [
    {
     "name": "stdout",
     "output_type": "stream",
     "text": [
      "[[1521  473]\n",
      " [   5    1]]\n"
     ]
    },
    {
     "data": {
      "text/plain": [
       "<AxesSubplot:>"
      ]
     },
     "execution_count": 68,
     "metadata": {},
     "output_type": "execute_result"
    },
    {
     "data": {
      "image/png": "[encoded data removed]",
      "text/plain": [
       "<Figure size 432x288 with 2 Axes>"
      ]
     },
     "metadata": {},
     "output_type": "display_data"
    }
   ],
   "source": [
    "cm=confusion_matrix(y_pred,y_test)\n",
    "print(cm)\n",
    "sns.heatmap(cm,annot=True,cmap='RdPu')"
   ]
  },
  {
   "cell_type": "markdown",
   "id": "8b945622",
   "metadata": {},
   "source": [
    "## Models Comparision"
   ]
  },
  {
   "cell_type": "code",
   "execution_count": 69,
   "id": "318fc676",
   "metadata": {},
   "outputs": [
    {
     "data": {
      "text/html": [
       "<div>\n",
       "<style scoped>\n",
       "    .dataframe tbody tr th:only-of-type {\n",
       "        vertical-align: middle;\n",
       "    }\n",
       "\n",
       "    .dataframe tbody tr th {\n",
       "        vertical-align: top;\n",
       "    }\n",
       "\n",
       "    .dataframe thead th {\n",
       "        text-align: right;\n",
       "    }\n",
       "</style>\n",
       "<table border=\"1\" class=\"dataframe\">\n",
       "  <thead>\n",
       "    <tr style=\"text-align: right;\">\n",
       "      <th></th>\n",
       "      <th>Accuracy</th>\n",
       "      <th>Recall</th>\n",
       "      <th>Precision</th>\n",
       "      <th>f1_score</th>\n",
       "      <th>ROC_AUC</th>\n",
       "    </tr>\n",
       "  </thead>\n",
       "  <tbody>\n",
       "    <tr>\n",
       "      <th>Logistic regression</th>\n",
       "      <td>0.7630</td>\n",
       "      <td>0.000000</td>\n",
       "      <td>1.000000</td>\n",
       "      <td>0.000000</td>\n",
       "      <td>0.500000</td>\n",
       "    </tr>\n",
       "    <tr>\n",
       "      <th>Randomforest</th>\n",
       "      <td>0.7405</td>\n",
       "      <td>0.054852</td>\n",
       "      <td>0.268041</td>\n",
       "      <td>0.091068</td>\n",
       "      <td>0.504163</td>\n",
       "    </tr>\n",
       "    <tr>\n",
       "      <th>Decisiontree</th>\n",
       "      <td>0.6260</td>\n",
       "      <td>0.286920</td>\n",
       "      <td>0.249084</td>\n",
       "      <td>0.266667</td>\n",
       "      <td>0.509122</td>\n",
       "    </tr>\n",
       "    <tr>\n",
       "      <th>SVC</th>\n",
       "      <td>0.7630</td>\n",
       "      <td>0.000000</td>\n",
       "      <td>1.000000</td>\n",
       "      <td>0.000000</td>\n",
       "      <td>0.500000</td>\n",
       "    </tr>\n",
       "    <tr>\n",
       "      <th>KNN</th>\n",
       "      <td>0.7320</td>\n",
       "      <td>0.056962</td>\n",
       "      <td>0.232759</td>\n",
       "      <td>0.091525</td>\n",
       "      <td>0.499320</td>\n",
       "    </tr>\n",
       "    <tr>\n",
       "      <th>Gradientboosting</th>\n",
       "      <td>0.7630</td>\n",
       "      <td>0.008439</td>\n",
       "      <td>0.500000</td>\n",
       "      <td>0.016598</td>\n",
       "      <td>0.502909</td>\n",
       "    </tr>\n",
       "    <tr>\n",
       "      <th>Adaboost</th>\n",
       "      <td>0.7610</td>\n",
       "      <td>0.002110</td>\n",
       "      <td>0.166667</td>\n",
       "      <td>0.004167</td>\n",
       "      <td>0.499417</td>\n",
       "    </tr>\n",
       "  </tbody>\n",
       "</table>\n",
       "</div>"
      ],
      "text/plain": [
       "                     Accuracy    Recall  Precision  f1_score   ROC_AUC\n",
       "Logistic regression    0.7630  0.000000   1.000000  0.000000  0.500000\n",
       "Randomforest           0.7405  0.054852   0.268041  0.091068  0.504163\n",
       "Decisiontree           0.6260  0.286920   0.249084  0.266667  0.509122\n",
       "SVC                    0.7630  0.000000   1.000000  0.000000  0.500000\n",
       "KNN                    0.7320  0.056962   0.232759  0.091525  0.499320\n",
       "Gradientboosting       0.7630  0.008439   0.500000  0.016598  0.502909\n",
       "Adaboost               0.7610  0.002110   0.166667  0.004167  0.499417"
      ]
     },
     "execution_count": 69,
     "metadata": {},
     "output_type": "execute_result"
    }
   ],
   "source": [
    "ind=['Logistic regression','Randomforest','Decisiontree','SVC','KNN','Gradientboosting','Adaboost']\n",
    "data={\"Accuracy\":[acc_lr,acc_rf,acc_dt,acc_svc,acc_knn,acc_gb,acc_ab],\n",
    "      \"Recall\":[recall_lr,recall_rf,recall_dt,recall_svc,recall_knn,recall_gb,recall_ab],\n",
    "      \"Precision\":[precision_lr,precision_rf,precision_dt,precision_svc,precision_knn,precision_gb,precision_ab],\n",
    "    'f1_score':[f1score_lr,f1score_rf,f1score_dt,f1score_svc,f1score_knn,f1score_gb,f1score_ab],\n",
    "      \"ROC_AUC\":[AUC_LR,AUC_RF,AUC_DT,AUC_SVC,AUC_KNN,AUC_GB,AUC_AB]}\n",
    "result=pd.DataFrame(data=data,index=ind)\n",
    "result"
   ]
  },
  {
   "cell_type": "code",
   "execution_count": null,
   "id": "5b28a402",
   "metadata": {},
   "outputs": [],
   "source": []
  }
 ],
 "metadata": {
  "kernelspec": {
   "display_name": "Python 3",
   "language": "python",
   "name": "python3"
  },
  "language_info": {
   "codemirror_mode": {
    "name": "ipython",
    "version": 3
   },
   "file_extension": ".py",
   "mimetype": "text/x-python",
   "name": "python",
   "nbconvert_exporter": "python",
   "pygments_lexer": "ipython3",
   "version": "3.8.8"
  }
 },
 "nbformat": 4,
 "nbformat_minor": 5
}
