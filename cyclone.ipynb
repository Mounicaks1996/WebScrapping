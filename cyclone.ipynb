{
 "cells": [
  {
   "cell_type": "code",
   "execution_count": 4,
   "id": "979d85ed",
   "metadata": {},
   "outputs": [],
   "source": [
    "import numpy as np\n",
    "import pandas as pd\n",
    "import datetime as dt\n",
    "import matplotlib.pyplot as plt\n",
    "import seaborn as sns\n",
    "#inline statement - displays the graphs in the current notebook\n",
    "%matplotlib inline\n",
    "from sklearn.model_selection import train_test_split, LeaveOneOut, GridSearchCV\n",
    "from sklearn.preprocessing import LabelEncoder, OneHotEncoder, scale, StandardScaler\n",
    "from sklearn.linear_model import LinearRegression, RidgeCV, LassoCV, Ridge, Lasso\n",
    "from sklearn import preprocessing"
   ]
  },
  {
   "cell_type": "code",
   "execution_count": 5,
   "id": "23c31a4f",
   "metadata": {},
   "outputs": [
    {
     "data": {
      "text/plain": [
       "'C:\\\\Users\\\\Shree'"
      ]
     },
     "execution_count": 5,
     "metadata": {},
     "output_type": "execute_result"
    }
   ],
   "source": [
    "# loction\n",
    "import os\n",
    "os.getcwd()"
   ]
  },
  {
   "cell_type": "code",
   "execution_count": 6,
   "id": "ef9257a7",
   "metadata": {},
   "outputs": [
    {
     "name": "stderr",
     "output_type": "stream",
     "text": [
      "C:\\Users\\Shree\\anaconda3\\lib\\site-packages\\openpyxl\\worksheet\\_reader.py:312: UserWarning: Unknown extension is not supported and will be removed\n",
      "  warn(msg)\n"
     ]
    }
   ],
   "source": [
    "data = pd.read_excel(\"data.xlsx\")"
   ]
  },
  {
   "cell_type": "code",
   "execution_count": 7,
   "id": "d25e91a5",
   "metadata": {},
   "outputs": [
    {
     "data": {
      "text/html": [
       "<div>\n",
       "<style scoped>\n",
       "    .dataframe tbody tr th:only-of-type {\n",
       "        vertical-align: middle;\n",
       "    }\n",
       "\n",
       "    .dataframe tbody tr th {\n",
       "        vertical-align: top;\n",
       "    }\n",
       "\n",
       "    .dataframe thead th {\n",
       "        text-align: right;\n",
       "    }\n",
       "</style>\n",
       "<table border=\"1\" class=\"dataframe\">\n",
       "  <thead>\n",
       "    <tr style=\"text-align: right;\">\n",
       "      <th></th>\n",
       "      <th>time</th>\n",
       "      <th>Cyclone_Inlet_Gas_Temp</th>\n",
       "      <th>Cyclone_Material_Temp</th>\n",
       "      <th>Cyclone_Outlet_Gas_draft</th>\n",
       "      <th>Cyclone_cone_draft</th>\n",
       "      <th>Cyclone_Gas_Outlet_Temp</th>\n",
       "      <th>Cyclone_Inlet_Draft</th>\n",
       "    </tr>\n",
       "  </thead>\n",
       "  <tbody>\n",
       "    <tr>\n",
       "      <th>0</th>\n",
       "      <td>2017-01-01 00:00:00</td>\n",
       "      <td>867.63</td>\n",
       "      <td>910.42</td>\n",
       "      <td>-189.54</td>\n",
       "      <td>-186.04</td>\n",
       "      <td>852.13</td>\n",
       "      <td>-145.9</td>\n",
       "    </tr>\n",
       "    <tr>\n",
       "      <th>1</th>\n",
       "      <td>2017-01-01 00:05:00</td>\n",
       "      <td>879.23</td>\n",
       "      <td>918.14</td>\n",
       "      <td>-184.33</td>\n",
       "      <td>-182.1</td>\n",
       "      <td>862.53</td>\n",
       "      <td>-149.76</td>\n",
       "    </tr>\n",
       "    <tr>\n",
       "      <th>2</th>\n",
       "      <td>2017-01-01 00:10:00</td>\n",
       "      <td>875.67</td>\n",
       "      <td>924.18</td>\n",
       "      <td>-181.26</td>\n",
       "      <td>-166.47</td>\n",
       "      <td>866.06</td>\n",
       "      <td>-145.01</td>\n",
       "    </tr>\n",
       "    <tr>\n",
       "      <th>3</th>\n",
       "      <td>2017-01-01 00:15:00</td>\n",
       "      <td>875.28</td>\n",
       "      <td>923.15</td>\n",
       "      <td>-179.15</td>\n",
       "      <td>-174.83</td>\n",
       "      <td>865.85</td>\n",
       "      <td>-142.82</td>\n",
       "    </tr>\n",
       "    <tr>\n",
       "      <th>4</th>\n",
       "      <td>2017-01-01 00:20:00</td>\n",
       "      <td>891.66</td>\n",
       "      <td>934.26</td>\n",
       "      <td>-178.32</td>\n",
       "      <td>-173.72</td>\n",
       "      <td>876.06</td>\n",
       "      <td>-143.39</td>\n",
       "    </tr>\n",
       "    <tr>\n",
       "      <th>...</th>\n",
       "      <td>...</td>\n",
       "      <td>...</td>\n",
       "      <td>...</td>\n",
       "      <td>...</td>\n",
       "      <td>...</td>\n",
       "      <td>...</td>\n",
       "      <td>...</td>\n",
       "    </tr>\n",
       "    <tr>\n",
       "      <th>377714</th>\n",
       "      <td>2020-08-07 11:55:00</td>\n",
       "      <td>899.42</td>\n",
       "      <td>919.79</td>\n",
       "      <td>-224.07</td>\n",
       "      <td>-209.77</td>\n",
       "      <td>901.01</td>\n",
       "      <td>-175.15</td>\n",
       "    </tr>\n",
       "    <tr>\n",
       "      <th>377715</th>\n",
       "      <td>2020-08-07 12:00:00</td>\n",
       "      <td>879.9</td>\n",
       "      <td>895.02</td>\n",
       "      <td>-228.04</td>\n",
       "      <td>-211.28</td>\n",
       "      <td>878.08</td>\n",
       "      <td>-176.94</td>\n",
       "    </tr>\n",
       "    <tr>\n",
       "      <th>377716</th>\n",
       "      <td>2020-08-07 12:05:00</td>\n",
       "      <td>887.2</td>\n",
       "      <td>895.7</td>\n",
       "      <td>-230.11</td>\n",
       "      <td>-214.65</td>\n",
       "      <td>885.32</td>\n",
       "      <td>-179.18</td>\n",
       "    </tr>\n",
       "    <tr>\n",
       "      <th>377717</th>\n",
       "      <td>2020-08-07 12:10:00</td>\n",
       "      <td>908.5</td>\n",
       "      <td>916.33</td>\n",
       "      <td>-231.51</td>\n",
       "      <td>-218.09</td>\n",
       "      <td>906.2</td>\n",
       "      <td>-181.96</td>\n",
       "    </tr>\n",
       "    <tr>\n",
       "      <th>377718</th>\n",
       "      <td>2020-08-07 12:15:00</td>\n",
       "      <td>880.86</td>\n",
       "      <td>905.31</td>\n",
       "      <td>-235.02</td>\n",
       "      <td>-219.44</td>\n",
       "      <td>882.1</td>\n",
       "      <td>-184.02</td>\n",
       "    </tr>\n",
       "  </tbody>\n",
       "</table>\n",
       "<p>377719 rows × 7 columns</p>\n",
       "</div>"
      ],
      "text/plain": [
       "                      time Cyclone_Inlet_Gas_Temp Cyclone_Material_Temp  \\\n",
       "0      2017-01-01 00:00:00                 867.63                910.42   \n",
       "1      2017-01-01 00:05:00                 879.23                918.14   \n",
       "2      2017-01-01 00:10:00                 875.67                924.18   \n",
       "3      2017-01-01 00:15:00                 875.28                923.15   \n",
       "4      2017-01-01 00:20:00                 891.66                934.26   \n",
       "...                    ...                    ...                   ...   \n",
       "377714 2020-08-07 11:55:00                 899.42                919.79   \n",
       "377715 2020-08-07 12:00:00                  879.9                895.02   \n",
       "377716 2020-08-07 12:05:00                  887.2                 895.7   \n",
       "377717 2020-08-07 12:10:00                  908.5                916.33   \n",
       "377718 2020-08-07 12:15:00                 880.86                905.31   \n",
       "\n",
       "       Cyclone_Outlet_Gas_draft Cyclone_cone_draft Cyclone_Gas_Outlet_Temp  \\\n",
       "0                       -189.54            -186.04                  852.13   \n",
       "1                       -184.33             -182.1                  862.53   \n",
       "2                       -181.26            -166.47                  866.06   \n",
       "3                       -179.15            -174.83                  865.85   \n",
       "4                       -178.32            -173.72                  876.06   \n",
       "...                         ...                ...                     ...   \n",
       "377714                  -224.07            -209.77                  901.01   \n",
       "377715                  -228.04            -211.28                  878.08   \n",
       "377716                  -230.11            -214.65                  885.32   \n",
       "377717                  -231.51            -218.09                   906.2   \n",
       "377718                  -235.02            -219.44                   882.1   \n",
       "\n",
       "       Cyclone_Inlet_Draft  \n",
       "0                   -145.9  \n",
       "1                  -149.76  \n",
       "2                  -145.01  \n",
       "3                  -142.82  \n",
       "4                  -143.39  \n",
       "...                    ...  \n",
       "377714             -175.15  \n",
       "377715             -176.94  \n",
       "377716             -179.18  \n",
       "377717             -181.96  \n",
       "377718             -184.02  \n",
       "\n",
       "[377719 rows x 7 columns]"
      ]
     },
     "execution_count": 7,
     "metadata": {},
     "output_type": "execute_result"
    }
   ],
   "source": [
    "data"
   ]
  },
  {
   "cell_type": "code",
   "execution_count": 8,
   "id": "6778c3bb",
   "metadata": {},
   "outputs": [],
   "source": [
    "data.rename({'Cyclone_Inlet_Gas_Temp':'Cy_Inlet_Gas_Temp','Cyclone_Material_Temp':'Cy_Material_Temp','Cyclone_Outlet_Gas_draft':'Cy_Outlet_Gas_draft','Cyclone_cone_draft':'Cy_cone_draft','Cyclone_Gas_Outlet_Temp':'Cy_Gas_Outlet_Temp','Cyclone_Inlet_Draft':'Cy_Inlet_Draft',},axis=1,inplace=True)"
   ]
  },
  {
   "cell_type": "code",
   "execution_count": 9,
   "id": "5675e659",
   "metadata": {},
   "outputs": [
    {
     "data": {
      "text/html": [
       "<div>\n",
       "<style scoped>\n",
       "    .dataframe tbody tr th:only-of-type {\n",
       "        vertical-align: middle;\n",
       "    }\n",
       "\n",
       "    .dataframe tbody tr th {\n",
       "        vertical-align: top;\n",
       "    }\n",
       "\n",
       "    .dataframe thead th {\n",
       "        text-align: right;\n",
       "    }\n",
       "</style>\n",
       "<table border=\"1\" class=\"dataframe\">\n",
       "  <thead>\n",
       "    <tr style=\"text-align: right;\">\n",
       "      <th></th>\n",
       "      <th>time</th>\n",
       "      <th>Cy_Inlet_Gas_Temp</th>\n",
       "      <th>Cy_Material_Temp</th>\n",
       "      <th>Cy_Outlet_Gas_draft</th>\n",
       "      <th>Cy_cone_draft</th>\n",
       "      <th>Cy_Gas_Outlet_Temp</th>\n",
       "      <th>Cy_Inlet_Draft</th>\n",
       "    </tr>\n",
       "  </thead>\n",
       "  <tbody>\n",
       "    <tr>\n",
       "      <th>0</th>\n",
       "      <td>2017-01-01 00:00:00</td>\n",
       "      <td>867.63</td>\n",
       "      <td>910.42</td>\n",
       "      <td>-189.54</td>\n",
       "      <td>-186.04</td>\n",
       "      <td>852.13</td>\n",
       "      <td>-145.9</td>\n",
       "    </tr>\n",
       "    <tr>\n",
       "      <th>1</th>\n",
       "      <td>2017-01-01 00:05:00</td>\n",
       "      <td>879.23</td>\n",
       "      <td>918.14</td>\n",
       "      <td>-184.33</td>\n",
       "      <td>-182.1</td>\n",
       "      <td>862.53</td>\n",
       "      <td>-149.76</td>\n",
       "    </tr>\n",
       "    <tr>\n",
       "      <th>2</th>\n",
       "      <td>2017-01-01 00:10:00</td>\n",
       "      <td>875.67</td>\n",
       "      <td>924.18</td>\n",
       "      <td>-181.26</td>\n",
       "      <td>-166.47</td>\n",
       "      <td>866.06</td>\n",
       "      <td>-145.01</td>\n",
       "    </tr>\n",
       "    <tr>\n",
       "      <th>3</th>\n",
       "      <td>2017-01-01 00:15:00</td>\n",
       "      <td>875.28</td>\n",
       "      <td>923.15</td>\n",
       "      <td>-179.15</td>\n",
       "      <td>-174.83</td>\n",
       "      <td>865.85</td>\n",
       "      <td>-142.82</td>\n",
       "    </tr>\n",
       "    <tr>\n",
       "      <th>4</th>\n",
       "      <td>2017-01-01 00:20:00</td>\n",
       "      <td>891.66</td>\n",
       "      <td>934.26</td>\n",
       "      <td>-178.32</td>\n",
       "      <td>-173.72</td>\n",
       "      <td>876.06</td>\n",
       "      <td>-143.39</td>\n",
       "    </tr>\n",
       "    <tr>\n",
       "      <th>...</th>\n",
       "      <td>...</td>\n",
       "      <td>...</td>\n",
       "      <td>...</td>\n",
       "      <td>...</td>\n",
       "      <td>...</td>\n",
       "      <td>...</td>\n",
       "      <td>...</td>\n",
       "    </tr>\n",
       "    <tr>\n",
       "      <th>377714</th>\n",
       "      <td>2020-08-07 11:55:00</td>\n",
       "      <td>899.42</td>\n",
       "      <td>919.79</td>\n",
       "      <td>-224.07</td>\n",
       "      <td>-209.77</td>\n",
       "      <td>901.01</td>\n",
       "      <td>-175.15</td>\n",
       "    </tr>\n",
       "    <tr>\n",
       "      <th>377715</th>\n",
       "      <td>2020-08-07 12:00:00</td>\n",
       "      <td>879.9</td>\n",
       "      <td>895.02</td>\n",
       "      <td>-228.04</td>\n",
       "      <td>-211.28</td>\n",
       "      <td>878.08</td>\n",
       "      <td>-176.94</td>\n",
       "    </tr>\n",
       "    <tr>\n",
       "      <th>377716</th>\n",
       "      <td>2020-08-07 12:05:00</td>\n",
       "      <td>887.2</td>\n",
       "      <td>895.7</td>\n",
       "      <td>-230.11</td>\n",
       "      <td>-214.65</td>\n",
       "      <td>885.32</td>\n",
       "      <td>-179.18</td>\n",
       "    </tr>\n",
       "    <tr>\n",
       "      <th>377717</th>\n",
       "      <td>2020-08-07 12:10:00</td>\n",
       "      <td>908.5</td>\n",
       "      <td>916.33</td>\n",
       "      <td>-231.51</td>\n",
       "      <td>-218.09</td>\n",
       "      <td>906.2</td>\n",
       "      <td>-181.96</td>\n",
       "    </tr>\n",
       "    <tr>\n",
       "      <th>377718</th>\n",
       "      <td>2020-08-07 12:15:00</td>\n",
       "      <td>880.86</td>\n",
       "      <td>905.31</td>\n",
       "      <td>-235.02</td>\n",
       "      <td>-219.44</td>\n",
       "      <td>882.1</td>\n",
       "      <td>-184.02</td>\n",
       "    </tr>\n",
       "  </tbody>\n",
       "</table>\n",
       "<p>377719 rows × 7 columns</p>\n",
       "</div>"
      ],
      "text/plain": [
       "                      time Cy_Inlet_Gas_Temp Cy_Material_Temp  \\\n",
       "0      2017-01-01 00:00:00            867.63           910.42   \n",
       "1      2017-01-01 00:05:00            879.23           918.14   \n",
       "2      2017-01-01 00:10:00            875.67           924.18   \n",
       "3      2017-01-01 00:15:00            875.28           923.15   \n",
       "4      2017-01-01 00:20:00            891.66           934.26   \n",
       "...                    ...               ...              ...   \n",
       "377714 2020-08-07 11:55:00            899.42           919.79   \n",
       "377715 2020-08-07 12:00:00             879.9           895.02   \n",
       "377716 2020-08-07 12:05:00             887.2            895.7   \n",
       "377717 2020-08-07 12:10:00             908.5           916.33   \n",
       "377718 2020-08-07 12:15:00            880.86           905.31   \n",
       "\n",
       "       Cy_Outlet_Gas_draft Cy_cone_draft Cy_Gas_Outlet_Temp Cy_Inlet_Draft  \n",
       "0                  -189.54       -186.04             852.13         -145.9  \n",
       "1                  -184.33        -182.1             862.53        -149.76  \n",
       "2                  -181.26       -166.47             866.06        -145.01  \n",
       "3                  -179.15       -174.83             865.85        -142.82  \n",
       "4                  -178.32       -173.72             876.06        -143.39  \n",
       "...                    ...           ...                ...            ...  \n",
       "377714             -224.07       -209.77             901.01        -175.15  \n",
       "377715             -228.04       -211.28             878.08        -176.94  \n",
       "377716             -230.11       -214.65             885.32        -179.18  \n",
       "377717             -231.51       -218.09              906.2        -181.96  \n",
       "377718             -235.02       -219.44              882.1        -184.02  \n",
       "\n",
       "[377719 rows x 7 columns]"
      ]
     },
     "execution_count": 9,
     "metadata": {},
     "output_type": "execute_result"
    }
   ],
   "source": [
    "data"
   ]
  },
  {
   "cell_type": "code",
   "execution_count": 10,
   "id": "92873056",
   "metadata": {},
   "outputs": [
    {
     "data": {
      "text/plain": [
       "(377719, 7)"
      ]
     },
     "execution_count": 10,
     "metadata": {},
     "output_type": "execute_result"
    }
   ],
   "source": [
    "data.shape"
   ]
  },
  {
   "cell_type": "code",
   "execution_count": 11,
   "id": "1448ace8",
   "metadata": {},
   "outputs": [
    {
     "name": "stdout",
     "output_type": "stream",
     "text": [
      "<class 'pandas.core.frame.DataFrame'>\n",
      "RangeIndex: 377719 entries, 0 to 377718\n",
      "Data columns (total 7 columns):\n",
      " #   Column               Non-Null Count   Dtype         \n",
      "---  ------               --------------   -----         \n",
      " 0   time                 377719 non-null  datetime64[ns]\n",
      " 1   Cy_Inlet_Gas_Temp    377719 non-null  object        \n",
      " 2   Cy_Material_Temp     377719 non-null  object        \n",
      " 3   Cy_Outlet_Gas_draft  377719 non-null  object        \n",
      " 4   Cy_cone_draft        377719 non-null  object        \n",
      " 5   Cy_Gas_Outlet_Temp   377719 non-null  object        \n",
      " 6   Cy_Inlet_Draft       377719 non-null  object        \n",
      "dtypes: datetime64[ns](1), object(6)\n",
      "memory usage: 20.2+ MB\n"
     ]
    }
   ],
   "source": [
    "data.info()"
   ]
  },
  {
   "cell_type": "code",
   "execution_count": 12,
   "id": "ace4df3e",
   "metadata": {},
   "outputs": [],
   "source": [
    "# Summary Statistics"
   ]
  },
  {
   "cell_type": "code",
   "execution_count": 13,
   "id": "449c18d9",
   "metadata": {},
   "outputs": [
    {
     "data": {
      "text/plain": [
       "time                   0\n",
       "Cy_Inlet_Gas_Temp      0\n",
       "Cy_Material_Temp       0\n",
       "Cy_Outlet_Gas_draft    0\n",
       "Cy_cone_draft          0\n",
       "Cy_Gas_Outlet_Temp     0\n",
       "Cy_Inlet_Draft         0\n",
       "dtype: int64"
      ]
     },
     "execution_count": 13,
     "metadata": {},
     "output_type": "execute_result"
    }
   ],
   "source": [
    "data.isnull().sum()"
   ]
  },
  {
   "cell_type": "code",
   "execution_count": 14,
   "id": "fec90803",
   "metadata": {},
   "outputs": [
    {
     "name": "stdout",
     "output_type": "stream",
     "text": [
      "column name:  time\n",
      "2017-10-01 13:35:00    1\n",
      "2017-02-23 02:45:00    1\n",
      "2018-02-20 16:25:00    1\n",
      "2017-11-05 05:50:00    1\n",
      "2019-11-20 14:15:00    1\n",
      "                      ..\n",
      "2020-07-19 16:50:00    1\n",
      "2018-12-16 09:15:00    1\n",
      "2018-03-15 00:30:00    1\n",
      "2018-03-06 22:30:00    1\n",
      "2019-08-17 15:40:00    1\n",
      "Name: time, Length: 377719, dtype: int64\n",
      "---------------------------------\n",
      "column name:  Cy_Inlet_Gas_Temp\n",
      "Not Connect    723\n",
      "I/O Timeout    470\n",
      "23.53          309\n",
      "900.12         161\n",
      "879.55         159\n",
      "              ... \n",
      "592.03           1\n",
      "648.1            1\n",
      "97.98            1\n",
      "67.4             1\n",
      "209.95           1\n",
      "Name: Cy_Inlet_Gas_Temp, Length: 39736, dtype: int64\n",
      "---------------------------------\n",
      "column name:  Cy_Material_Temp\n",
      "0.00       14226\n",
      "94.31       3669\n",
      "59.56       3409\n",
      "41.64       2865\n",
      "43.14       2829\n",
      "           ...  \n",
      "439.02         1\n",
      "1036.13        1\n",
      "260.65         1\n",
      "96.53          1\n",
      "274.06         1\n",
      "Name: Cy_Material_Temp, Length: 39662, dtype: int64\n",
      "---------------------------------\n",
      "column name:  Cy_Outlet_Gas_draft\n",
      "Not Connect    723\n",
      "I/O Timeout    470\n",
      "1.33           224\n",
      "1.71           220\n",
      "1.34           212\n",
      "              ... \n",
      "-303.17          1\n",
      "-308.39          1\n",
      "-144.48          1\n",
      "-75.24           1\n",
      "-70.82           1\n",
      "Name: Cy_Outlet_Gas_draft, Length: 27669, dtype: int64\n",
      "---------------------------------\n",
      "column name:  Cy_cone_draft\n",
      "Not Connect    723\n",
      "I/O Timeout    470\n",
      "-0.57          329\n",
      "-0.59          316\n",
      "-0.58          307\n",
      "              ... \n",
      "-286.88          1\n",
      "-118.28          1\n",
      "-293.81          1\n",
      "-301.52          1\n",
      "-55.05           1\n",
      "Name: Cy_cone_draft, Length: 26487, dtype: int64\n",
      "---------------------------------\n",
      "column name:  Cy_Gas_Outlet_Temp\n",
      "28.88          2036\n",
      "Not Connect     723\n",
      "I/O Timeout     470\n",
      "24.69           304\n",
      "661.19          197\n",
      "               ... \n",
      "429.47            1\n",
      "547.17            1\n",
      "589.06            1\n",
      "300.89            1\n",
      "594.9             1\n",
      "Name: Cy_Gas_Outlet_Temp, Length: 48044, dtype: int64\n",
      "---------------------------------\n",
      "column name:  Cy_Inlet_Draft\n",
      "Not Connect    723\n",
      "I/O Timeout    470\n",
      "-1.49          282\n",
      "-1.46          276\n",
      "-1.71          276\n",
      "              ... \n",
      "-85.75           1\n",
      "-128.18          1\n",
      "-253.87          1\n",
      "-107.35          1\n",
      "-20.07           1\n",
      "Name: Cy_Inlet_Draft, Length: 24010, dtype: int64\n",
      "---------------------------------\n"
     ]
    }
   ],
   "source": [
    "for col in data.columns:\n",
    "    print('column name: ',col)\n",
    "    print(data[col].value_counts())\n",
    "    print('---------------------------------')"
   ]
  },
  {
   "cell_type": "code",
   "execution_count": 15,
   "id": "259079e6",
   "metadata": {},
   "outputs": [
    {
     "data": {
      "text/html": [
       "<div>\n",
       "<style scoped>\n",
       "    .dataframe tbody tr th:only-of-type {\n",
       "        vertical-align: middle;\n",
       "    }\n",
       "\n",
       "    .dataframe tbody tr th {\n",
       "        vertical-align: top;\n",
       "    }\n",
       "\n",
       "    .dataframe thead th {\n",
       "        text-align: right;\n",
       "    }\n",
       "</style>\n",
       "<table border=\"1\" class=\"dataframe\">\n",
       "  <thead>\n",
       "    <tr style=\"text-align: right;\">\n",
       "      <th></th>\n",
       "      <th>index</th>\n",
       "      <th>data_type</th>\n",
       "    </tr>\n",
       "  </thead>\n",
       "  <tbody>\n",
       "    <tr>\n",
       "      <th>0</th>\n",
       "      <td>time</td>\n",
       "      <td>datetime64[ns]</td>\n",
       "    </tr>\n",
       "    <tr>\n",
       "      <th>1</th>\n",
       "      <td>Cy_Inlet_Gas_Temp</td>\n",
       "      <td>object</td>\n",
       "    </tr>\n",
       "    <tr>\n",
       "      <th>2</th>\n",
       "      <td>Cy_Material_Temp</td>\n",
       "      <td>object</td>\n",
       "    </tr>\n",
       "    <tr>\n",
       "      <th>3</th>\n",
       "      <td>Cy_Outlet_Gas_draft</td>\n",
       "      <td>object</td>\n",
       "    </tr>\n",
       "    <tr>\n",
       "      <th>4</th>\n",
       "      <td>Cy_cone_draft</td>\n",
       "      <td>object</td>\n",
       "    </tr>\n",
       "    <tr>\n",
       "      <th>5</th>\n",
       "      <td>Cy_Gas_Outlet_Temp</td>\n",
       "      <td>object</td>\n",
       "    </tr>\n",
       "    <tr>\n",
       "      <th>6</th>\n",
       "      <td>Cy_Inlet_Draft</td>\n",
       "      <td>object</td>\n",
       "    </tr>\n",
       "  </tbody>\n",
       "</table>\n",
       "</div>"
      ],
      "text/plain": [
       "                 index       data_type\n",
       "0                 time  datetime64[ns]\n",
       "1    Cy_Inlet_Gas_Temp          object\n",
       "2     Cy_Material_Temp          object\n",
       "3  Cy_Outlet_Gas_draft          object\n",
       "4        Cy_cone_draft          object\n",
       "5   Cy_Gas_Outlet_Temp          object\n",
       "6       Cy_Inlet_Draft          object"
      ]
     },
     "execution_count": 15,
     "metadata": {},
     "output_type": "execute_result"
    }
   ],
   "source": [
    "pd.DataFrame(data.dtypes,columns = ['data_type']).reset_index()"
   ]
  },
  {
   "cell_type": "markdown",
   "id": "6c54ac1c",
   "metadata": {},
   "source": [
    "## Data Cleaning"
   ]
  },
  {
   "cell_type": "code",
   "execution_count": 16,
   "id": "a21d6fbd",
   "metadata": {},
   "outputs": [
    {
     "data": {
      "text/plain": [
       "0         867.63\n",
       "1         879.23\n",
       "2         875.67\n",
       "3         875.28\n",
       "4         891.66\n",
       "           ...  \n",
       "377714    899.42\n",
       "377715     879.9\n",
       "377716     887.2\n",
       "377717     908.5\n",
       "377718    880.86\n",
       "Name: Cy_Inlet_Gas_Temp, Length: 377719, dtype: object"
      ]
     },
     "execution_count": 16,
     "metadata": {},
     "output_type": "execute_result"
    }
   ],
   "source": [
    "data['Cy_Inlet_Gas_Temp']"
   ]
  },
  {
   "cell_type": "code",
   "execution_count": 17,
   "id": "425f1f8c",
   "metadata": {},
   "outputs": [],
   "source": [
    "### Conversion of object Cy_Inlet_Gas_Temp column to numerical\n",
    "\n",
    "data['Cy_Inlet_Gas_Temp'] = pd.to_numeric(data['Cy_Inlet_Gas_Temp'], errors='coerce')"
   ]
  },
  {
   "cell_type": "code",
   "execution_count": 18,
   "id": "103381af",
   "metadata": {},
   "outputs": [
    {
     "data": {
      "text/plain": [
       "dtype('float64')"
      ]
     },
     "execution_count": 18,
     "metadata": {},
     "output_type": "execute_result"
    }
   ],
   "source": [
    "data['Cy_Inlet_Gas_Temp'].dtypes"
   ]
  },
  {
   "cell_type": "code",
   "execution_count": 19,
   "id": "b9500e58",
   "metadata": {},
   "outputs": [
    {
     "data": {
      "text/plain": [
       "0         910.42\n",
       "1         918.14\n",
       "2         924.18\n",
       "3         923.15\n",
       "4         934.26\n",
       "           ...  \n",
       "377714    919.79\n",
       "377715    895.02\n",
       "377716     895.7\n",
       "377717    916.33\n",
       "377718    905.31\n",
       "Name: Cy_Material_Temp, Length: 377719, dtype: object"
      ]
     },
     "execution_count": 19,
     "metadata": {},
     "output_type": "execute_result"
    }
   ],
   "source": [
    "data['Cy_Material_Temp']"
   ]
  },
  {
   "cell_type": "code",
   "execution_count": 20,
   "id": "46d69151",
   "metadata": {},
   "outputs": [],
   "source": [
    "### Conversion of object Cy_Material_Temp  column to numerical\n",
    "\n",
    "data['Cy_Material_Temp'] = pd.to_numeric(data['Cy_Material_Temp'], errors='coerce')"
   ]
  },
  {
   "cell_type": "code",
   "execution_count": 21,
   "id": "dd6da49a",
   "metadata": {},
   "outputs": [
    {
     "data": {
      "text/plain": [
       "dtype('float64')"
      ]
     },
     "execution_count": 21,
     "metadata": {},
     "output_type": "execute_result"
    }
   ],
   "source": [
    "data['Cy_Material_Temp'].dtypes"
   ]
  },
  {
   "cell_type": "code",
   "execution_count": 22,
   "id": "befad36b",
   "metadata": {},
   "outputs": [
    {
     "data": {
      "text/plain": [
       "0        -189.54\n",
       "1        -184.33\n",
       "2        -181.26\n",
       "3        -179.15\n",
       "4        -178.32\n",
       "           ...  \n",
       "377714   -224.07\n",
       "377715   -228.04\n",
       "377716   -230.11\n",
       "377717   -231.51\n",
       "377718   -235.02\n",
       "Name: Cy_Outlet_Gas_draft, Length: 377719, dtype: object"
      ]
     },
     "execution_count": 22,
     "metadata": {},
     "output_type": "execute_result"
    }
   ],
   "source": [
    "data['Cy_Outlet_Gas_draft']"
   ]
  },
  {
   "cell_type": "code",
   "execution_count": 23,
   "id": "57dade53",
   "metadata": {},
   "outputs": [],
   "source": [
    "### Conversion of object Cy_Outlet_Gas_draft column to numerical\n",
    "\n",
    "data['Cy_Outlet_Gas_draft'] = pd.to_numeric(data['Cy_Outlet_Gas_draft'], errors='coerce')"
   ]
  },
  {
   "cell_type": "code",
   "execution_count": 24,
   "id": "b74370ab",
   "metadata": {},
   "outputs": [
    {
     "data": {
      "text/plain": [
       "dtype('float64')"
      ]
     },
     "execution_count": 24,
     "metadata": {},
     "output_type": "execute_result"
    }
   ],
   "source": [
    "data['Cy_Outlet_Gas_draft'].dtypes"
   ]
  },
  {
   "cell_type": "code",
   "execution_count": 25,
   "id": "6fda868e",
   "metadata": {},
   "outputs": [
    {
     "data": {
      "text/plain": [
       "0        -186.04\n",
       "1         -182.1\n",
       "2        -166.47\n",
       "3        -174.83\n",
       "4        -173.72\n",
       "           ...  \n",
       "377714   -209.77\n",
       "377715   -211.28\n",
       "377716   -214.65\n",
       "377717   -218.09\n",
       "377718   -219.44\n",
       "Name: Cy_cone_draft, Length: 377719, dtype: object"
      ]
     },
     "execution_count": 25,
     "metadata": {},
     "output_type": "execute_result"
    }
   ],
   "source": [
    "data['Cy_cone_draft']"
   ]
  },
  {
   "cell_type": "code",
   "execution_count": 26,
   "id": "0f6a85ff",
   "metadata": {},
   "outputs": [],
   "source": [
    "### Conversion of object Cy_cone_draft column to numerical\n",
    "\n",
    "data['Cy_cone_draft'] = pd.to_numeric(data['Cy_cone_draft'], errors='coerce')"
   ]
  },
  {
   "cell_type": "code",
   "execution_count": 27,
   "id": "e6be6e18",
   "metadata": {},
   "outputs": [
    {
     "data": {
      "text/plain": [
       "dtype('float64')"
      ]
     },
     "execution_count": 27,
     "metadata": {},
     "output_type": "execute_result"
    }
   ],
   "source": [
    "data['Cy_cone_draft'].dtypes"
   ]
  },
  {
   "cell_type": "code",
   "execution_count": 28,
   "id": "29c53a3a",
   "metadata": {},
   "outputs": [
    {
     "data": {
      "text/plain": [
       "0         852.13\n",
       "1         862.53\n",
       "2         866.06\n",
       "3         865.85\n",
       "4         876.06\n",
       "           ...  \n",
       "377714    901.01\n",
       "377715    878.08\n",
       "377716    885.32\n",
       "377717     906.2\n",
       "377718     882.1\n",
       "Name: Cy_Gas_Outlet_Temp, Length: 377719, dtype: object"
      ]
     },
     "execution_count": 28,
     "metadata": {},
     "output_type": "execute_result"
    }
   ],
   "source": [
    "data['Cy_Gas_Outlet_Temp']"
   ]
  },
  {
   "cell_type": "code",
   "execution_count": 29,
   "id": "fbe9c37e",
   "metadata": {},
   "outputs": [],
   "source": [
    "### Conversion of object Cy_Gas_Outlet_Temp column to numerical\n",
    "\n",
    "data['Cy_Gas_Outlet_Temp'] = pd.to_numeric(data['Cy_Gas_Outlet_Temp'], errors='coerce')"
   ]
  },
  {
   "cell_type": "code",
   "execution_count": 30,
   "id": "e9dd3b1f",
   "metadata": {},
   "outputs": [
    {
     "data": {
      "text/plain": [
       "dtype('float64')"
      ]
     },
     "execution_count": 30,
     "metadata": {},
     "output_type": "execute_result"
    }
   ],
   "source": [
    "data['Cy_Gas_Outlet_Temp'].dtypes"
   ]
  },
  {
   "cell_type": "code",
   "execution_count": 31,
   "id": "dc31467a",
   "metadata": {},
   "outputs": [
    {
     "data": {
      "text/plain": [
       "0         -145.9\n",
       "1        -149.76\n",
       "2        -145.01\n",
       "3        -142.82\n",
       "4        -143.39\n",
       "           ...  \n",
       "377714   -175.15\n",
       "377715   -176.94\n",
       "377716   -179.18\n",
       "377717   -181.96\n",
       "377718   -184.02\n",
       "Name: Cy_Inlet_Draft, Length: 377719, dtype: object"
      ]
     },
     "execution_count": 31,
     "metadata": {},
     "output_type": "execute_result"
    }
   ],
   "source": [
    "data['Cy_Inlet_Draft']"
   ]
  },
  {
   "cell_type": "code",
   "execution_count": 32,
   "id": "71c6a1c2",
   "metadata": {},
   "outputs": [],
   "source": [
    "### Conversion of object Cy_Inlet_Draft column to numerical\n",
    "\n",
    "data['Cy_Inlet_Draft'] = pd.to_numeric(data['Cy_Inlet_Draft'], errors='coerce')"
   ]
  },
  {
   "cell_type": "code",
   "execution_count": 33,
   "id": "81c80366",
   "metadata": {},
   "outputs": [
    {
     "data": {
      "text/plain": [
       "dtype('float64')"
      ]
     },
     "execution_count": 33,
     "metadata": {},
     "output_type": "execute_result"
    }
   ],
   "source": [
    "data['Cy_Inlet_Draft'].dtypes"
   ]
  },
  {
   "cell_type": "code",
   "execution_count": 34,
   "id": "d977077b",
   "metadata": {},
   "outputs": [],
   "source": [
    "### Conversion of object Cy_Inlet_Draft column to numerical\n",
    "\n",
    "data['time'] = pd.to_numeric(data['time'], errors='coerce')"
   ]
  },
  {
   "cell_type": "code",
   "execution_count": 35,
   "id": "dbc9270a",
   "metadata": {},
   "outputs": [
    {
     "data": {
      "text/plain": [
       "dtype('int64')"
      ]
     },
     "execution_count": 35,
     "metadata": {},
     "output_type": "execute_result"
    }
   ],
   "source": [
    "data['time'].dtypes"
   ]
  },
  {
   "cell_type": "code",
   "execution_count": 36,
   "id": "99684feb",
   "metadata": {},
   "outputs": [
    {
     "data": {
      "text/html": [
       "<div>\n",
       "<style scoped>\n",
       "    .dataframe tbody tr th:only-of-type {\n",
       "        vertical-align: middle;\n",
       "    }\n",
       "\n",
       "    .dataframe tbody tr th {\n",
       "        vertical-align: top;\n",
       "    }\n",
       "\n",
       "    .dataframe thead th {\n",
       "        text-align: right;\n",
       "    }\n",
       "</style>\n",
       "<table border=\"1\" class=\"dataframe\">\n",
       "  <thead>\n",
       "    <tr style=\"text-align: right;\">\n",
       "      <th></th>\n",
       "      <th>index</th>\n",
       "      <th>data_type</th>\n",
       "    </tr>\n",
       "  </thead>\n",
       "  <tbody>\n",
       "    <tr>\n",
       "      <th>0</th>\n",
       "      <td>time</td>\n",
       "      <td>int64</td>\n",
       "    </tr>\n",
       "    <tr>\n",
       "      <th>1</th>\n",
       "      <td>Cy_Inlet_Gas_Temp</td>\n",
       "      <td>float64</td>\n",
       "    </tr>\n",
       "    <tr>\n",
       "      <th>2</th>\n",
       "      <td>Cy_Material_Temp</td>\n",
       "      <td>float64</td>\n",
       "    </tr>\n",
       "    <tr>\n",
       "      <th>3</th>\n",
       "      <td>Cy_Outlet_Gas_draft</td>\n",
       "      <td>float64</td>\n",
       "    </tr>\n",
       "    <tr>\n",
       "      <th>4</th>\n",
       "      <td>Cy_cone_draft</td>\n",
       "      <td>float64</td>\n",
       "    </tr>\n",
       "    <tr>\n",
       "      <th>5</th>\n",
       "      <td>Cy_Gas_Outlet_Temp</td>\n",
       "      <td>float64</td>\n",
       "    </tr>\n",
       "    <tr>\n",
       "      <th>6</th>\n",
       "      <td>Cy_Inlet_Draft</td>\n",
       "      <td>float64</td>\n",
       "    </tr>\n",
       "  </tbody>\n",
       "</table>\n",
       "</div>"
      ],
      "text/plain": [
       "                 index data_type\n",
       "0                 time     int64\n",
       "1    Cy_Inlet_Gas_Temp   float64\n",
       "2     Cy_Material_Temp   float64\n",
       "3  Cy_Outlet_Gas_draft   float64\n",
       "4        Cy_cone_draft   float64\n",
       "5   Cy_Gas_Outlet_Temp   float64\n",
       "6       Cy_Inlet_Draft   float64"
      ]
     },
     "execution_count": 36,
     "metadata": {},
     "output_type": "execute_result"
    }
   ],
   "source": [
    "pd.DataFrame(data.dtypes,columns = ['data_type']).reset_index()"
   ]
  },
  {
   "cell_type": "code",
   "execution_count": 37,
   "id": "70b7eb94",
   "metadata": {},
   "outputs": [
    {
     "data": {
      "text/html": [
       "<div>\n",
       "<style scoped>\n",
       "    .dataframe tbody tr th:only-of-type {\n",
       "        vertical-align: middle;\n",
       "    }\n",
       "\n",
       "    .dataframe tbody tr th {\n",
       "        vertical-align: top;\n",
       "    }\n",
       "\n",
       "    .dataframe thead th {\n",
       "        text-align: right;\n",
       "    }\n",
       "</style>\n",
       "<table border=\"1\" class=\"dataframe\">\n",
       "  <thead>\n",
       "    <tr style=\"text-align: right;\">\n",
       "      <th></th>\n",
       "      <th>time</th>\n",
       "      <th>Cy_Inlet_Gas_Temp</th>\n",
       "      <th>Cy_Material_Temp</th>\n",
       "      <th>Cy_Outlet_Gas_draft</th>\n",
       "      <th>Cy_cone_draft</th>\n",
       "      <th>Cy_Gas_Outlet_Temp</th>\n",
       "      <th>Cy_Inlet_Draft</th>\n",
       "    </tr>\n",
       "  </thead>\n",
       "  <tbody>\n",
       "    <tr>\n",
       "      <th>count</th>\n",
       "      <td>3.777190e+05</td>\n",
       "      <td>376399.000000</td>\n",
       "      <td>376128.000000</td>\n",
       "      <td>376398.000000</td>\n",
       "      <td>376399.000000</td>\n",
       "      <td>376398.000000</td>\n",
       "      <td>376397.000000</td>\n",
       "    </tr>\n",
       "    <tr>\n",
       "      <th>mean</th>\n",
       "      <td>1.540001e+18</td>\n",
       "      <td>727.348549</td>\n",
       "      <td>750.830483</td>\n",
       "      <td>-177.820685</td>\n",
       "      <td>-164.572619</td>\n",
       "      <td>715.759972</td>\n",
       "      <td>-141.302857</td>\n",
       "    </tr>\n",
       "    <tr>\n",
       "      <th>std</th>\n",
       "      <td>3.279899e+16</td>\n",
       "      <td>328.664814</td>\n",
       "      <td>350.921068</td>\n",
       "      <td>99.147236</td>\n",
       "      <td>90.103023</td>\n",
       "      <td>325.346446</td>\n",
       "      <td>77.615576</td>\n",
       "    </tr>\n",
       "    <tr>\n",
       "      <th>min</th>\n",
       "      <td>1.483229e+18</td>\n",
       "      <td>0.000000</td>\n",
       "      <td>-185.000000</td>\n",
       "      <td>-456.660000</td>\n",
       "      <td>-459.310000</td>\n",
       "      <td>13.790000</td>\n",
       "      <td>-396.370000</td>\n",
       "    </tr>\n",
       "    <tr>\n",
       "      <th>25%</th>\n",
       "      <td>1.511558e+18</td>\n",
       "      <td>856.270000</td>\n",
       "      <td>867.667500</td>\n",
       "      <td>-247.190000</td>\n",
       "      <td>-226.770000</td>\n",
       "      <td>801.960000</td>\n",
       "      <td>-193.510000</td>\n",
       "    </tr>\n",
       "    <tr>\n",
       "      <th>50%</th>\n",
       "      <td>1.539973e+18</td>\n",
       "      <td>882.380000</td>\n",
       "      <td>913.360000</td>\n",
       "      <td>-215.260000</td>\n",
       "      <td>-198.560000</td>\n",
       "      <td>871.525000</td>\n",
       "      <td>-169.460000</td>\n",
       "    </tr>\n",
       "    <tr>\n",
       "      <th>75%</th>\n",
       "      <td>1.568388e+18</td>\n",
       "      <td>901.110000</td>\n",
       "      <td>943.660000</td>\n",
       "      <td>-170.130000</td>\n",
       "      <td>-143.640000</td>\n",
       "      <td>899.300000</td>\n",
       "      <td>-136.290000</td>\n",
       "    </tr>\n",
       "    <tr>\n",
       "      <th>max</th>\n",
       "      <td>1.596802e+18</td>\n",
       "      <td>1157.630000</td>\n",
       "      <td>1375.000000</td>\n",
       "      <td>40.270000</td>\n",
       "      <td>488.860000</td>\n",
       "      <td>1375.000000</td>\n",
       "      <td>41.640000</td>\n",
       "    </tr>\n",
       "  </tbody>\n",
       "</table>\n",
       "</div>"
      ],
      "text/plain": [
       "               time  Cy_Inlet_Gas_Temp  Cy_Material_Temp  Cy_Outlet_Gas_draft  \\\n",
       "count  3.777190e+05      376399.000000     376128.000000        376398.000000   \n",
       "mean   1.540001e+18         727.348549        750.830483          -177.820685   \n",
       "std    3.279899e+16         328.664814        350.921068            99.147236   \n",
       "min    1.483229e+18           0.000000       -185.000000          -456.660000   \n",
       "25%    1.511558e+18         856.270000        867.667500          -247.190000   \n",
       "50%    1.539973e+18         882.380000        913.360000          -215.260000   \n",
       "75%    1.568388e+18         901.110000        943.660000          -170.130000   \n",
       "max    1.596802e+18        1157.630000       1375.000000            40.270000   \n",
       "\n",
       "       Cy_cone_draft  Cy_Gas_Outlet_Temp  Cy_Inlet_Draft  \n",
       "count  376399.000000       376398.000000   376397.000000  \n",
       "mean     -164.572619          715.759972     -141.302857  \n",
       "std        90.103023          325.346446       77.615576  \n",
       "min      -459.310000           13.790000     -396.370000  \n",
       "25%      -226.770000          801.960000     -193.510000  \n",
       "50%      -198.560000          871.525000     -169.460000  \n",
       "75%      -143.640000          899.300000     -136.290000  \n",
       "max       488.860000         1375.000000       41.640000  "
      ]
     },
     "execution_count": 37,
     "metadata": {},
     "output_type": "execute_result"
    }
   ],
   "source": [
    "data.describe()"
   ]
  },
  {
   "cell_type": "markdown",
   "id": "47cffa66",
   "metadata": {},
   "source": [
    "# split date and time"
   ]
  },
  {
   "cell_type": "code",
   "execution_count": 38,
   "id": "a9c53353",
   "metadata": {},
   "outputs": [
    {
     "name": "stdout",
     "output_type": "stream",
     "text": [
      "         date\n",
      "0  2017-01-01\n",
      "1  2017-01-08\n",
      "2  2017-01-15\n",
      "3  2017-01-22\n",
      "4  2017-01-29\n",
      "5  2017-02-05\n",
      "6  2017-02-12\n",
      "7  2017-02-19\n",
      "8  2017-02-26\n",
      "9  2017-03-05\n",
      "10 2017-03-12\n",
      "11 2017-03-19\n",
      "12 2017-03-26\n",
      "13 2017-04-02\n",
      "14 2017-04-09\n",
      "15 2017-04-16\n",
      "16 2017-04-23\n",
      "17 2017-04-30\n",
      "18 2017-05-07\n",
      "19 2017-05-14\n"
     ]
    }
   ],
   "source": [
    "data = pd.DataFrame()\n",
    "\n",
    "data['date'] = pd.date_range('2017-01-01 00:00:00', periods=20, freq='W')\n",
    "print(data)"
   ]
  },
  {
   "cell_type": "markdown",
   "id": "362fb337",
   "metadata": {},
   "source": [
    "## Creating the year column form date time stamp."
   ]
  },
  {
   "cell_type": "code",
   "execution_count": 39,
   "id": "16f06c37",
   "metadata": {},
   "outputs": [],
   "source": [
    " data['year'] = data['date'].dt.year"
   ]
  },
  {
   "cell_type": "markdown",
   "id": "2e735f05",
   "metadata": {},
   "source": [
    "## Creating the month column form date time stamp.\n"
   ]
  },
  {
   "cell_type": "code",
   "execution_count": 40,
   "id": "a1404b98",
   "metadata": {},
   "outputs": [],
   "source": [
    "data['month'] = data['date'].dt.month\n"
   ]
  },
  {
   "cell_type": "markdown",
   "id": "bf2984cb",
   "metadata": {},
   "source": [
    "## Creating the day column form date time stamp.\n"
   ]
  },
  {
   "cell_type": "code",
   "execution_count": 41,
   "id": "286b360f",
   "metadata": {},
   "outputs": [],
   "source": [
    "data['day'] = data['date'].dt.day"
   ]
  },
  {
   "cell_type": "markdown",
   "id": "6c57bf3d",
   "metadata": {},
   "source": [
    "## Creating the hour column form date time stamp."
   ]
  },
  {
   "cell_type": "code",
   "execution_count": 42,
   "id": "99c824d7",
   "metadata": {},
   "outputs": [],
   "source": [
    "data['hour'] = data['date'].dt.hour"
   ]
  },
  {
   "cell_type": "markdown",
   "id": "5b4b590a",
   "metadata": {},
   "source": [
    "## Creating the hour column form date time stamp."
   ]
  },
  {
   "cell_type": "code",
   "execution_count": 43,
   "id": "3797c297",
   "metadata": {},
   "outputs": [],
   "source": [
    "data['hour'] = data['date'].dt.hour\n"
   ]
  },
  {
   "cell_type": "code",
   "execution_count": 44,
   "id": "7ff91a21",
   "metadata": {},
   "outputs": [
    {
     "data": {
      "text/html": [
       "<div>\n",
       "<style scoped>\n",
       "    .dataframe tbody tr th:only-of-type {\n",
       "        vertical-align: middle;\n",
       "    }\n",
       "\n",
       "    .dataframe tbody tr th {\n",
       "        vertical-align: top;\n",
       "    }\n",
       "\n",
       "    .dataframe thead th {\n",
       "        text-align: right;\n",
       "    }\n",
       "</style>\n",
       "<table border=\"1\" class=\"dataframe\">\n",
       "  <thead>\n",
       "    <tr style=\"text-align: right;\">\n",
       "      <th></th>\n",
       "      <th>date</th>\n",
       "      <th>year</th>\n",
       "      <th>month</th>\n",
       "      <th>day</th>\n",
       "      <th>hour</th>\n",
       "    </tr>\n",
       "  </thead>\n",
       "  <tbody>\n",
       "    <tr>\n",
       "      <th>0</th>\n",
       "      <td>2017-01-01</td>\n",
       "      <td>2017</td>\n",
       "      <td>1</td>\n",
       "      <td>1</td>\n",
       "      <td>0</td>\n",
       "    </tr>\n",
       "    <tr>\n",
       "      <th>1</th>\n",
       "      <td>2017-01-08</td>\n",
       "      <td>2017</td>\n",
       "      <td>1</td>\n",
       "      <td>8</td>\n",
       "      <td>0</td>\n",
       "    </tr>\n",
       "    <tr>\n",
       "      <th>2</th>\n",
       "      <td>2017-01-15</td>\n",
       "      <td>2017</td>\n",
       "      <td>1</td>\n",
       "      <td>15</td>\n",
       "      <td>0</td>\n",
       "    </tr>\n",
       "    <tr>\n",
       "      <th>3</th>\n",
       "      <td>2017-01-22</td>\n",
       "      <td>2017</td>\n",
       "      <td>1</td>\n",
       "      <td>22</td>\n",
       "      <td>0</td>\n",
       "    </tr>\n",
       "    <tr>\n",
       "      <th>4</th>\n",
       "      <td>2017-01-29</td>\n",
       "      <td>2017</td>\n",
       "      <td>1</td>\n",
       "      <td>29</td>\n",
       "      <td>0</td>\n",
       "    </tr>\n",
       "    <tr>\n",
       "      <th>5</th>\n",
       "      <td>2017-02-05</td>\n",
       "      <td>2017</td>\n",
       "      <td>2</td>\n",
       "      <td>5</td>\n",
       "      <td>0</td>\n",
       "    </tr>\n",
       "    <tr>\n",
       "      <th>6</th>\n",
       "      <td>2017-02-12</td>\n",
       "      <td>2017</td>\n",
       "      <td>2</td>\n",
       "      <td>12</td>\n",
       "      <td>0</td>\n",
       "    </tr>\n",
       "    <tr>\n",
       "      <th>7</th>\n",
       "      <td>2017-02-19</td>\n",
       "      <td>2017</td>\n",
       "      <td>2</td>\n",
       "      <td>19</td>\n",
       "      <td>0</td>\n",
       "    </tr>\n",
       "    <tr>\n",
       "      <th>8</th>\n",
       "      <td>2017-02-26</td>\n",
       "      <td>2017</td>\n",
       "      <td>2</td>\n",
       "      <td>26</td>\n",
       "      <td>0</td>\n",
       "    </tr>\n",
       "    <tr>\n",
       "      <th>9</th>\n",
       "      <td>2017-03-05</td>\n",
       "      <td>2017</td>\n",
       "      <td>3</td>\n",
       "      <td>5</td>\n",
       "      <td>0</td>\n",
       "    </tr>\n",
       "    <tr>\n",
       "      <th>10</th>\n",
       "      <td>2017-03-12</td>\n",
       "      <td>2017</td>\n",
       "      <td>3</td>\n",
       "      <td>12</td>\n",
       "      <td>0</td>\n",
       "    </tr>\n",
       "    <tr>\n",
       "      <th>11</th>\n",
       "      <td>2017-03-19</td>\n",
       "      <td>2017</td>\n",
       "      <td>3</td>\n",
       "      <td>19</td>\n",
       "      <td>0</td>\n",
       "    </tr>\n",
       "    <tr>\n",
       "      <th>12</th>\n",
       "      <td>2017-03-26</td>\n",
       "      <td>2017</td>\n",
       "      <td>3</td>\n",
       "      <td>26</td>\n",
       "      <td>0</td>\n",
       "    </tr>\n",
       "    <tr>\n",
       "      <th>13</th>\n",
       "      <td>2017-04-02</td>\n",
       "      <td>2017</td>\n",
       "      <td>4</td>\n",
       "      <td>2</td>\n",
       "      <td>0</td>\n",
       "    </tr>\n",
       "    <tr>\n",
       "      <th>14</th>\n",
       "      <td>2017-04-09</td>\n",
       "      <td>2017</td>\n",
       "      <td>4</td>\n",
       "      <td>9</td>\n",
       "      <td>0</td>\n",
       "    </tr>\n",
       "    <tr>\n",
       "      <th>15</th>\n",
       "      <td>2017-04-16</td>\n",
       "      <td>2017</td>\n",
       "      <td>4</td>\n",
       "      <td>16</td>\n",
       "      <td>0</td>\n",
       "    </tr>\n",
       "    <tr>\n",
       "      <th>16</th>\n",
       "      <td>2017-04-23</td>\n",
       "      <td>2017</td>\n",
       "      <td>4</td>\n",
       "      <td>23</td>\n",
       "      <td>0</td>\n",
       "    </tr>\n",
       "    <tr>\n",
       "      <th>17</th>\n",
       "      <td>2017-04-30</td>\n",
       "      <td>2017</td>\n",
       "      <td>4</td>\n",
       "      <td>30</td>\n",
       "      <td>0</td>\n",
       "    </tr>\n",
       "    <tr>\n",
       "      <th>18</th>\n",
       "      <td>2017-05-07</td>\n",
       "      <td>2017</td>\n",
       "      <td>5</td>\n",
       "      <td>7</td>\n",
       "      <td>0</td>\n",
       "    </tr>\n",
       "    <tr>\n",
       "      <th>19</th>\n",
       "      <td>2017-05-14</td>\n",
       "      <td>2017</td>\n",
       "      <td>5</td>\n",
       "      <td>14</td>\n",
       "      <td>0</td>\n",
       "    </tr>\n",
       "  </tbody>\n",
       "</table>\n",
       "</div>"
      ],
      "text/plain": [
       "         date  year  month  day  hour\n",
       "0  2017-01-01  2017      1    1     0\n",
       "1  2017-01-08  2017      1    8     0\n",
       "2  2017-01-15  2017      1   15     0\n",
       "3  2017-01-22  2017      1   22     0\n",
       "4  2017-01-29  2017      1   29     0\n",
       "5  2017-02-05  2017      2    5     0\n",
       "6  2017-02-12  2017      2   12     0\n",
       "7  2017-02-19  2017      2   19     0\n",
       "8  2017-02-26  2017      2   26     0\n",
       "9  2017-03-05  2017      3    5     0\n",
       "10 2017-03-12  2017      3   12     0\n",
       "11 2017-03-19  2017      3   19     0\n",
       "12 2017-03-26  2017      3   26     0\n",
       "13 2017-04-02  2017      4    2     0\n",
       "14 2017-04-09  2017      4    9     0\n",
       "15 2017-04-16  2017      4   16     0\n",
       "16 2017-04-23  2017      4   23     0\n",
       "17 2017-04-30  2017      4   30     0\n",
       "18 2017-05-07  2017      5    7     0\n",
       "19 2017-05-14  2017      5   14     0"
      ]
     },
     "execution_count": 44,
     "metadata": {},
     "output_type": "execute_result"
    }
   ],
   "source": [
    "data"
   ]
  },
  {
   "cell_type": "code",
   "execution_count": 45,
   "id": "83a4f130",
   "metadata": {},
   "outputs": [],
   "source": [
    "data['date'] = pd.to_numeric(data['date'], errors='coerce')"
   ]
  },
  {
   "cell_type": "code",
   "execution_count": 46,
   "id": "7d0b1504",
   "metadata": {},
   "outputs": [
    {
     "data": {
      "text/plain": [
       "dtype('int64')"
      ]
     },
     "execution_count": 46,
     "metadata": {},
     "output_type": "execute_result"
    }
   ],
   "source": [
    "data['date'].dtypes"
   ]
  },
  {
   "cell_type": "code",
   "execution_count": 47,
   "id": "65e2d187",
   "metadata": {},
   "outputs": [],
   "source": [
    "data['year'] = pd.to_numeric(data['year'], errors='coerce')"
   ]
  },
  {
   "cell_type": "code",
   "execution_count": 48,
   "id": "95110f65",
   "metadata": {},
   "outputs": [
    {
     "data": {
      "text/plain": [
       "dtype('int64')"
      ]
     },
     "execution_count": 48,
     "metadata": {},
     "output_type": "execute_result"
    }
   ],
   "source": [
    "data['year'].dtypes"
   ]
  },
  {
   "cell_type": "code",
   "execution_count": 49,
   "id": "b598fb90",
   "metadata": {},
   "outputs": [],
   "source": [
    "data['month'] = pd.to_numeric(data['month'], errors='coerce')"
   ]
  },
  {
   "cell_type": "code",
   "execution_count": 50,
   "id": "c7222922",
   "metadata": {},
   "outputs": [
    {
     "data": {
      "text/plain": [
       "dtype('int64')"
      ]
     },
     "execution_count": 50,
     "metadata": {},
     "output_type": "execute_result"
    }
   ],
   "source": [
    "data['month'].dtypes"
   ]
  },
  {
   "cell_type": "code",
   "execution_count": 51,
   "id": "76dde416",
   "metadata": {},
   "outputs": [],
   "source": [
    "data['day'] = pd.to_numeric(data['day'], errors='coerce')"
   ]
  },
  {
   "cell_type": "code",
   "execution_count": 52,
   "id": "271087e4",
   "metadata": {},
   "outputs": [
    {
     "data": {
      "text/plain": [
       "dtype('int64')"
      ]
     },
     "execution_count": 52,
     "metadata": {},
     "output_type": "execute_result"
    }
   ],
   "source": [
    "data['day'].dtypes"
   ]
  },
  {
   "cell_type": "code",
   "execution_count": 53,
   "id": "4d1bc5d0",
   "metadata": {},
   "outputs": [],
   "source": [
    "data['hour'] = pd.to_numeric(data['hour'], errors='coerce')"
   ]
  },
  {
   "cell_type": "code",
   "execution_count": 54,
   "id": "8af3af33",
   "metadata": {},
   "outputs": [
    {
     "data": {
      "text/plain": [
       "dtype('int64')"
      ]
     },
     "execution_count": 54,
     "metadata": {},
     "output_type": "execute_result"
    }
   ],
   "source": [
    "data['hour'].dtypes"
   ]
  },
  {
   "cell_type": "code",
   "execution_count": 55,
   "id": "e8935364",
   "metadata": {},
   "outputs": [
    {
     "data": {
      "text/html": [
       "<div>\n",
       "<style scoped>\n",
       "    .dataframe tbody tr th:only-of-type {\n",
       "        vertical-align: middle;\n",
       "    }\n",
       "\n",
       "    .dataframe tbody tr th {\n",
       "        vertical-align: top;\n",
       "    }\n",
       "\n",
       "    .dataframe thead th {\n",
       "        text-align: right;\n",
       "    }\n",
       "</style>\n",
       "<table border=\"1\" class=\"dataframe\">\n",
       "  <thead>\n",
       "    <tr style=\"text-align: right;\">\n",
       "      <th></th>\n",
       "      <th>index</th>\n",
       "      <th>data_type</th>\n",
       "    </tr>\n",
       "  </thead>\n",
       "  <tbody>\n",
       "    <tr>\n",
       "      <th>0</th>\n",
       "      <td>date</td>\n",
       "      <td>int64</td>\n",
       "    </tr>\n",
       "    <tr>\n",
       "      <th>1</th>\n",
       "      <td>year</td>\n",
       "      <td>int64</td>\n",
       "    </tr>\n",
       "    <tr>\n",
       "      <th>2</th>\n",
       "      <td>month</td>\n",
       "      <td>int64</td>\n",
       "    </tr>\n",
       "    <tr>\n",
       "      <th>3</th>\n",
       "      <td>day</td>\n",
       "      <td>int64</td>\n",
       "    </tr>\n",
       "    <tr>\n",
       "      <th>4</th>\n",
       "      <td>hour</td>\n",
       "      <td>int64</td>\n",
       "    </tr>\n",
       "  </tbody>\n",
       "</table>\n",
       "</div>"
      ],
      "text/plain": [
       "   index data_type\n",
       "0   date     int64\n",
       "1   year     int64\n",
       "2  month     int64\n",
       "3    day     int64\n",
       "4   hour     int64"
      ]
     },
     "execution_count": 55,
     "metadata": {},
     "output_type": "execute_result"
    }
   ],
   "source": [
    "pd.DataFrame(data.dtypes,columns = ['data_type']).reset_index()"
   ]
  },
  {
   "cell_type": "markdown",
   "id": "9b2248ae",
   "metadata": {},
   "source": [
    "## EDA"
   ]
  },
  {
   "cell_type": "code",
   "execution_count": 56,
   "id": "ca8d6529",
   "metadata": {},
   "outputs": [
    {
     "data": {
      "text/plain": [
       "<seaborn.axisgrid.PairGrid at 0x1300e798130>"
      ]
     },
     "execution_count": 56,
     "metadata": {},
     "output_type": "execute_result"
    },
    {
     "data": {
      "image/png": "[encoded data removed]",
      "text/plain": [
       "<Figure size 900x900 with 30 Axes>"
      ]
     },
     "metadata": {
      "needs_background": "light"
     },
     "output_type": "display_data"
    }
   ],
   "source": [
    "sns.pairplot(data)"
   ]
  },
  {
   "cell_type": "code",
   "execution_count": 57,
   "id": "f1090d6d",
   "metadata": {},
   "outputs": [
    {
     "data": {
      "text/plain": [
       "<matplotlib.legend.Legend at 0x1300946c3d0>"
      ]
     },
     "execution_count": 57,
     "metadata": {},
     "output_type": "execute_result"
    },
    {
     "data": {
      "image/png": "[encoded data removed]",
      "text/plain": [
       "<Figure size 720x720 with 1 Axes>"
      ]
     },
     "metadata": {},
     "output_type": "display_data"
    }
   ],
   "source": [
    "plt.figure(figsize=(10,10))\n",
    "\n",
    "values = [145, 411, 34, 141, 25, 256,25]\n",
    "colors = ['peru','lightgreen','slategrey','lightpink','lightblue','coral','yellow',]\n",
    "labels = ['time','Cy_Inlet_Gas_Temp','Cy_Material_Temp','Cy_Outlet_Gas_draft','Cy_cone_draft','Cy_Gas_Outlet_Temp','Cy_Inlet_Draf']\n",
    "explode = (0, 0.1, 0, 0, 0, 0,0)\n",
    "plt.pie(values, colors=colors,labels= labels,explode=explode,shadow=True)\n",
    "plt.title('')\n",
    "plt.legend(labels,loc=0) \n",
    "\n"
   ]
  },
  {
   "cell_type": "code",
   "execution_count": 58,
   "id": "8f6ef748",
   "metadata": {},
   "outputs": [
    {
     "data": {
      "text/plain": [
       "pandas.core.frame.DataFrame"
      ]
     },
     "execution_count": 58,
     "metadata": {},
     "output_type": "execute_result"
    }
   ],
   "source": [
    "# Splitting the dataset into the Training set and Test set\n",
    "\n",
    "X = data.loc[:,data.columns!=\"Start_Tech_Oscar\"]\n",
    "type(X)"
   ]
  },
  {
   "cell_type": "code",
   "execution_count": 59,
   "id": "5002d01a",
   "metadata": {},
   "outputs": [
    {
     "data": {
      "text/html": [
       "<div>\n",
       "<style scoped>\n",
       "    .dataframe tbody tr th:only-of-type {\n",
       "        vertical-align: middle;\n",
       "    }\n",
       "\n",
       "    .dataframe tbody tr th {\n",
       "        vertical-align: top;\n",
       "    }\n",
       "\n",
       "    .dataframe thead th {\n",
       "        text-align: right;\n",
       "    }\n",
       "</style>\n",
       "<table border=\"1\" class=\"dataframe\">\n",
       "  <thead>\n",
       "    <tr style=\"text-align: right;\">\n",
       "      <th></th>\n",
       "      <th>date</th>\n",
       "      <th>year</th>\n",
       "      <th>month</th>\n",
       "      <th>day</th>\n",
       "      <th>hour</th>\n",
       "    </tr>\n",
       "  </thead>\n",
       "  <tbody>\n",
       "    <tr>\n",
       "      <th>0</th>\n",
       "      <td>1483228800000000000</td>\n",
       "      <td>2017</td>\n",
       "      <td>1</td>\n",
       "      <td>1</td>\n",
       "      <td>0</td>\n",
       "    </tr>\n",
       "    <tr>\n",
       "      <th>1</th>\n",
       "      <td>1483833600000000000</td>\n",
       "      <td>2017</td>\n",
       "      <td>1</td>\n",
       "      <td>8</td>\n",
       "      <td>0</td>\n",
       "    </tr>\n",
       "    <tr>\n",
       "      <th>2</th>\n",
       "      <td>1484438400000000000</td>\n",
       "      <td>2017</td>\n",
       "      <td>1</td>\n",
       "      <td>15</td>\n",
       "      <td>0</td>\n",
       "    </tr>\n",
       "    <tr>\n",
       "      <th>3</th>\n",
       "      <td>1485043200000000000</td>\n",
       "      <td>2017</td>\n",
       "      <td>1</td>\n",
       "      <td>22</td>\n",
       "      <td>0</td>\n",
       "    </tr>\n",
       "    <tr>\n",
       "      <th>4</th>\n",
       "      <td>1485648000000000000</td>\n",
       "      <td>2017</td>\n",
       "      <td>1</td>\n",
       "      <td>29</td>\n",
       "      <td>0</td>\n",
       "    </tr>\n",
       "  </tbody>\n",
       "</table>\n",
       "</div>"
      ],
      "text/plain": [
       "                  date  year  month  day  hour\n",
       "0  1483228800000000000  2017      1    1     0\n",
       "1  1483833600000000000  2017      1    8     0\n",
       "2  1484438400000000000  2017      1   15     0\n",
       "3  1485043200000000000  2017      1   22     0\n",
       "4  1485648000000000000  2017      1   29     0"
      ]
     },
     "execution_count": 59,
     "metadata": {},
     "output_type": "execute_result"
    }
   ],
   "source": [
    "X.head()"
   ]
  },
  {
   "cell_type": "code",
   "execution_count": 60,
   "id": "772458a0",
   "metadata": {},
   "outputs": [
    {
     "data": {
      "text/plain": [
       "(20, 5)"
      ]
     },
     "execution_count": 60,
     "metadata": {},
     "output_type": "execute_result"
    }
   ],
   "source": [
    "X.shape"
   ]
  },
  {
   "cell_type": "code",
   "execution_count": 61,
   "id": "88399708",
   "metadata": {},
   "outputs": [
    {
     "data": {
      "text/plain": [
       "pandas.core.frame.DataFrame"
      ]
     },
     "execution_count": 61,
     "metadata": {},
     "output_type": "execute_result"
    }
   ],
   "source": [
    "y = data.loc[:,data.columns!=\"Start_Tech_Oscar\"]\n",
    "type(y)"
   ]
  },
  {
   "cell_type": "code",
   "execution_count": 62,
   "id": "0721526c",
   "metadata": {},
   "outputs": [
    {
     "data": {
      "text/html": [
       "<div>\n",
       "<style scoped>\n",
       "    .dataframe tbody tr th:only-of-type {\n",
       "        vertical-align: middle;\n",
       "    }\n",
       "\n",
       "    .dataframe tbody tr th {\n",
       "        vertical-align: top;\n",
       "    }\n",
       "\n",
       "    .dataframe thead th {\n",
       "        text-align: right;\n",
       "    }\n",
       "</style>\n",
       "<table border=\"1\" class=\"dataframe\">\n",
       "  <thead>\n",
       "    <tr style=\"text-align: right;\">\n",
       "      <th></th>\n",
       "      <th>date</th>\n",
       "      <th>year</th>\n",
       "      <th>month</th>\n",
       "      <th>day</th>\n",
       "      <th>hour</th>\n",
       "    </tr>\n",
       "  </thead>\n",
       "  <tbody>\n",
       "    <tr>\n",
       "      <th>0</th>\n",
       "      <td>1483228800000000000</td>\n",
       "      <td>2017</td>\n",
       "      <td>1</td>\n",
       "      <td>1</td>\n",
       "      <td>0</td>\n",
       "    </tr>\n",
       "    <tr>\n",
       "      <th>1</th>\n",
       "      <td>1483833600000000000</td>\n",
       "      <td>2017</td>\n",
       "      <td>1</td>\n",
       "      <td>8</td>\n",
       "      <td>0</td>\n",
       "    </tr>\n",
       "    <tr>\n",
       "      <th>2</th>\n",
       "      <td>1484438400000000000</td>\n",
       "      <td>2017</td>\n",
       "      <td>1</td>\n",
       "      <td>15</td>\n",
       "      <td>0</td>\n",
       "    </tr>\n",
       "    <tr>\n",
       "      <th>3</th>\n",
       "      <td>1485043200000000000</td>\n",
       "      <td>2017</td>\n",
       "      <td>1</td>\n",
       "      <td>22</td>\n",
       "      <td>0</td>\n",
       "    </tr>\n",
       "    <tr>\n",
       "      <th>4</th>\n",
       "      <td>1485648000000000000</td>\n",
       "      <td>2017</td>\n",
       "      <td>1</td>\n",
       "      <td>29</td>\n",
       "      <td>0</td>\n",
       "    </tr>\n",
       "  </tbody>\n",
       "</table>\n",
       "</div>"
      ],
      "text/plain": [
       "                  date  year  month  day  hour\n",
       "0  1483228800000000000  2017      1    1     0\n",
       "1  1483833600000000000  2017      1    8     0\n",
       "2  1484438400000000000  2017      1   15     0\n",
       "3  1485043200000000000  2017      1   22     0\n",
       "4  1485648000000000000  2017      1   29     0"
      ]
     },
     "execution_count": 62,
     "metadata": {},
     "output_type": "execute_result"
    }
   ],
   "source": [
    "y.head()"
   ]
  },
  {
   "cell_type": "code",
   "execution_count": 63,
   "id": "944c5751",
   "metadata": {},
   "outputs": [
    {
     "data": {
      "text/plain": [
       "(20, 5)"
      ]
     },
     "execution_count": 63,
     "metadata": {},
     "output_type": "execute_result"
    }
   ],
   "source": [
    "y.shape"
   ]
  },
  {
   "cell_type": "code",
   "execution_count": 64,
   "id": "a6a17b25",
   "metadata": {},
   "outputs": [],
   "source": [
    "# Splitting the dataset into the Training set and Test set\n",
    "\n",
    "from sklearn.model_selection import train_test_split\n",
    "X_Train, X_Test, y_Train, y_Test, = train_test_split(X, y, test_size = 0.25, random_state = 0)"
   ]
  },
  {
   "cell_type": "code",
   "execution_count": 65,
   "id": "b9de527f",
   "metadata": {},
   "outputs": [
    {
     "name": "stdout",
     "output_type": "stream",
     "text": [
      "(15, 5)\n",
      "(15, 5)\n",
      "(5, 5)\n",
      "(5, 5)\n"
     ]
    }
   ],
   "source": [
    "# Check for the sampled data\n",
    "print(X_Train.shape)\n",
    "print(y_Train.shape)\n",
    "print(X_Test.shape)\n",
    "print(y_Test.shape)"
   ]
  },
  {
   "cell_type": "code",
   "execution_count": null,
   "id": "26a91135",
   "metadata": {},
   "outputs": [],
   "source": []
  },
  {
   "cell_type": "code",
   "execution_count": 66,
   "id": "10aad890",
   "metadata": {},
   "outputs": [],
   "source": [
    "# set target feature\n",
    "targetFeature='time'"
   ]
  },
  {
   "cell_type": "code",
   "execution_count": 70,
   "id": "ab83824d",
   "metadata": {},
   "outputs": [
    {
     "data": {
      "text/html": [
       "<div>\n",
       "<style scoped>\n",
       "    .dataframe tbody tr th:only-of-type {\n",
       "        vertical-align: middle;\n",
       "    }\n",
       "\n",
       "    .dataframe tbody tr th {\n",
       "        vertical-align: top;\n",
       "    }\n",
       "\n",
       "    .dataframe thead th {\n",
       "        text-align: right;\n",
       "    }\n",
       "</style>\n",
       "<table border=\"1\" class=\"dataframe\">\n",
       "  <thead>\n",
       "    <tr style=\"text-align: right;\">\n",
       "      <th></th>\n",
       "      <th>date</th>\n",
       "      <th>year</th>\n",
       "      <th>month</th>\n",
       "      <th>day</th>\n",
       "      <th>hour</th>\n",
       "    </tr>\n",
       "  </thead>\n",
       "  <tbody>\n",
       "    <tr>\n",
       "      <th>0</th>\n",
       "      <td>1483228800000000000</td>\n",
       "      <td>2017</td>\n",
       "      <td>1</td>\n",
       "      <td>1</td>\n",
       "      <td>0</td>\n",
       "    </tr>\n",
       "    <tr>\n",
       "      <th>1</th>\n",
       "      <td>1483833600000000000</td>\n",
       "      <td>2017</td>\n",
       "      <td>1</td>\n",
       "      <td>8</td>\n",
       "      <td>0</td>\n",
       "    </tr>\n",
       "    <tr>\n",
       "      <th>2</th>\n",
       "      <td>1484438400000000000</td>\n",
       "      <td>2017</td>\n",
       "      <td>1</td>\n",
       "      <td>15</td>\n",
       "      <td>0</td>\n",
       "    </tr>\n",
       "    <tr>\n",
       "      <th>3</th>\n",
       "      <td>1485043200000000000</td>\n",
       "      <td>2017</td>\n",
       "      <td>1</td>\n",
       "      <td>22</td>\n",
       "      <td>0</td>\n",
       "    </tr>\n",
       "    <tr>\n",
       "      <th>4</th>\n",
       "      <td>1485648000000000000</td>\n",
       "      <td>2017</td>\n",
       "      <td>1</td>\n",
       "      <td>29</td>\n",
       "      <td>0</td>\n",
       "    </tr>\n",
       "    <tr>\n",
       "      <th>5</th>\n",
       "      <td>1486252800000000000</td>\n",
       "      <td>2017</td>\n",
       "      <td>2</td>\n",
       "      <td>5</td>\n",
       "      <td>0</td>\n",
       "    </tr>\n",
       "    <tr>\n",
       "      <th>6</th>\n",
       "      <td>1486857600000000000</td>\n",
       "      <td>2017</td>\n",
       "      <td>2</td>\n",
       "      <td>12</td>\n",
       "      <td>0</td>\n",
       "    </tr>\n",
       "    <tr>\n",
       "      <th>7</th>\n",
       "      <td>1487462400000000000</td>\n",
       "      <td>2017</td>\n",
       "      <td>2</td>\n",
       "      <td>19</td>\n",
       "      <td>0</td>\n",
       "    </tr>\n",
       "    <tr>\n",
       "      <th>8</th>\n",
       "      <td>1488067200000000000</td>\n",
       "      <td>2017</td>\n",
       "      <td>2</td>\n",
       "      <td>26</td>\n",
       "      <td>0</td>\n",
       "    </tr>\n",
       "    <tr>\n",
       "      <th>9</th>\n",
       "      <td>1488672000000000000</td>\n",
       "      <td>2017</td>\n",
       "      <td>3</td>\n",
       "      <td>5</td>\n",
       "      <td>0</td>\n",
       "    </tr>\n",
       "    <tr>\n",
       "      <th>10</th>\n",
       "      <td>1489276800000000000</td>\n",
       "      <td>2017</td>\n",
       "      <td>3</td>\n",
       "      <td>12</td>\n",
       "      <td>0</td>\n",
       "    </tr>\n",
       "    <tr>\n",
       "      <th>11</th>\n",
       "      <td>1489881600000000000</td>\n",
       "      <td>2017</td>\n",
       "      <td>3</td>\n",
       "      <td>19</td>\n",
       "      <td>0</td>\n",
       "    </tr>\n",
       "    <tr>\n",
       "      <th>12</th>\n",
       "      <td>1490486400000000000</td>\n",
       "      <td>2017</td>\n",
       "      <td>3</td>\n",
       "      <td>26</td>\n",
       "      <td>0</td>\n",
       "    </tr>\n",
       "    <tr>\n",
       "      <th>13</th>\n",
       "      <td>1491091200000000000</td>\n",
       "      <td>2017</td>\n",
       "      <td>4</td>\n",
       "      <td>2</td>\n",
       "      <td>0</td>\n",
       "    </tr>\n",
       "    <tr>\n",
       "      <th>14</th>\n",
       "      <td>1491696000000000000</td>\n",
       "      <td>2017</td>\n",
       "      <td>4</td>\n",
       "      <td>9</td>\n",
       "      <td>0</td>\n",
       "    </tr>\n",
       "    <tr>\n",
       "      <th>15</th>\n",
       "      <td>1492300800000000000</td>\n",
       "      <td>2017</td>\n",
       "      <td>4</td>\n",
       "      <td>16</td>\n",
       "      <td>0</td>\n",
       "    </tr>\n",
       "    <tr>\n",
       "      <th>16</th>\n",
       "      <td>1492905600000000000</td>\n",
       "      <td>2017</td>\n",
       "      <td>4</td>\n",
       "      <td>23</td>\n",
       "      <td>0</td>\n",
       "    </tr>\n",
       "    <tr>\n",
       "      <th>17</th>\n",
       "      <td>1493510400000000000</td>\n",
       "      <td>2017</td>\n",
       "      <td>4</td>\n",
       "      <td>30</td>\n",
       "      <td>0</td>\n",
       "    </tr>\n",
       "    <tr>\n",
       "      <th>18</th>\n",
       "      <td>1494115200000000000</td>\n",
       "      <td>2017</td>\n",
       "      <td>5</td>\n",
       "      <td>7</td>\n",
       "      <td>0</td>\n",
       "    </tr>\n",
       "    <tr>\n",
       "      <th>19</th>\n",
       "      <td>1494720000000000000</td>\n",
       "      <td>2017</td>\n",
       "      <td>5</td>\n",
       "      <td>14</td>\n",
       "      <td>0</td>\n",
       "    </tr>\n",
       "  </tbody>\n",
       "</table>\n",
       "</div>"
      ],
      "text/plain": [
       "                   date  year  month  day  hour\n",
       "0   1483228800000000000  2017      1    1     0\n",
       "1   1483833600000000000  2017      1    8     0\n",
       "2   1484438400000000000  2017      1   15     0\n",
       "3   1485043200000000000  2017      1   22     0\n",
       "4   1485648000000000000  2017      1   29     0\n",
       "5   1486252800000000000  2017      2    5     0\n",
       "6   1486857600000000000  2017      2   12     0\n",
       "7   1487462400000000000  2017      2   19     0\n",
       "8   1488067200000000000  2017      2   26     0\n",
       "9   1488672000000000000  2017      3    5     0\n",
       "10  1489276800000000000  2017      3   12     0\n",
       "11  1489881600000000000  2017      3   19     0\n",
       "12  1490486400000000000  2017      3   26     0\n",
       "13  1491091200000000000  2017      4    2     0\n",
       "14  1491696000000000000  2017      4    9     0\n",
       "15  1492300800000000000  2017      4   16     0\n",
       "16  1492905600000000000  2017      4   23     0\n",
       "17  1493510400000000000  2017      4   30     0\n",
       "18  1494115200000000000  2017      5    7     0\n",
       "19  1494720000000000000  2017      5   14     0"
      ]
     },
     "execution_count": 70,
     "metadata": {},
     "output_type": "execute_result"
    }
   ],
   "source": [
    "data"
   ]
  },
  {
   "cell_type": "markdown",
   "id": "da2a3eee",
   "metadata": {},
   "source": [
    "## Multiple linear regression"
   ]
  },
  {
   "cell_type": "code",
   "execution_count": 67,
   "id": "ab0b19bd",
   "metadata": {},
   "outputs": [
    {
     "name": "stdout",
     "output_type": "stream",
     "text": [
      "Accuracy of model is 0.9542677889424258\n",
      "Mean Absolute Error: 0.5504411985684238\n",
      "Mean Squared Error: 2.0776708108144852\n",
      "Root Mean Squared Error: 1.4414127829371035\n"
     ]
    }
   ],
   "source": [
    "\n",
    "#Model 1= Multiple linear regression\n",
    "# fit a model\n",
    "from sklearn.linear_model import LinearRegression\n",
    "from sklearn.metrics import mean_squared_error\n",
    "from sklearn import metrics\n",
    "lm = LinearRegression()\n",
    "model1 = lm.fit(X_Train, y_Train)\n",
    "predictions1 = lm.predict(X_Test)\n",
    "m1=model1.score(X_Test, y_Test)\n",
    "RMSE1=np.sqrt(metrics.mean_squared_error(y_Test, predictions1))\n",
    "print('Accuracy of model is', model1.score(X_Test, y_Test))\n",
    "print('Mean Absolute Error:', metrics.mean_absolute_error(y_Test, predictions1))  \n",
    "print('Mean Squared Error:', metrics.mean_squared_error(y_Test, predictions1))  \n",
    "print('Root Mean Squared Error:', np.sqrt(metrics.mean_squared_error(y_Test, predictions1)))"
   ]
  },
  {
   "cell_type": "code",
   "execution_count": 90,
   "id": "ece1b198",
   "metadata": {},
   "outputs": [
    {
     "data": {
      "text/plain": [
       "<AxesSubplot:xlabel='year', ylabel='date'>"
      ]
     },
     "execution_count": 90,
     "metadata": {},
     "output_type": "execute_result"
    },
    {
     "data": {
      "image/png": "[encoded data removed]",
      "text/plain": [
       "<Figure size 432x288 with 1 Axes>"
      ]
     },
     "metadata": {
      "needs_background": "light"
     },
     "output_type": "display_data"
    }
   ],
   "source": [
    "sns.lineplot(data = data, x = 'year', y = 'date')"
   ]
  },
  {
   "cell_type": "markdown",
   "id": "8425be44",
   "metadata": {},
   "source": [
    "# LASSO Regression"
   ]
  },
  {
   "cell_type": "code",
   "execution_count": 68,
   "id": "89a13b79",
   "metadata": {},
   "outputs": [
    {
     "name": "stdout",
     "output_type": "stream",
     "text": [
      "Accuracy of model is 0.999936265700466\n",
      "Mean Absolute Error: 0.006328987276461503\n",
      "Mean Squared Error: 0.00018379417387786912\n",
      "Root Mean Squared Error: 0.013557070991842933\n"
     ]
    },
    {
     "name": "stderr",
     "output_type": "stream",
     "text": [
      "C:\\Users\\Shree\\anaconda3\\lib\\site-packages\\sklearn\\linear_model\\_coordinate_descent.py:530: ConvergenceWarning: Objective did not converge. You might want to increase the number of iterations. Duality gap: 0.0, tolerance: 0.0\n",
      "  model = cd_fast.enet_coordinate_descent(\n",
      "C:\\Users\\Shree\\anaconda3\\lib\\site-packages\\sklearn\\linear_model\\_coordinate_descent.py:530: ConvergenceWarning: Objective did not converge. You might want to increase the number of iterations. Duality gap: 0.03895856068348821, tolerance: 0.0021600000000000005\n",
      "  model = cd_fast.enet_coordinate_descent(\n"
     ]
    }
   ],
   "source": [
    "# Model 2: LASSO Model\n",
    "from sklearn.linear_model import Lasso\n",
    "from sklearn.metrics import mean_squared_error\n",
    "from sklearn import metrics\n",
    "las = Lasso(alpha=0.1)\n",
    "model2 = las.fit(X_Train, y_Train)\n",
    "predictions2 = las.predict(X_Test)\n",
    "m2=model2.score(X_Test, y_Test)\n",
    "RMSE2=np.sqrt(metrics.mean_squared_error(y_Test, predictions2))\n",
    "print('Accuracy of model is', model2.score(X_Test, y_Test))\n",
    "print('Mean Absolute Error:', metrics.mean_absolute_error(y_Test, predictions2))  \n",
    "print('Mean Squared Error:', metrics.mean_squared_error(y_Test, predictions2))  \n",
    "print('Root Mean Squared Error:', np.sqrt(metrics.mean_squared_error(y_Test, predictions2)))"
   ]
  },
  {
   "cell_type": "code",
   "execution_count": 91,
   "id": "9b6c8b7d",
   "metadata": {},
   "outputs": [
    {
     "data": {
      "image/png": "[encoded data removed]",
      "text/plain": [
       "<Figure size 432x288 with 1 Axes>"
      ]
     },
     "metadata": {
      "needs_background": "light"
     },
     "output_type": "display_data"
    }
   ],
   "source": [
    "data.hour.value_counts(normalize=True)\n",
    "\n",
    "data.day.value_counts(normalize=True).plot.barh()\n",
    "plt.show()\n"
   ]
  },
  {
   "cell_type": "markdown",
   "id": "3a4ec840",
   "metadata": {},
   "source": [
    "# RIDGE Regression"
   ]
  },
  {
   "cell_type": "code",
   "execution_count": 92,
   "id": "b70c0497",
   "metadata": {},
   "outputs": [
    {
     "name": "stdout",
     "output_type": "stream",
     "text": [
      "Accuracy of model is 0.0008091199916976377\n",
      "Mean Absolute Error: 0.032420075026172335\n",
      "Mean Squared Error: 0.007929578823745887\n",
      "Root Mean Squared Error: 0.08904818259653527\n"
     ]
    }
   ],
   "source": [
    "# Model 3: RIDGE Model\n",
    "from sklearn.linear_model import Ridge\n",
    "from sklearn.metrics import mean_squared_error\n",
    "from sklearn import metrics\n",
    "Rid = Ridge(alpha=0.1)\n",
    "model3 = Rid.fit(X_Train, y_Train)\n",
    "predictions3 = Rid.predict(X_Test)\n",
    "m3=model3.score(X_Test, y_Test)\n",
    "RMSE3=np.sqrt(metrics.mean_squared_error(y_Test, predictions3))\n",
    "print('Accuracy of model is', model3.score(X_Test, y_Test))\n",
    "print('Mean Absolute Error:', metrics.mean_absolute_error(y_Test, predictions3))  \n",
    "print('Mean Squared Error:', metrics.mean_squared_error(y_Test, predictions3))  \n",
    "print('Root Mean Squared Error:', np.sqrt(metrics.mean_squared_error(y_Test, predictions3)))"
   ]
  },
  {
   "cell_type": "code",
   "execution_count": 96,
   "id": "58ad8b3f",
   "metadata": {},
   "outputs": [
    {
     "data": {
      "text/plain": [
       "<seaborn.axisgrid.JointGrid at 0x13012a7f280>"
      ]
     },
     "execution_count": 96,
     "metadata": {},
     "output_type": "execute_result"
    },
    {
     "data": {
      "image/png": "[encoded data removed]",
      "text/plain": [
       "<Figure size 432x432 with 3 Axes>"
      ]
     },
     "metadata": {
      "needs_background": "light"
     },
     "output_type": "display_data"
    }
   ],
   "source": [
    "sns.jointplot(data=data, x=\"month\", y=\"year\" )"
   ]
  },
  {
   "cell_type": "markdown",
   "id": "b97b8f8e",
   "metadata": {},
   "source": [
    "# Random forest"
   ]
  },
  {
   "cell_type": "code",
   "execution_count": 99,
   "id": "bbb9ef44",
   "metadata": {},
   "outputs": [
    {
     "name": "stdout",
     "output_type": "stream",
     "text": [
      "Accuracy of model is -0.44747983870967767\n",
      "Mean Absolute Error: 0.029439999999999997\n",
      "Mean Squared Error: 0.011487200000000001\n",
      "Root Mean Squared Error: 0.10717835602396597\n"
     ]
    }
   ],
   "source": [
    "# Model 4: Random forest\n",
    "from sklearn.ensemble import RandomForestRegressor\n",
    "from sklearn.metrics import mean_squared_error\n",
    "from sklearn import metrics\n",
    "Rnd = RandomForestRegressor(ccp_alpha=0.0)\n",
    "model4 = Rnd.fit(X_Train, y_Train)\n",
    "predictions4 = Rnd.predict(X_Test)\n",
    "m4=model4.score(X_Test, y_Test)\n",
    "RMSE4=np.sqrt(metrics.mean_squared_error(y_Test, predictions4))\n",
    "print('Accuracy of model is', model4.score(X_Test, y_Test))\n",
    "print('Mean Absolute Error:', metrics.mean_absolute_error(y_Test, predictions4))  \n",
    "print('Mean Squared Error:', metrics.mean_squared_error(y_Test, predictions4))  \n",
    "print('Root Mean Squared Error:', np.sqrt(metrics.mean_squared_error(y_Test, predictions4)))"
   ]
  },
  {
   "cell_type": "code",
   "execution_count": 100,
   "id": "d2f8abf6",
   "metadata": {},
   "outputs": [
    {
     "name": "stderr",
     "output_type": "stream",
     "text": [
      "C:\\Users\\Shree\\anaconda3\\lib\\site-packages\\seaborn\\distributions.py:2557: FutureWarning: `distplot` is a deprecated function and will be removed in a future version. Please adapt your code to use either `displot` (a figure-level function with similar flexibility) or `histplot` (an axes-level function for histograms).\n",
      "  warnings.warn(msg, FutureWarning)\n",
      "C:\\Users\\Shree\\anaconda3\\lib\\site-packages\\seaborn\\distributions.py:306: UserWarning: Dataset has 0 variance; skipping density estimate.\n",
      "  warnings.warn(msg, UserWarning)\n"
     ]
    },
    {
     "data": {
      "text/plain": [
       "<AxesSubplot:xlabel='year', ylabel='Density'>"
      ]
     },
     "execution_count": 100,
     "metadata": {},
     "output_type": "execute_result"
    },
    {
     "data": {
      "image/png": "[encoded data removed]",
      "text/plain": [
       "<Figure size 432x288 with 1 Axes>"
      ]
     },
     "metadata": {
      "needs_background": "light"
     },
     "output_type": "display_data"
    }
   ],
   "source": [
    "sns.distplot(data.year)"
   ]
  },
  {
   "cell_type": "markdown",
   "id": "21896f56",
   "metadata": {},
   "source": [
    "# Decision tree "
   ]
  },
  {
   "cell_type": "code",
   "execution_count": 102,
   "id": "20990ac6",
   "metadata": {},
   "outputs": [
    {
     "name": "stdout",
     "output_type": "stream",
     "text": [
      "Accuracy of model is -4.040322580645162\n",
      "Mean Absolute Error: 0.04\n",
      "Mean Squared Error: 0.04\n",
      "Root Mean Squared Error: 0.2\n"
     ]
    }
   ],
   "source": [
    "# Model 5: Decision tree regression\n",
    "from sklearn.tree import DecisionTreeRegressor\n",
    "from sklearn.metrics import mean_squared_error\n",
    "from sklearn import metrics\n",
    "dtr = DecisionTreeRegressor(ccp_alpha=0.0)\n",
    "model5 = dtr.fit(X_Train, y_Train)\n",
    "predictions5 = dtr.predict(X_Test)\n",
    "m5=model5.score(X_Test,y_Test)\n",
    "RMSE5=np.sqrt(metrics.mean_squared_error(y_Test, predictions5))\n",
    "print('Accuracy of model is', model5.score(X_Test, y_Test))\n",
    "print('Mean Absolute Error:', metrics.mean_absolute_error(y_Test, predictions5))  \n",
    "print('Mean Squared Error:', metrics.mean_squared_error(y_Test, predictions5))  \n",
    "print('Root Mean Squared Error:', np.sqrt(metrics.mean_squared_error(y_Test, predictions5)))"
   ]
  },
  {
   "cell_type": "code",
   "execution_count": 103,
   "id": "141e567b",
   "metadata": {},
   "outputs": [
    {
     "data": {
      "image/png": "[encoded data removed]",
      "text/plain": [
       "<Figure size 432x288 with 1 Axes>"
      ]
     },
     "metadata": {
      "needs_background": "light"
     },
     "output_type": "display_data"
    }
   ],
   "source": [
    "plt.scatter(data.month,data.hour)\n",
    "plt.show()\n",
    "\n"
   ]
  },
  {
   "cell_type": "markdown",
   "id": "940f464c",
   "metadata": {},
   "source": [
    "# KNN "
   ]
  },
  {
   "cell_type": "code",
   "execution_count": 105,
   "id": "29874b9f",
   "metadata": {},
   "outputs": [
    {
     "name": "stdout",
     "output_type": "stream",
     "text": [
      "Accuracy of model is -0.7641129032258067\n",
      "Mean Absolute Error: 0.02\n",
      "Mean Squared Error: 0.014\n",
      "Root Mean Squared Error: 0.11832159566199232\n"
     ]
    }
   ],
   "source": [
    "# Model 6: KNN \n",
    "from sklearn.neighbors import KNeighborsRegressor\n",
    "from sklearn.metrics import mean_squared_error\n",
    "from sklearn import metrics\n",
    "knn = KNeighborsRegressor(n_neighbors=2)\n",
    "model6 = knn.fit(X_Train, y_Train)\n",
    "predictions6 = knn.predict(X_Test)\n",
    "m6=model6.score(X_Test, y_Test)\n",
    "RMSE6=np.sqrt(metrics.mean_squared_error(y_Test, predictions6))\n",
    "print('Accuracy of model is', model6.score(X_Test, y_Test))\n",
    "print('Mean Absolute Error:', metrics.mean_absolute_error(y_Test, predictions6))  \n",
    "print('Mean Squared Error:', metrics.mean_squared_error(y_Test, predictions6))  \n",
    "print('Root Mean Squared Error:', np.sqrt(metrics.mean_squared_error(y_Test, predictions6)))"
   ]
  },
  {
   "cell_type": "code",
   "execution_count": 107,
   "id": "123decd9",
   "metadata": {},
   "outputs": [
    {
     "name": "stderr",
     "output_type": "stream",
     "text": [
      "C:\\Users\\Shree\\anaconda3\\lib\\site-packages\\seaborn\\distributions.py:2557: FutureWarning: `distplot` is a deprecated function and will be removed in a future version. Please adapt your code to use either `displot` (a figure-level function with similar flexibility) or `histplot` (an axes-level function for histograms).\n",
      "  warnings.warn(msg, FutureWarning)\n",
      "C:\\Users\\Shree\\anaconda3\\lib\\site-packages\\numpy\\lib\\histograms.py:905: RuntimeWarning: invalid value encountered in true_divide\n",
      "  return n/db/n.sum(), bin_edges\n"
     ]
    },
    {
     "data": {
      "text/plain": [
       "<AxesSubplot:xlabel='month', ylabel='Density'>"
      ]
     },
     "execution_count": 107,
     "metadata": {},
     "output_type": "execute_result"
    },
    {
     "data": {
      "image/png": "[encoded data removed]",
      "text/plain": [
       "<Figure size 432x288 with 1 Axes>"
      ]
     },
     "metadata": {
      "needs_background": "light"
     },
     "output_type": "display_data"
    }
   ],
   "source": [
    "sns.distplot(data.month,data.year)"
   ]
  },
  {
   "cell_type": "markdown",
   "id": "ccd33b05",
   "metadata": {},
   "source": [
    "# SVM "
   ]
  },
  {
   "cell_type": "code",
   "execution_count": 108,
   "id": "af8e0b30",
   "metadata": {},
   "outputs": [
    {
     "name": "stdout",
     "output_type": "stream",
     "text": [
      "Accuracy of model is -1.058569527688785\n",
      "Mean Absolute Error: 0.10607818069485928\n",
      "Mean Squared Error: 0.016336807771738196\n",
      "Root Mean Squared Error: 0.1278155224209415\n"
     ]
    }
   ],
   "source": [
    "# Model 7: SVM regression\n",
    "from sklearn import svm\n",
    "from sklearn.metrics import mean_squared_error\n",
    "from sklearn import metrics\n",
    "svm= svm.SVR(kernel='linear')\n",
    "model7 = svm.fit(X_Train, y_Train)\n",
    "predictions7 = svm.predict(X_Test)\n",
    "m7=model7.score(X_Test, y_Test)\n",
    "RMSE7=np.sqrt(metrics.mean_squared_error(y_Test, predictions7))\n",
    "print('Accuracy of model is', model7.score(X_Test, y_Test))\n",
    "print('Mean Absolute Error:', metrics.mean_absolute_error(y_Test, predictions7))  \n",
    "print('Mean Squared Error:', metrics.mean_squared_error(y_Test, predictions7))  \n",
    "print('Root Mean Squared Error:', np.sqrt(metrics.mean_squared_error(y_Test, predictions7)))"
   ]
  },
  {
   "cell_type": "code",
   "execution_count": 110,
   "id": "8f9efe83",
   "metadata": {},
   "outputs": [
    {
     "data": {
      "image/png": "[encoded data removed]",
      "text/plain": [
       "<Figure size 432x288 with 1 Axes>"
      ]
     },
     "metadata": {
      "needs_background": "light"
     },
     "output_type": "display_data"
    }
   ],
   "source": [
    "data.year.value_counts(normalize=True)\n",
    "\n",
    "data.day.value_counts(normalize=True).plot.barh()\n",
    "plt.show()\n"
   ]
  },
  {
   "cell_type": "code",
   "execution_count": null,
   "id": "cb5982db",
   "metadata": {},
   "outputs": [],
   "source": []
  },
  {
   "cell_type": "code",
   "execution_count": 111,
   "id": "0cf28081",
   "metadata": {},
   "outputs": [
    {
     "data": {
      "image/png": "[encoded data removed]",
      "text/plain": [
       "<Figure size 1080x360 with 1 Axes>"
      ]
     },
     "metadata": {
      "needs_background": "light"
     },
     "output_type": "display_data"
    }
   ],
   "source": [
    "# Model Comparison\n",
    "height = [RMSE1, RMSE2, RMSE3, RMSE4, RMSE5, RMSE6, RMSE7]\n",
    "bars = ('Linear', 'Lasso', 'Ridge', 'Random_Forest', 'Decision_Tree', 'KNN', 'SVM')\n",
    "plt.figure(figsize=(15,5))\n",
    "plt.bar(bars,height,color=colors)\n",
    "plt.xticks(rotation=60)\n",
    "plt.xlabel('Models')\n",
    "plt.ylabel('RMSE')\n",
    "plt.show()"
   ]
  },
  {
   "cell_type": "code",
   "execution_count": null,
   "id": "be35491e",
   "metadata": {},
   "outputs": [],
   "source": []
  }
 ],
 "metadata": {
  "kernelspec": {
   "display_name": "Python 3",
   "language": "python",
   "name": "python3"
  },
  "language_info": {
   "codemirror_mode": {
    "name": "ipython",
    "version": 3
   },
   "file_extension": ".py",
   "mimetype": "text/x-python",
   "name": "python",
   "nbconvert_exporter": "python",
   "pygments_lexer": "ipython3",
   "version": "3.8.8"
  }
 },
 "nbformat": 4,
 "nbformat_minor": 5
}
